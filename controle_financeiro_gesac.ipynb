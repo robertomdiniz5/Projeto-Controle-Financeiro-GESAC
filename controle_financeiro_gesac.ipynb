{
  "cells": [
    {
      "cell_type": "code",
      "execution_count": 215,
      "metadata": {
        "id": "oJHobPvxHmCO"
      },
      "outputs": [],
      "source": [
        "import pandas as pd\n",
        "import numpy as np\n",
        "import regex as re\n",
        "from datetime import datetime\n",
        "from time import time\n",
        "from math import ceil\n",
        "from datetime import timedelta\n",
        "import unicodedata  "
      ]
    },
    {
      "cell_type": "code",
      "execution_count": null,
      "metadata": {},
      "outputs": [],
      "source": []
    },
    {
      "cell_type": "code",
      "execution_count": 216,
      "metadata": {
        "colab": {
          "base_uri": "https://localhost:8080/"
        },
        "id": "LK6KkF7qpiTu",
        "outputId": "4b75bbd7-6d74-4cb0-c8cb-ec7eb1807e18"
      },
      "outputs": [
        {
          "name": "stderr",
          "output_type": "stream",
          "text": [
            "/home/roberto/.local/lib/python3.10/site-packages/openpyxl/worksheet/_reader.py:312: UserWarning: Conditional Formatting extension is not supported and will be removed\n",
            "  warn(msg)\n",
            "/home/roberto/.local/lib/python3.10/site-packages/openpyxl/worksheet/_reader.py:312: UserWarning: Slicer List extension is not supported and will be removed\n",
            "  warn(msg)\n"
          ]
        },
        {
          "name": "stdout",
          "output_type": "stream",
          "text": [
            "Time: This code took 476 seconds to run.\n"
          ]
        }
      ],
      "source": [
        "df_names =[\n",
        "('df_an', 'AnalíticoNC'),\n",
        "('df_sn', 'SintéticoNC'),\n",
        "('df_ic', 'ÍndiceCorreção'),\n",
        "('df_pr', 'Proponentes')]\n",
        "\n",
        "#df_an\n",
        "df_an = pd.read_excel(excel_file1, sheet_name=df_names[0][1],\n",
        "usecols=\"B:J\", skiprows=1,parse_dates=True)\n",
        "#df_sn\n",
        "df_sn = pd.read_excel(excel_file1, sheet_name=df_names[1][1],\n",
        "usecols=\"B:J\", skiprows=3,parse_dates=True)\n",
        "#df_ic\n",
        "df_ic = pd.read_excel(excel_file1, sheet_name=df_names[2][1],\n",
        "skiprows=1,usecols=\"B:E\")\n",
        "#df_pr\n",
        "df_pr = pd.read_excel(excel_file2, sheet_name=df_names[3][1])\n",
        "##----------------------------------------------------------\n",
        "end_time = time(); print(f'Time: This code took {ceil(end_time-start_time)} seconds to run.'); total_time = end_time-start_time"
      ]
    },
    {
      "cell_type": "code",
      "execution_count": 217,
      "metadata": {
        "colab": {
          "base_uri": "https://localhost:8080/"
        },
        "id": "ITyNEaULpiTw",
        "outputId": "3117a5d4-fc0c-4989-d27e-01f8bec96bb4"
      },
      "outputs": [
        {
          "name": "stdout",
          "output_type": "stream",
          "text": [
            "Time: This code took 1 seconds to run.\n"
          ]
        },
        {
          "data": {
            "text/plain": [
              "[(('df_an', 'AnalíticoNC'),\n",
              "  ['proponente',\n",
              "   'nota_de_credito',\n",
              "   'programa',\n",
              "   'mes',\n",
              "   'valor_faturado',\n",
              "   'valor_economizado',\n",
              "   'valor_utilizado',\n",
              "   'saldo_no_periodo',\n",
              "   'relatorio']),\n",
              " (('df_sn', 'SintéticoNC'),\n",
              "  ['nc',\n",
              "   'proponente',\n",
              "   'programa',\n",
              "   'empenho',\n",
              "   'valor_inicial_nc',\n",
              "   'valor_utilizado',\n",
              "   'valor_economizado',\n",
              "   'saldo',\n",
              "   'consumo_da_nc_%']),\n",
              " (('df_ic', 'ÍndiceCorreção'),\n",
              "  ['mes', 'indice_de_correcao', 'taxa_selic', 'observacao']),\n",
              " (('df_pr', 'Proponentes'),\n",
              "  ['prop_pk1',\n",
              "   'uf',\n",
              "   'partido',\n",
              "   'orgao',\n",
              "   'prop_1',\n",
              "   'prop_2',\n",
              "   'prop_3',\n",
              "   'prop_4'])]"
            ]
          },
          "execution_count": 217,
          "metadata": {},
          "output_type": "execute_result"
        }
      ],
      "source": [
        "start_time = time()\n",
        "\n",
        "#----------------------------------------------------------------\n",
        "\"\"\"\n",
        "df_names =[\n",
        "('df_an', 'AnalíticoNC'),\n",
        "('df_sn', 'SintéticoNC'),\n",
        "('df_ic', 'ÍndiceCorreção'),\n",
        "('df_pr', 'Proponentes')]\"\"\"\n",
        "#put in the same order to make build the dictionary with data names\n",
        "dfs = [\n",
        "    df_an,\n",
        "    df_sn, \n",
        "    df_ic, \n",
        "    df_pr]\n",
        "#----------------------------------------------------------------\n",
        "def strip_accents(cln):\n",
        "   cln = str(cln)\n",
        "   return ''.join(c for c in unicodedata.normalize('NFD', cln)if unicodedata.category(c) != 'Mn')\n",
        "\n",
        "def clean_column_name(cln):\n",
        "    return strip_accents(cln.strip('[]()').lower().replace(' ','_'))\n",
        "\n",
        "def rename_df(df):\n",
        "    new_cln = [clean_column_name(cln) for cln in df.columns.values]\n",
        "    old_cln = [cln for cln in df.columns.values]\n",
        "    dct = dict(zip(old_cln, new_cln))\n",
        "    df.rename(columns=dct,inplace=True)\n",
        "    lst_df_clns.append(new_cln)\n",
        "    return df\n",
        "lst_df_clns = []\n",
        "for df in dfs:\n",
        "    rename_df(df)\n",
        "\n",
        "end_time = time(); print(f'Time: This code took {ceil(end_time-start_time)} seconds to run.'); total_time = end_time-start_time\n",
        "df_names = list(zip(df_names,lst_df_clns))\n",
        "df_names"
      ]
    },
    {
      "cell_type": "code",
      "execution_count": 218,
      "metadata": {
        "colab": {
          "base_uri": "https://localhost:8080/"
        },
        "id": "-AHwQnIBHmCV",
        "outputId": "7beda762-590e-41a5-a899-da4456c61656"
      },
      "outputs": [
        {
          "name": "stdout",
          "output_type": "stream",
          "text": [
            "Time: This code took 1 seconds to run.\n"
          ]
        }
      ],
      "source": [
        "start_time = time()\n",
        "# criando função 'regexing' p/ subst. nomes abreviados de forma a normalizar as strings\n",
        "def regexing(s):\n",
        "    lst = [\n",
        "    ('PRF ','POLICIA RODOVIARIA FEDERAL '),\n",
        "    ('DEP. FEDERAL ', ''),\n",
        "    ('MCOM ', 'MINISTERIO DAS COMUNICACOES '),\n",
        "    ('DEP. FEDERAL', ''),\n",
        "    ('PRF ','POLICIA RODOVIARIA FEDERAL '),\n",
        "    ('MIN. ','MINISTERIO '),\n",
        "    ('SENADORA ',''),\n",
        "    ('SENADOR ',''),\n",
        "    ]\n",
        "    for string in lst:\n",
        "        return re.sub(string[0],string[1],s)\n",
        "\n",
        "\n",
        "\n",
        "lst_proponente = []\n",
        "\n",
        "for index, prop in enumerate(df_pr['prop_pk1']):\n",
        "    if df_pr['orgao'][index] == \"senado\":\n",
        "        lst_proponente.append('SEN. ' + prop)\n",
        "    elif  df_pr['orgao'][index] == \"camara\":\n",
        "        lst_proponente.append('DEP. ' + prop)\n",
        "    else: \n",
        "        lst_proponente.append(prop)\n",
        "\n",
        "df_pr['prop_pk2'] = lst_proponente\n",
        "\n",
        "end_time = time(); print(f'Time: This code took {ceil(end_time-start_time)} seconds to run.'); total_time += end_time-start_time\n",
        "#Time: This code took 1 seconds to run."
      ]
    },
    {
      "cell_type": "code",
      "execution_count": 219,
      "metadata": {
        "colab": {
          "base_uri": "https://localhost:8080/"
        },
        "id": "_8VdFDvMUMIS",
        "outputId": "0f018bc7-02ea-4f1c-806f-381c6b4abe15"
      },
      "outputs": [
        {
          "name": "stdout",
          "output_type": "stream",
          "text": [
            "Time: This code took 1 seconds to run.\n"
          ]
        }
      ],
      "source": [
        "start_time = time()\n",
        "\n",
        "#fazendo o loop sobre a lista acima para aplicar as funções que normalizam a coluna com as chaves dos proponentes\n",
        "lst_df = [df_sn, df_an]\n",
        "for df in lst_df: \n",
        "    df['proponente'] = df['proponente'].apply(lambda x:strip_accents(x).upper()).apply(lambda x:regexing(x))\n",
        "    df['proponente'] = df['proponente'].apply(lambda x:str(x).strip())\n",
        "#\n",
        "lst_pr = (df_pr['prop_pk1'], df_pr['prop_1'],df_pr['prop_2'], df_pr['prop_3'],df_pr['prop_4'])\n",
        "#df_sn['proponente'] = df_sn['proponente'].apply(lambda x:strip_accents(x).upper()).apply(lambda x:regexing(x))\n",
        "#df_sn['proponente'] = df_sn['proponente'].apply(lambda x:str(x).strip())\n",
        "for cln in lst_pr:\n",
        "    cln = cln.apply(lambda x:strip_accents(x).upper()).apply(lambda x:regexing(x))\n",
        "    \n",
        "end_time = time(); print(f'Time: This code took {ceil(end_time-start_time)} seconds to run.'); total_time += end_time-start_time"
      ]
    },
    {
      "cell_type": "markdown",
      "metadata": {
        "id": "mx4mO4bWHmCT"
      },
      "source": [
        "O objetivo inicial do projeto foi limpar os dados relacionados ao os proponentes com a criação de uma coluna nova referente ao nome civil do proponente para que esses valores pudessem ser usados como chave entre diferentes tabelas que serao parametrizadas entre si."
      ]
    },
    {
      "cell_type": "code",
      "execution_count": 220,
      "metadata": {
        "colab": {
          "base_uri": "https://localhost:8080/"
        },
        "id": "FnvJm9-8pfCz",
        "outputId": "b63adca6-3fd5-4bd4-893c-cf1dfdf78191"
      },
      "outputs": [
        {
          "name": "stdout",
          "output_type": "stream",
          "text": [
            "Time: This code took 2 seconds to run.\n"
          ]
        }
      ],
      "source": [
        "start_time = time()\n",
        "\n",
        "#criando lista dos DataFrames pelo qual o loop passara \n",
        "dfs = (df_sn, df_an)\n",
        "\n",
        "#criando as colunas das primary_keys nos 3 dataframes\n",
        "for df in dfs:\n",
        "    df['prop_pk1'] = ''\n",
        "    df['prop_pk2'] = ''\n",
        "    \n",
        "#criando lista das colunas referente ao nome dos proponentes \n",
        "def filter_key(x):\n",
        "    return (x == lst_pr[0])|(x==lst_pr[1])|(x==lst_pr[2])|(x==lst_pr[3])\n",
        "\n",
        "for df in lst_df:\n",
        "    lst_prop_pk1 = []\n",
        "    lst_prop_pk2= []\n",
        "    for index,value in enumerate(df.proponente):\n",
        "        filt_finding_key =  filter_key(df.proponente.iloc[index])\n",
        "        result1 = str(df_pr.loc[filt_finding_key].prop_pk1.values).strip(\"[']\")\n",
        "        result2 = str(df_pr.loc[filt_finding_key].prop_pk2.values).strip(\"[']\")\n",
        "        lst_prop_pk1.append(result1)\n",
        "        lst_prop_pk2.append(result2)\n",
        "    df['prop_pk1'] = lst_prop_pk1\n",
        "    df['prop_pk2'] = lst_prop_pk2\n",
        "\n",
        "end_time = time(); print(f'Time: This code took {ceil(end_time-start_time)} seconds to run.'); total_time += end_time-start_time"
      ]
    },
    {
      "cell_type": "code",
      "execution_count": 221,
      "metadata": {
        "colab": {
          "base_uri": "https://localhost:8080/",
          "height": 337
        },
        "id": "-2klq1mcUMIQ",
        "outputId": "dccd9d2f-8d52-4e99-d4d0-c19f180c7cc8"
      },
      "outputs": [],
      "source": [
        "#cleaning analitic sintetic rows\n",
        "\n",
        "lst = ['SUBTOTAL','TOTAL','NAN']\n",
        "\n",
        "for value in lst:\n",
        "    df_sn = df_sn.loc[df_sn['proponente'] == value ]  \n",
        "    \n",
        "df_sn.fillna(0,inplace=True)\n",
        "df_an.fillna(0,inplace=True)"
      ]
    },
    {
      "cell_type": "code",
      "execution_count": 222,
      "metadata": {},
      "outputs": [
        {
          "name": "stdout",
          "output_type": "stream",
          "text": [
            "The loop is ok!\n",
            "The loop is ok!\n"
          ]
        }
      ],
      "source": [
        "dfs = [df_an, df_ic]\n",
        "\n",
        "for index,df in enumerate(dfs): \n",
        "    meses = [mes for mes in df.mes.unique()]\n",
        "    n_mes = ['01/2021','02/2021','03/2021','04/2021','05/2021','06/2021','07/2021','08/2021','09/2021','10/2021','11/2021','12/2021']\n",
        "    meses = list(zip(meses, n_mes))\n",
        "\n",
        "    for index,value in enumerate(meses):\n",
        "        df['mes'].replace(meses[index][0],meses[index][1],inplace=True)\n",
        "\n",
        "\n",
        "    df['mes']= pd.to_datetime(df['mes'])\n",
        "    if (df.mes.dtype == '<M8[ns]') == True:\n",
        "        print(f'The loop is ok!')\n",
        "        \n",
        "    else: print('The loops is broke!')\n",
        "    \n",
        "#df_an['mes'] = pd.to_datetime(df_an['mes'])"
      ]
    },
    {
      "cell_type": "code",
      "execution_count": 223,
      "metadata": {
        "colab": {
          "base_uri": "https://localhost:8080/"
        },
        "id": "99JeittPpiTz",
        "outputId": "29a7dc17-cfdc-48a4-b8da-0c9b62e9d369"
      },
      "outputs": [
        {
          "name": "stdout",
          "output_type": "stream",
          "text": [
            "DF COM OS PROPONENTES QUE NÃO APRESENTARAM CORRESPONDÊNCIA COM A COLUNA DO NOME CIVIL:\n",
            "Time: This code took 1 seconds to run.\n"
          ]
        },
        {
          "data": {
            "text/html": [
              "<div>\n",
              "<style scoped>\n",
              "    .dataframe tbody tr th:only-of-type {\n",
              "        vertical-align: middle;\n",
              "    }\n",
              "\n",
              "    .dataframe tbody tr th {\n",
              "        vertical-align: top;\n",
              "    }\n",
              "\n",
              "    .dataframe thead th {\n",
              "        text-align: right;\n",
              "    }\n",
              "</style>\n",
              "<table border=\"1\" class=\"dataframe\">\n",
              "  <thead>\n",
              "    <tr style=\"text-align: right;\">\n",
              "      <th></th>\n",
              "      <th>prop_nokey</th>\n",
              "      <th>prop_pk1</th>\n",
              "      <th>orgao</th>\n",
              "      <th>uf</th>\n",
              "      <th>partido</th>\n",
              "    </tr>\n",
              "  </thead>\n",
              "  <tbody>\n",
              "  </tbody>\n",
              "</table>\n",
              "</div>"
            ],
            "text/plain": [
              "Empty DataFrame\n",
              "Columns: [prop_nokey, prop_pk1, orgao, uf, partido]\n",
              "Index: []"
            ]
          },
          "execution_count": 223,
          "metadata": {},
          "output_type": "execute_result"
        }
      ],
      "source": [
        "#checando se tem dfs sem prop_pk \n",
        "start_time = time()\n",
        "\n",
        "dfs  = [df_an, df_sn]\n",
        "lst_no_cv_name = []\n",
        "for df in dfs:\n",
        "    for index, value in enumerate(df.loc[df.prop_pk1==''].proponente.values):\n",
        "        if value not in lst_no_cv_name:\n",
        "            lst_no_cv_name.append(df.loc[df.prop_pk1==''].proponente.values[index])\n",
        "        else:pass\n",
        "\n",
        "print('DF COM OS PROPONENTES QUE NÃO APRESENTARAM CORRESPONDÊNCIA COM A COLUNA DO NOME CIVIL:')\n",
        "df_pr_nokey = pd.DataFrame()\n",
        "df_pr_nokey['prop_nokey']= lst_no_cv_name\n",
        "df_pr_nokey['prop_pk1']= ''\n",
        "df_pr_nokey['orgao']=''\n",
        "df_pr_nokey['uf']=''\n",
        "df_pr_nokey['partido']=''\n",
        "\n",
        "save = False\n",
        "if save == True:\n",
        "    df_pr_nokey.to_csv('ignore_prop_with_no_key.csv')\n",
        "else:pass\n",
        "\n",
        "end_time = time(); print(f'Time: This code took {ceil(end_time-start_time)} seconds to run.'); total_time += end_time-start_time\n",
        "df_pr_nokey"
      ]
    },
    {
      "cell_type": "code",
      "execution_count": 225,
      "metadata": {},
      "outputs": [
        {
          "name": "stdout",
          "output_type": "stream",
          "text": [
            "(('df_an', 'AnalíticoNC'), ['proponente', 'nota_de_credito', 'programa', 'mes', 'valor_faturado', 'valor_economizado', 'valor_utilizado', 'saldo_no_periodo', 'relatorio'])\n",
            "(('df_sn', 'SintéticoNC'), ['nc', 'proponente', 'programa', 'empenho', 'valor_inicial_nc', 'valor_utilizado', 'valor_economizado', 'saldo', 'consumo_da_nc_%'])\n",
            "(('df_ic', 'ÍndiceCorreção'), ['mes', 'indice_de_correcao', 'taxa_selic', 'observacao'])\n",
            "(('df_pr', 'Proponentes'), ['prop_pk1', 'uf', 'partido', 'orgao', 'prop_1', 'prop_2', 'prop_3', 'prop_4'])\n"
          ]
        }
      ],
      "source": [
        "for index,df in enumerate(df_names):\n",
        "  print(df)"
      ]
    },
    {
      "cell_type": "code",
      "execution_count": 226,
      "metadata": {},
      "outputs": [],
      "source": [
        "sheets_names = [x for x in df_names[1][0][1]]"
      ]
    },
    {
      "cell_type": "code",
      "execution_count": 227,
      "metadata": {
        "colab": {
          "base_uri": "https://localhost:8080/"
        },
        "id": "yEiLy_QxpfC2",
        "outputId": "20cefd82-a674-4aef-ecb2-960f0b8d0c47"
      },
      "outputs": [
        {
          "name": "stdout",
          "output_type": "stream",
          "text": [
            "Defaulting to user installation because normal site-packages is not writeable\n",
            "Requirement already satisfied: xlsxwriter in /home/roberto/.local/lib/python3.10/site-packages (3.0.2)\n",
            "This is the command >>> dfs = [df_an, df_sn, df_ic, df_pr]\n",
            "Time: This code took 2 seconds to run.\n"
          ]
        }
      ],
      "source": [
        "start_time = time()\n",
        "\n",
        "#installing the python library to save the data an excel with all the sheets\n",
        "!pip install xlsxwriter\n",
        "\n",
        "dfs=[]\n",
        "\n",
        "#append dfs as str from the dictionary of data to a new list\n",
        "for i,v in enumerate(df_names):\n",
        "    dfs.append(df_names[i][0][0]) \n",
        "\n",
        "command = str('dfs = ' + str(dfs).replace(\"'\",'')) # building a command with strings\n",
        "\n",
        "print('This is the command >>>',command)\n",
        "\n",
        "exec(command) # executing the str as a command\n",
        "\n",
        "#giving the name to the excel sheets \n",
        "for i,df in enumerate(dfs):\n",
        "  dfs[i].name = df_names[i][0][1]\n",
        "\n",
        "#creating the excel file\n",
        "writer = pd.ExcelWriter('BI_Financeiro.xlsx',engine='xlsxwriter')\n",
        "workbook=writer.book\n",
        "\n",
        "#putting all dfs inside the excel\n",
        "for df in dfs:\n",
        "  worksheet=workbook.add_worksheet(df.name)\n",
        "  writer.sheets[df.name] = worksheet\n",
        "  df.to_excel(writer,sheet_name=df.name,startrow=0 , startcol=0, index=False)\n",
        "\n",
        "#saving\n",
        "writer.save()\n",
        "\n",
        "end_time = time(); print(f'Time: This code took {ceil(end_time-start_time)} seconds to run.'); total_time += end_time-start_time\n",
        "#Time: This code took 1 seconds to run."
      ]
    },
    {
      "cell_type": "code",
      "execution_count": 228,
      "metadata": {
        "colab": {
          "base_uri": "https://localhost:8080/"
        },
        "id": "wydYUhwXpfC3",
        "outputId": "a9425a49-6711-4212-c110-8a62f076218d"
      },
      "outputs": [
        {
          "name": "stdout",
          "output_type": "stream",
          "text": [
            "Time: The total time to run all the notebook was 0:00:03.015532.\n"
          ]
        }
      ],
      "source": [
        "final_time= str(timedelta(seconds= total_time)); print(f'Time: The total time to run all the notebook was {final_time}.')\n",
        "#Time: The total time to run all the notebook is 00:39 minutes."
      ]
    }
  ],
  "metadata": {
    "colab": {
      "collapsed_sections": [],
      "name": "controle_financeiro_gesac1 (1).ipynb",
      "provenance": []
    },
    "kernelspec": {
      "display_name": "Python 3",
      "name": "python3"
    },
    "language_info": {
      "codemirror_mode": {
        "name": "ipython",
        "version": 3
      },
      "file_extension": ".py",
      "mimetype": "text/x-python",
      "name": "python",
      "nbconvert_exporter": "python",
      "pygments_lexer": "ipython3",
      "version": "3.10.2"
    }
  },
  "nbformat": 4,
  "nbformat_minor": 0
}
