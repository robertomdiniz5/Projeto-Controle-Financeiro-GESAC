{
  "cells": [
    {
      "cell_type": "code",
      "execution_count": 103,
      "metadata": {
        "id": "oJHobPvxHmCO"
      },
      "outputs": [],
      "source": [
        "import pandas as pd\n",
        "import numpy as np\n",
        "import regex as re\n",
        "from datetime import datetime\n",
        "from time import time\n",
        "from math import ceil\n",
        "from datetime import timedelta\n",
        "import unicodedata  "
      ]
    },
    {
      "cell_type": "code",
      "execution_count": 104,
      "metadata": {
        "colab": {
          "base_uri": "https://localhost:8080/"
        },
        "id": "LKwStCwEUMIN",
        "outputId": "d1d4f377-7a7d-441a-feca-e33b4d182fd7"
      },
      "outputs": [
        {
          "output_type": "stream",
          "name": "stdout",
          "text": [
            "Archive:  Dataset.zip\n",
            " extracting: Dataset/Controle de NC 2022.xlsx  \n",
            " extracting: Dataset/Proponentes.xlsx  \n"
          ]
        }
      ],
      "source": [
        "#0 == False\n",
        "#1 == True\n",
        "\n",
        "in_colab = 1\n",
        "if in_colab == True:\n",
        "    !unzip Dataset.zip  \n",
        "    ! mv /content/Dataset/* /content/"
      ]
    },
    {
      "cell_type": "code",
      "execution_count": 105,
      "metadata": {
        "colab": {
          "base_uri": "https://localhost:8080/"
        },
        "id": "LK6KkF7qpiTu",
        "outputId": "4b75bbd7-6d74-4cb0-c8cb-ec7eb1807e18"
      },
      "outputs": [
        {
          "output_type": "stream",
          "name": "stdout",
          "text": [
            "Time: This code took 1 seconds to run.\n"
          ]
        }
      ],
      "source": [
        "start_time = time()\n",
        "\n",
        "excel_file1 = 'Controle de NC 2022.xlsx'\n",
        "lst_sheets = ['SintéticoNC', 'AnalíticoNC', 'ÍndiceCorreção']\n",
        "excel_file2 = 'Proponentes.xlsx'\n",
        "lst_sheets.append('Proponentes')\n",
        "\n",
        "#----------------------------------------------------------\n",
        "\n",
        "df_sn  = pd.read_excel(excel_file1, sheet_name=lst_sheets[0],usecols=\"B:J\", skiprows=3,parse_dates=True)\n",
        "\n",
        "df_an = pd.read_excel(excel_file1, sheet_name=lst_sheets[1],usecols=\"B:J\", skiprows=1,parse_dates=True)\n",
        "#skiprows=1,\n",
        "#usecols=\"B:J\") \n",
        "#\n",
        "df_ic = pd.read_excel(excel_file1, sheet_name='ÍndiceCorreção',\n",
        "skiprows=1,\n",
        "usecols=\"B:E\")\n",
        "\n",
        "df_pr= pd.read_excel(excel_file2, sheet_name='Proponentes')\n",
        "##----------------------------------------------------------\n",
        "\n",
        "end_time = time(); print(f'Time: This code took {ceil(end_time-start_time)} seconds to run.'); total_time = end_time-start_time\n"
      ]
    },
    {
      "cell_type": "code",
      "execution_count": 106,
      "metadata": {
        "colab": {
          "base_uri": "https://localhost:8080/"
        },
        "id": "ITyNEaULpiTw",
        "outputId": "3117a5d4-fc0c-4989-d27e-01f8bec96bb4"
      },
      "outputs": [
        {
          "output_type": "stream",
          "name": "stdout",
          "text": [
            "Time: This code took 1 seconds to run.\n"
          ]
        }
      ],
      "source": [
        "start_time = time()\n",
        "\n",
        "all_dfs = [df_sn, df_an, df_ic, df_pr]\n",
        "\n",
        "def strip_accents(cln):\n",
        "   cln = str(cln)\n",
        "   return ''.join(c for c in unicodedata.normalize('NFD', cln)if unicodedata.category(c) != 'Mn')\n",
        "\n",
        "def clean_column_name(cln):\n",
        "    return strip_accents(cln.strip('[]()').lower().replace(' ','_'))\n",
        "\n",
        "def rename_df(df):\n",
        "    new_cln = [clean_column_name(cln) for cln in df.columns.values]\n",
        "    old_cln = [cln for cln in df.columns.values]\n",
        "    dct = dict(zip(old_cln, new_cln))\n",
        "    df.rename(columns=dct,inplace=True)\n",
        "    return df\n",
        "\n",
        "for df in all_dfs:\n",
        "    rename_df(df)\n",
        "\n",
        "end_time = time(); print(f'Time: This code took {ceil(end_time-start_time)} seconds to run.'); total_time = end_time-start_time\n",
        "\n"
      ]
    },
    {
      "cell_type": "code",
      "execution_count": 107,
      "metadata": {
        "colab": {
          "base_uri": "https://localhost:8080/"
        },
        "id": "-AHwQnIBHmCV",
        "outputId": "7beda762-590e-41a5-a899-da4456c61656"
      },
      "outputs": [
        {
          "output_type": "stream",
          "name": "stdout",
          "text": [
            "Time: This code took 1 seconds to run.\n"
          ]
        }
      ],
      "source": [
        "start_time = time()\n",
        "# criando função 'regexing' p/ subst. nomes abreviados de forma a normalizar as strings\n",
        "def regexing(s):\n",
        "    lst = [\n",
        "    ('PRF ','POLICIA RODOVIARIA FEDERAL '),\n",
        "    ('DEP. FEDERAL ', ''),\n",
        "    ('MCOM ', 'MINISTERIO DAS COMUNICACOES '),\n",
        "    ('DEP. FEDERAL', ''),\n",
        "    ('PRF ','POLICIA RODOVIARIA FEDERAL '),\n",
        "    ('MIN. ','MINISTERIO '),\n",
        "    ('SENADORA ',''),\n",
        "    ('SENADOR ',''),\n",
        "    ]\n",
        "    for string in lst:\n",
        "        return re.sub(string[0],string[1],s)\n",
        "\n",
        "\n",
        "\n",
        "lst_proponente = []\n",
        "\n",
        "for index, prop in enumerate(df_pr['prop_pk1']):\n",
        "    if df_pr['orgao'][index] == \"senado\":\n",
        "        lst_proponente.append('SEN. ' + prop)\n",
        "    elif  df_pr['orgao'][index] == \"camara\":\n",
        "        lst_proponente.append('DEP. ' + prop)\n",
        "    else: \n",
        "        lst_proponente.append(prop)\n",
        "\n",
        "df_pr['prop_pk2'] = lst_proponente\n",
        "\n",
        "end_time = time(); print(f'Time: This code took {ceil(end_time-start_time)} seconds to run.'); total_time += end_time-start_time\n",
        "#Time: This code took 1 seconds to run."
      ]
    },
    {
      "cell_type": "code",
      "execution_count": 108,
      "metadata": {
        "colab": {
          "base_uri": "https://localhost:8080/"
        },
        "id": "_8VdFDvMUMIS",
        "outputId": "0f018bc7-02ea-4f1c-806f-381c6b4abe15"
      },
      "outputs": [
        {
          "output_type": "stream",
          "name": "stdout",
          "text": [
            "Time: This code took 1 seconds to run.\n"
          ]
        }
      ],
      "source": [
        "start_time = time()\n",
        "\n",
        "#fazendo o loop sobre a lista acima para aplicar as funções que normalizam a coluna com as chaves dos proponentes\n",
        "lst_df = [df_sn, df_an]\n",
        "for df in lst_df: \n",
        "    df['proponente'] = df['proponente'].apply(lambda x:strip_accents(x).upper()).apply(lambda x:regexing(x))\n",
        "    df['proponente'] = df['proponente'].apply(lambda x:str(x).strip())\n",
        "#\n",
        "lst_pr = (df_pr['prop_pk1'], df_pr['prop_1'],df_pr['prop_2'], df_pr['prop_3'],df_pr['prop_4'])\n",
        "#df_sn['proponente'] = df_sn['proponente'].apply(lambda x:strip_accents(x).upper()).apply(lambda x:regexing(x))\n",
        "#df_sn['proponente'] = df_sn['proponente'].apply(lambda x:str(x).strip())\n",
        "for cln in lst_pr:\n",
        "    cln = cln.apply(lambda x:strip_accents(x).upper()).apply(lambda x:regexing(x))\n",
        "    \n",
        "end_time = time(); print(f'Time: This code took {ceil(end_time-start_time)} seconds to run.'); total_time += end_time-start_time"
      ]
    },
    {
      "cell_type": "markdown",
      "metadata": {
        "id": "mx4mO4bWHmCT"
      },
      "source": [
        "O objetivo inicial do projeto foi limpar os dados relacionados ao os proponentes com a criação de uma coluna nova referente ao nome civil do proponente para que esses valores pudessem ser usados como chave entre diferentes tabelas que serao parametrizadas entre si."
      ]
    },
    {
      "cell_type": "code",
      "execution_count": 109,
      "metadata": {
        "id": "FnvJm9-8pfCz",
        "colab": {
          "base_uri": "https://localhost:8080/"
        },
        "outputId": "b63adca6-3fd5-4bd4-893c-cf1dfdf78191"
      },
      "outputs": [
        {
          "output_type": "stream",
          "name": "stdout",
          "text": [
            "Time: This code took 2 seconds to run.\n"
          ]
        }
      ],
      "source": [
        "start_time = time()\n",
        "\n",
        "#criando lista dos DataFrames pelo qual o loop passara \n",
        "lst_df = (df_sn, df_an)\n",
        "\n",
        "#criando as colunas das primary_keys nos 3 dataframes\n",
        "for df in lst_df:\n",
        "    df['prop_pk1'] = ''\n",
        "    df['prop_pk2'] = ''\n",
        "    \n",
        "#criando lista das colunas referente ao nome dos proponentes \n",
        "def filter_key(x):\n",
        "    return (x == lst_pr[0])|(x==lst_pr[1])|(x==lst_pr[2])|(x==lst_pr[3])\n",
        "\n",
        "for df in lst_df:\n",
        "    lst_prop_pk1 = []\n",
        "    lst_prop_pk2= []\n",
        "    for index,value in enumerate(df.proponente):\n",
        "        filt_finding_key =  filter_key(df.proponente.iloc[index])\n",
        "        result1 = str(df_pr.loc[filt_finding_key].prop_pk1.values).strip(\"[']\")\n",
        "        result2 = str(df_pr.loc[filt_finding_key].prop_pk2.values).strip(\"[']\")\n",
        "        lst_prop_pk1.append(result1)\n",
        "        lst_prop_pk2.append(result2)\n",
        "    df['prop_pk1'] = lst_prop_pk1\n",
        "    df['prop_pk2'] = lst_prop_pk2\n",
        "\n",
        "end_time = time(); print(f'Time: This code took {ceil(end_time-start_time)} seconds to run.'); total_time += end_time-start_time"
      ]
    },
    {
      "cell_type": "code",
      "execution_count": 110,
      "metadata": {
        "colab": {
          "base_uri": "https://localhost:8080/",
          "height": 337
        },
        "id": "-2klq1mcUMIQ",
        "outputId": "dccd9d2f-8d52-4e99-d4d0-c19f180c7cc8"
      },
      "outputs": [
        {
          "output_type": "execute_result",
          "data": {
            "text/html": [
              "\n",
              "  <div id=\"df-2e04eee4-732e-4c3c-9b11-c61e70cdd3e8\">\n",
              "    <div class=\"colab-df-container\">\n",
              "      <div>\n",
              "<style scoped>\n",
              "    .dataframe tbody tr th:only-of-type {\n",
              "        vertical-align: middle;\n",
              "    }\n",
              "\n",
              "    .dataframe tbody tr th {\n",
              "        vertical-align: top;\n",
              "    }\n",
              "\n",
              "    .dataframe thead th {\n",
              "        text-align: right;\n",
              "    }\n",
              "</style>\n",
              "<table border=\"1\" class=\"dataframe\">\n",
              "  <thead>\n",
              "    <tr style=\"text-align: right;\">\n",
              "      <th></th>\n",
              "      <th>nc</th>\n",
              "      <th>proponente</th>\n",
              "      <th>programa</th>\n",
              "      <th>empenho</th>\n",
              "      <th>valor_inicial_nc</th>\n",
              "      <th>valor_utilizado</th>\n",
              "      <th>valor_economizado</th>\n",
              "      <th>saldo</th>\n",
              "      <th>consumo_da_nc_%</th>\n",
              "      <th>prop_pk1</th>\n",
              "      <th>prop_pk2</th>\n",
              "    </tr>\n",
              "  </thead>\n",
              "  <tbody>\n",
              "    <tr>\n",
              "      <th>73</th>\n",
              "      <td>73/2021</td>\n",
              "      <td>ULDURICO JUNIOR</td>\n",
              "      <td>WifiBrasil</td>\n",
              "      <td>2021NE000186</td>\n",
              "      <td>141000.0</td>\n",
              "      <td>40000.0</td>\n",
              "      <td>10054.977200</td>\n",
              "      <td>101000.0</td>\n",
              "      <td>28.368794</td>\n",
              "      <td>ULDURICO ALENCAR PINTO</td>\n",
              "      <td>DEP. ULDURICO ALENCAR PINTO</td>\n",
              "    </tr>\n",
              "    <tr>\n",
              "      <th>74</th>\n",
              "      <td>74/2021</td>\n",
              "      <td>SORAYA THRONICKE</td>\n",
              "      <td>WifiBrasil</td>\n",
              "      <td>2021NE000193</td>\n",
              "      <td>155000.0</td>\n",
              "      <td>20000.0</td>\n",
              "      <td>12620.344215</td>\n",
              "      <td>135000.0</td>\n",
              "      <td>12.903226</td>\n",
              "      <td>SORAYA THRONICKE</td>\n",
              "      <td>SEN. SORAYA THRONICKE</td>\n",
              "    </tr>\n",
              "    <tr>\n",
              "      <th>75</th>\n",
              "      <td>75/2021</td>\n",
              "      <td>MCOM</td>\n",
              "      <td>WifiBrasil</td>\n",
              "      <td>2021NE000065</td>\n",
              "      <td>500000.0</td>\n",
              "      <td>60000.0</td>\n",
              "      <td>10416.976070</td>\n",
              "      <td>440000.0</td>\n",
              "      <td>12.000000</td>\n",
              "      <td>MINISTERIO DAS COMUNICACOES</td>\n",
              "      <td>MINISTERIO DAS COMUNICACOES</td>\n",
              "    </tr>\n",
              "    <tr>\n",
              "      <th>76</th>\n",
              "      <td>76/2021</td>\n",
              "      <td>CABO JUNIO AMARAL</td>\n",
              "      <td>WifiBrasil</td>\n",
              "      <td>2021NE000123</td>\n",
              "      <td>93000.0</td>\n",
              "      <td>70000.0</td>\n",
              "      <td>44982.509309</td>\n",
              "      <td>23000.0</td>\n",
              "      <td>75.268817</td>\n",
              "      <td>GERALDO JUNIO DO AMARAL</td>\n",
              "      <td>DEP. GERALDO JUNIO DO AMARAL</td>\n",
              "    </tr>\n",
              "    <tr>\n",
              "      <th>77</th>\n",
              "      <td>77/2021</td>\n",
              "      <td>LEUR LOMANTO</td>\n",
              "      <td>WifiBrasil</td>\n",
              "      <td>2021NE000100</td>\n",
              "      <td>28000.0</td>\n",
              "      <td>30000.0</td>\n",
              "      <td>6934.680205</td>\n",
              "      <td>-2000.0</td>\n",
              "      <td>107.142857</td>\n",
              "      <td>LEUR ANTONIO DE BRITTO LOMANTO JUNIOR</td>\n",
              "      <td>DEP. LEUR ANTONIO DE BRITTO LOMANTO JUNIOR</td>\n",
              "    </tr>\n",
              "  </tbody>\n",
              "</table>\n",
              "</div>\n",
              "      <button class=\"colab-df-convert\" onclick=\"convertToInteractive('df-2e04eee4-732e-4c3c-9b11-c61e70cdd3e8')\"\n",
              "              title=\"Convert this dataframe to an interactive table.\"\n",
              "              style=\"display:none;\">\n",
              "        \n",
              "  <svg xmlns=\"http://www.w3.org/2000/svg\" height=\"24px\"viewBox=\"0 0 24 24\"\n",
              "       width=\"24px\">\n",
              "    <path d=\"M0 0h24v24H0V0z\" fill=\"none\"/>\n",
              "    <path d=\"M18.56 5.44l.94 2.06.94-2.06 2.06-.94-2.06-.94-.94-2.06-.94 2.06-2.06.94zm-11 1L8.5 8.5l.94-2.06 2.06-.94-2.06-.94L8.5 2.5l-.94 2.06-2.06.94zm10 10l.94 2.06.94-2.06 2.06-.94-2.06-.94-.94-2.06-.94 2.06-2.06.94z\"/><path d=\"M17.41 7.96l-1.37-1.37c-.4-.4-.92-.59-1.43-.59-.52 0-1.04.2-1.43.59L10.3 9.45l-7.72 7.72c-.78.78-.78 2.05 0 2.83L4 21.41c.39.39.9.59 1.41.59.51 0 1.02-.2 1.41-.59l7.78-7.78 2.81-2.81c.8-.78.8-2.07 0-2.86zM5.41 20L4 18.59l7.72-7.72 1.47 1.35L5.41 20z\"/>\n",
              "  </svg>\n",
              "      </button>\n",
              "      \n",
              "  <style>\n",
              "    .colab-df-container {\n",
              "      display:flex;\n",
              "      flex-wrap:wrap;\n",
              "      gap: 12px;\n",
              "    }\n",
              "\n",
              "    .colab-df-convert {\n",
              "      background-color: #E8F0FE;\n",
              "      border: none;\n",
              "      border-radius: 50%;\n",
              "      cursor: pointer;\n",
              "      display: none;\n",
              "      fill: #1967D2;\n",
              "      height: 32px;\n",
              "      padding: 0 0 0 0;\n",
              "      width: 32px;\n",
              "    }\n",
              "\n",
              "    .colab-df-convert:hover {\n",
              "      background-color: #E2EBFA;\n",
              "      box-shadow: 0px 1px 2px rgba(60, 64, 67, 0.3), 0px 1px 3px 1px rgba(60, 64, 67, 0.15);\n",
              "      fill: #174EA6;\n",
              "    }\n",
              "\n",
              "    [theme=dark] .colab-df-convert {\n",
              "      background-color: #3B4455;\n",
              "      fill: #D2E3FC;\n",
              "    }\n",
              "\n",
              "    [theme=dark] .colab-df-convert:hover {\n",
              "      background-color: #434B5C;\n",
              "      box-shadow: 0px 1px 3px 1px rgba(0, 0, 0, 0.15);\n",
              "      filter: drop-shadow(0px 1px 2px rgba(0, 0, 0, 0.3));\n",
              "      fill: #FFFFFF;\n",
              "    }\n",
              "  </style>\n",
              "\n",
              "      <script>\n",
              "        const buttonEl =\n",
              "          document.querySelector('#df-2e04eee4-732e-4c3c-9b11-c61e70cdd3e8 button.colab-df-convert');\n",
              "        buttonEl.style.display =\n",
              "          google.colab.kernel.accessAllowed ? 'block' : 'none';\n",
              "\n",
              "        async function convertToInteractive(key) {\n",
              "          const element = document.querySelector('#df-2e04eee4-732e-4c3c-9b11-c61e70cdd3e8');\n",
              "          const dataTable =\n",
              "            await google.colab.kernel.invokeFunction('convertToInteractive',\n",
              "                                                     [key], {});\n",
              "          if (!dataTable) return;\n",
              "\n",
              "          const docLinkHtml = 'Like what you see? Visit the ' +\n",
              "            '<a target=\"_blank\" href=https://colab.research.google.com/notebooks/data_table.ipynb>data table notebook</a>'\n",
              "            + ' to learn more about interactive tables.';\n",
              "          element.innerHTML = '';\n",
              "          dataTable['output_type'] = 'display_data';\n",
              "          await google.colab.output.renderOutput(dataTable, element);\n",
              "          const docLink = document.createElement('div');\n",
              "          docLink.innerHTML = docLinkHtml;\n",
              "          element.appendChild(docLink);\n",
              "        }\n",
              "      </script>\n",
              "    </div>\n",
              "  </div>\n",
              "  "
            ],
            "text/plain": [
              "         nc  ...                                    prop_pk2\n",
              "73  73/2021  ...                 DEP. ULDURICO ALENCAR PINTO\n",
              "74  74/2021  ...                       SEN. SORAYA THRONICKE\n",
              "75  75/2021  ...                 MINISTERIO DAS COMUNICACOES\n",
              "76  76/2021  ...                DEP. GERALDO JUNIO DO AMARAL\n",
              "77  77/2021  ...  DEP. LEUR ANTONIO DE BRITTO LOMANTO JUNIOR\n",
              "\n",
              "[5 rows x 11 columns]"
            ]
          },
          "metadata": {},
          "execution_count": 110
        }
      ],
      "source": [
        "#cleaning analitic sintetic rows\n",
        "df_sn = df_sn.loc[df_sn['proponente'] != 'SUBTOTAL']  \n",
        "df_sn = df_sn.loc[df_sn['proponente'] != 'TOTAL']\n",
        "df_sn = df_sn.loc[df_sn['proponente'] != 'NAN']\n",
        "df_sn.fillna(0,inplace=True)\n",
        "df_sn.iloc[-5:]"
      ]
    },
    {
      "cell_type": "code",
      "source": [
        "\n"
      ],
      "metadata": {
        "id": "mq7JzoSNiYrG"
      },
      "execution_count": 110,
      "outputs": []
    },
    {
      "cell_type": "code",
      "execution_count": 111,
      "metadata": {
        "colab": {
          "base_uri": "https://localhost:8080/"
        },
        "id": "99JeittPpiTz",
        "outputId": "29a7dc17-cfdc-48a4-b8da-0c9b62e9d369"
      },
      "outputs": [
        {
          "output_type": "stream",
          "name": "stdout",
          "text": [
            "DF COM OS PROPONENTES QUE NÃO APRESENTARAM CORRESPONDÊNCIA COM A COLUNA DO NOME CIVIL:\n",
            "Time: This code took 1 seconds to run.\n"
          ]
        }
      ],
      "source": [
        "#checando se tem dfs sem prop_pk \n",
        "start_time = time()\n",
        "\n",
        "lst  = [df_sn, df_an]\n",
        "lst_no_cv_name = []\n",
        "for x in lst:\n",
        "    for index, value in enumerate(df.loc[df.prop_pk1==''].proponente.values):\n",
        "        if value not in lst_no_cv_name:\n",
        "            lst_no_cv_name.append(df.loc[df.prop_pk1==''].proponente.values[index])\n",
        "        else:pass\n",
        "\n",
        "print('DF COM OS PROPONENTES QUE NÃO APRESENTARAM CORRESPONDÊNCIA COM A COLUNA DO NOME CIVIL:')\n",
        "df_pr_nokey = pd.DataFrame()\n",
        "df_pr_nokey['prop_nokey']= lst_no_cv_name\n",
        "df_pr_nokey['prop_pk1']= ''\n",
        "df_pr_nokey['orgao']=''\n",
        "df_pr_nokey['uf']=''\n",
        "df_pr_nokey['partido']=''\n",
        "\n",
        "\n",
        "df_pr_nokey.to_csv('ignore_prop_with_no_key.csv')\n",
        "df_pr_nokey\n",
        "\n",
        "end_time = time(); print(f'Time: This code took {ceil(end_time-start_time)} seconds to run.'); total_time += end_time-start_time"
      ]
    },
    {
      "cell_type": "code",
      "execution_count": 112,
      "metadata": {
        "colab": {
          "base_uri": "https://localhost:8080/"
        },
        "id": "yEiLy_QxpfC2",
        "outputId": "20cefd82-a674-4aef-ecb2-960f0b8d0c47"
      },
      "outputs": [
        {
          "output_type": "stream",
          "name": "stdout",
          "text": [
            "Requirement already satisfied: xlsxwriter in /usr/local/lib/python3.7/dist-packages (3.0.2)\n",
            "Time: This code took 4 seconds to run.\n"
          ]
        }
      ],
      "source": [
        "start_time = time()\n",
        "\n",
        "!pip install xlsxwriter\n",
        "\n",
        "dfs = (df_sn, df_an, df_ic, df_pr)\n",
        "dfs[0].name = lst_sheets[0]\n",
        "dfs[1].name = lst_sheets[1]\n",
        "dfs[2].name = lst_sheets[2]\n",
        "dfs[3].name = lst_sheets[3]\n",
        "\n",
        "writer = pd.ExcelWriter('BI_Financeiro.xlsx',engine='xlsxwriter')\n",
        "workbook=writer.book\n",
        "\n",
        "for df in dfs:\n",
        "  worksheet=workbook.add_worksheet(df.name)\n",
        "  writer.sheets[df.name] = worksheet\n",
        "  df.to_excel(writer,sheet_name=df.name,startrow=0 , startcol=0, index=False)\n",
        "\n",
        "writer.save()\n",
        "\n",
        "end_time = time(); print(f'Time: This code took {ceil(end_time-start_time)} seconds to run.'); total_time += end_time-start_time\n",
        "#Time: This code took 1 seconds to run."
      ]
    },
    {
      "cell_type": "code",
      "execution_count": 113,
      "metadata": {
        "colab": {
          "base_uri": "https://localhost:8080/"
        },
        "id": "wydYUhwXpfC3",
        "outputId": "a9425a49-6711-4212-c110-8a62f076218d"
      },
      "outputs": [
        {
          "output_type": "stream",
          "name": "stdout",
          "text": [
            "Time: The total time to run all the notebook was 0:00:05.302143.\n"
          ]
        }
      ],
      "source": [
        "final_time= str(timedelta(seconds= total_time)); print(f'Time: The total time to run all the notebook was {final_time}.')\n",
        "#Time: The total time to run all the notebook is 00:39 minutes."
      ]
    },
    {
      "cell_type": "code",
      "execution_count": 113,
      "metadata": {
        "id": "4FQyo0YAUMIY"
      },
      "outputs": [],
      "source": [
        ""
      ]
    }
  ],
  "metadata": {
    "colab": {
      "collapsed_sections": [],
      "name": "controle_financeiro_gesac1 (1).ipynb",
      "provenance": []
    },
    "kernelspec": {
      "display_name": "Python 3",
      "name": "python3"
    },
    "language_info": {
      "codemirror_mode": {
        "name": "ipython",
        "version": 3
      },
      "file_extension": ".py",
      "mimetype": "text/x-python",
      "name": "python",
      "nbconvert_exporter": "python",
      "pygments_lexer": "ipython3",
      "version": "3.10.2"
    }
  },
  "nbformat": 4,
  "nbformat_minor": 0
}