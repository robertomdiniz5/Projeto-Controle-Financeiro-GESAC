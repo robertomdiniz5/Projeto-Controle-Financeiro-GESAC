{
  "cells": [
    {
      "cell_type": "code",
      "execution_count": 174,
      "metadata": {
        "id": "oJHobPvxHmCO"
      },
      "outputs": [],
      "source": [
        "#the xlrd library is necessary for read xls file  \n",
        "#%pip install xlrd \n",
        "\n",
        "import pandas as pd\n",
        "import numpy as np\n",
        "import regex as re\n",
        "from datetime import datetime\n",
        "from time import time\n",
        "from time import sleep\n",
        "from math import ceil\n",
        "from datetime import timedelta\n",
        "import unicodedata  \n",
        "import os\n",
        "from IPython.display import clear_output\n"
      ]
    },
    {
      "cell_type": "code",
      "execution_count": 175,
      "metadata": {},
      "outputs": [
        {
          "name": "stdout",
          "output_type": "stream",
          "text": [
            "/home/roberto/github/projeto_controle_financeiro_gesac-8/Data_Source\n",
            "Time: This code took 3 seconds to run.\n",
            "\n",
            "EXCEL: Controle de Empenhos e NC 2022.xlsx >>> SHEETS: ['ControleGeral', 'SintéticoGeral', 'SintéticoNC', 'AnalíticoNC', 'ÍndiceCorreçãoNC']\n",
            "EXCEL: Controle de NC 2022.xlsx >>> SHEETS: ['SintéticoNC', 'AnalíticoNC', 'ÍndiceCorreção']\n",
            "EXCEL: Emendas2021_resumo.xlsx >>> SHEETS: ['Planilha1']\n",
            "EXCEL: Proponentes.xlsx >>> SHEETS: ['Sheet1']\n",
            "EXCEL: Relatorio_SISGESAC 1-02-2022.xls >>> SHEETS: ['Extração']\n"
          ]
        }
      ],
      "source": [
        "start_time = time()\n",
        "#documentating information about the excel files and sheets inside of it.\n",
        "\n",
        "#enter in the Data_Source folder to read the files\n",
        "%cd Data_Source\n",
        "#listing the files on the directory\n",
        "files = os.listdir()\n",
        "\n",
        "#getting all the files with xlsx or xls format\n",
        "xlsx_files = [x for x in files if x.split('.')[-1]=='xlsx' or  x.split('.')[-1]=='xls']\n",
        "\n",
        "def get_sheets_names(x):\n",
        "    xlsx = pd.ExcelFile(x)\n",
        "    return xlsx.sheet_names  # see all sheet names\n",
        "\n",
        "#putting all the sheets names inside a list\n",
        "sheets_names = [get_sheets_names(excel) for excel in xlsx_files]\n",
        "\n",
        "#zipping the lists togueter for execute as program\n",
        "lst_src = list(zip(xlsx_files, sheets_names))\n",
        "\n",
        "#building a dataframe with information about the excel files\n",
        "df_xlsx = pd.DataFrame(lst_src, columns=['xlsx_file','sheets'])\n",
        "\n",
        "end_time = time(); print(f'Time: This code took {ceil(end_time-start_time)} seconds to run.'); total_time = end_time-start_time\n",
        "print('')\n",
        "for source in lst_src: print(f'EXCEL: {source[0]} >>> SHEETS: {source[1]}')"
      ]
    },
    {
      "cell_type": "markdown",
      "metadata": {},
      "source": []
    },
    {
      "cell_type": "code",
      "execution_count": 176,
      "metadata": {
        "colab": {
          "base_uri": "https://localhost:8080/"
        },
        "id": "LK6KkF7qpiTu",
        "outputId": "4b75bbd7-6d74-4cb0-c8cb-ec7eb1807e18"
      },
      "outputs": [
        {
          "name": "stderr",
          "output_type": "stream",
          "text": [
            "/home/roberto/.local/lib/python3.10/site-packages/openpyxl/worksheet/_reader.py:312: UserWarning: Conditional Formatting extension is not supported and will be removed\n",
            "  warn(msg)\n",
            "/home/roberto/.local/lib/python3.10/site-packages/openpyxl/worksheet/_reader.py:312: UserWarning: Slicer List extension is not supported and will be removed\n",
            "  warn(msg)\n"
          ]
        },
        {
          "name": "stdout",
          "output_type": "stream",
          "text": [
            "Time: This code took 4 seconds to run.\n",
            "/home/roberto/github/projeto_controle_financeiro_gesac-8\n"
          ]
        }
      ],
      "source": [
        "start_time = time()\n",
        "\n",
        "df_nm =[\n",
        "('df_an', 'AnalíticoNC'),\n",
        "('df_sn', 'SintéticoNC'), \n",
        "('df_ic', 'ÍndiceCorreção'),\n",
        "('df_pr', 'Sheet1'),\n",
        "('df_cg', 'ControleGeral'),\n",
        "('df_em', 'Planilha1'),\n",
        "('df_sg', 'Extração')] \n",
        "\n",
        "df_sheets = pd.DataFrame(df_nm, columns = ['df_name', 'sheet_name'])\n",
        "df_sheets['xlsx_file']= ''\n",
        "\n",
        "for i1, sheets in enumerate(df_xlsx['sheets']):\n",
        "    for i2, sheet in enumerate(df_sheets['sheet_name']):\n",
        "        if sheet in sheets:\n",
        "            df_sheets['xlsx_file'][i2] = df_xlsx['xlsx_file'][i1] \n",
        "\n",
        "\n",
        "def parameters(df):\n",
        "    excel = df_sheets.loc[df_sheets.df_name == df]['xlsx_file'].values[0]\n",
        "    sheet = df_sheets.loc[df_sheets.df_name == df]['sheet_name'].values[0]\n",
        "    return excel, sheet\n",
        "\n",
        "\n",
        "xlsx, sheet = parameters('df_an')\n",
        "df_an = pd.read_excel(xlsx,sheet_name=sheet,\n",
        "usecols=\"B:J\", skiprows=1,parse_dates=True)\n",
        "\n",
        "xlsx, sheet = parameters('df_sn')\n",
        "df_sn = pd.read_excel(xlsx, sheet_name=sheet,\n",
        "usecols=\"B:J\", skiprows=3,parse_dates=True)\n",
        "\n",
        "xlsx, sheet = parameters('df_ic')\n",
        "df_ic = pd.read_excel(xlsx, sheet_name=sheet,\n",
        "skiprows=1,usecols=\"B:E\")\n",
        "\n",
        "xlsx, sheet = parameters('df_pr')\n",
        "df_pr = pd.read_excel(xlsx)\n",
        "\n",
        "xlsx, sheet = parameters('df_cg')\n",
        "df_cg = pd.read_excel(xlsx, sheet_name=sheet\n",
        ", skiprows=12,usecols=\"c:w\")\n",
        "\n",
        "xlsx, sheet = parameters('df_em')\n",
        "df_em= pd.read_excel(xlsx)\n",
        "\n",
        "xlsx, sheet = parameters('df_sg')\n",
        "df_sg= pd.read_excel(xlsx)\n",
        "#----------------------------------------------------------\n",
        "end_time = time(); print(f'Time: This code took {ceil(end_time-start_time)} seconds to run.'); total_time = end_time-start_time\n",
        "#Getting out of the Data_Source folder after having read the files\n",
        "%cd .."
      ]
    },
    {
      "cell_type": "code",
      "execution_count": 177,
      "metadata": {},
      "outputs": [
        {
          "data": {
            "text/html": [
              "<div>\n",
              "<style scoped>\n",
              "    .dataframe tbody tr th:only-of-type {\n",
              "        vertical-align: middle;\n",
              "    }\n",
              "\n",
              "    .dataframe tbody tr th {\n",
              "        vertical-align: top;\n",
              "    }\n",
              "\n",
              "    .dataframe thead th {\n",
              "        text-align: right;\n",
              "    }\n",
              "</style>\n",
              "<table border=\"1\" class=\"dataframe\">\n",
              "  <thead>\n",
              "    <tr style=\"text-align: right;\">\n",
              "      <th></th>\n",
              "      <th>xlsx_file</th>\n",
              "      <th>sheets</th>\n",
              "    </tr>\n",
              "  </thead>\n",
              "  <tbody>\n",
              "    <tr>\n",
              "      <th>0</th>\n",
              "      <td>Controle de Empenhos e NC 2022.xlsx</td>\n",
              "      <td>[ControleGeral, SintéticoGeral, SintéticoNC, A...</td>\n",
              "    </tr>\n",
              "    <tr>\n",
              "      <th>1</th>\n",
              "      <td>Controle de NC 2022.xlsx</td>\n",
              "      <td>[SintéticoNC, AnalíticoNC, ÍndiceCorreção]</td>\n",
              "    </tr>\n",
              "    <tr>\n",
              "      <th>2</th>\n",
              "      <td>Emendas2021_resumo.xlsx</td>\n",
              "      <td>Emendas_resumo</td>\n",
              "    </tr>\n",
              "    <tr>\n",
              "      <th>3</th>\n",
              "      <td>Proponentes.xlsx</td>\n",
              "      <td>Proponentes</td>\n",
              "    </tr>\n",
              "    <tr>\n",
              "      <th>4</th>\n",
              "      <td>Relatorio_SISGESAC 1-02-2022.xls</td>\n",
              "      <td>Relatorio_SISGESAC</td>\n",
              "    </tr>\n",
              "  </tbody>\n",
              "</table>\n",
              "</div>"
            ],
            "text/plain": [
              "                             xlsx_file  \\\n",
              "0  Controle de Empenhos e NC 2022.xlsx   \n",
              "1             Controle de NC 2022.xlsx   \n",
              "2              Emendas2021_resumo.xlsx   \n",
              "3                     Proponentes.xlsx   \n",
              "4     Relatorio_SISGESAC 1-02-2022.xls   \n",
              "\n",
              "                                              sheets  \n",
              "0  [ControleGeral, SintéticoGeral, SintéticoNC, A...  \n",
              "1         [SintéticoNC, AnalíticoNC, ÍndiceCorreção]  \n",
              "2                                     Emendas_resumo  \n",
              "3                                        Proponentes  \n",
              "4                                 Relatorio_SISGESAC  "
            ]
          },
          "execution_count": 177,
          "metadata": {},
          "output_type": "execute_result"
        }
      ],
      "source": [
        "#In general the excel files with just one sheet don't have a good name, so the name was changed to be similar to the name of the excel file\n",
        "\n",
        "for i, sheet in enumerate(df_xlsx['sheets']):\n",
        "    if len(sheet)==1:\n",
        "        new_name = df_xlsx['xlsx_file'][i]\n",
        "        re_pattern = '(.xlsx?|\\d|-|\\s)'\n",
        "        new_name = re.sub(re_pattern,'',new_name)\n",
        "        df_sheets.sheet_name.loc[df_sheets.sheet_name == sheet[0]] = new_name\n",
        "    else: pass\n",
        "\n",
        "for index_1, xlsx_1 in enumerate(df_xlsx['xlsx_file']):\n",
        "    for index_2, xlsx_2 in enumerate(df_sheets['xlsx_file']):\n",
        "        if xlsx_1 == xlsx_2 and len(df_xlsx['sheets'][index_1])==1:\n",
        "            df_xlsx['sheets'][index_1] = df_sheets['sheet_name'][index_2]\n",
        "        else: pass\n",
        "\n",
        "df_xlsx"
      ]
    },
    {
      "cell_type": "code",
      "execution_count": 178,
      "metadata": {},
      "outputs": [
        {
          "data": {
            "text/html": [
              "<div>\n",
              "<style scoped>\n",
              "    .dataframe tbody tr th:only-of-type {\n",
              "        vertical-align: middle;\n",
              "    }\n",
              "\n",
              "    .dataframe tbody tr th {\n",
              "        vertical-align: top;\n",
              "    }\n",
              "\n",
              "    .dataframe thead th {\n",
              "        text-align: right;\n",
              "    }\n",
              "</style>\n",
              "<table border=\"1\" class=\"dataframe\">\n",
              "  <thead>\n",
              "    <tr style=\"text-align: right;\">\n",
              "      <th></th>\n",
              "      <th>df_name</th>\n",
              "      <th>sheet_name</th>\n",
              "      <th>xlsx_file</th>\n",
              "    </tr>\n",
              "  </thead>\n",
              "  <tbody>\n",
              "    <tr>\n",
              "      <th>0</th>\n",
              "      <td>df_an</td>\n",
              "      <td>AnalíticoNC</td>\n",
              "      <td>Controle de NC 2022.xlsx</td>\n",
              "    </tr>\n",
              "    <tr>\n",
              "      <th>1</th>\n",
              "      <td>df_sn</td>\n",
              "      <td>SintéticoNC</td>\n",
              "      <td>Controle de NC 2022.xlsx</td>\n",
              "    </tr>\n",
              "    <tr>\n",
              "      <th>2</th>\n",
              "      <td>df_ic</td>\n",
              "      <td>ÍndiceCorreção</td>\n",
              "      <td>Controle de NC 2022.xlsx</td>\n",
              "    </tr>\n",
              "    <tr>\n",
              "      <th>3</th>\n",
              "      <td>df_pr</td>\n",
              "      <td>Proponentes</td>\n",
              "      <td>Proponentes.xlsx</td>\n",
              "    </tr>\n",
              "    <tr>\n",
              "      <th>4</th>\n",
              "      <td>df_cg</td>\n",
              "      <td>ControleGeral</td>\n",
              "      <td>Controle de Empenhos e NC 2022.xlsx</td>\n",
              "    </tr>\n",
              "    <tr>\n",
              "      <th>5</th>\n",
              "      <td>df_em</td>\n",
              "      <td>Emendas_resumo</td>\n",
              "      <td>Emendas2021_resumo.xlsx</td>\n",
              "    </tr>\n",
              "    <tr>\n",
              "      <th>6</th>\n",
              "      <td>df_sg</td>\n",
              "      <td>Relatorio_SISGESAC</td>\n",
              "      <td>Relatorio_SISGESAC 1-02-2022.xls</td>\n",
              "    </tr>\n",
              "  </tbody>\n",
              "</table>\n",
              "</div>"
            ],
            "text/plain": [
              "  df_name          sheet_name                            xlsx_file\n",
              "0   df_an         AnalíticoNC             Controle de NC 2022.xlsx\n",
              "1   df_sn         SintéticoNC             Controle de NC 2022.xlsx\n",
              "2   df_ic      ÍndiceCorreção             Controle de NC 2022.xlsx\n",
              "3   df_pr         Proponentes                     Proponentes.xlsx\n",
              "4   df_cg       ControleGeral  Controle de Empenhos e NC 2022.xlsx\n",
              "5   df_em      Emendas_resumo              Emendas2021_resumo.xlsx\n",
              "6   df_sg  Relatorio_SISGESAC     Relatorio_SISGESAC 1-02-2022.xls"
            ]
          },
          "execution_count": 178,
          "metadata": {},
          "output_type": "execute_result"
        }
      ],
      "source": [
        "df_sheets"
      ]
    },
    {
      "cell_type": "code",
      "execution_count": 179,
      "metadata": {
        "colab": {
          "base_uri": "https://localhost:8080/"
        },
        "id": "-AHwQnIBHmCV",
        "outputId": "7beda762-590e-41a5-a899-da4456c61656"
      },
      "outputs": [
        {
          "name": "stdout",
          "output_type": "stream",
          "text": [
            "Time: This code took 1 seconds to run.\n"
          ]
        }
      ],
      "source": [
        "start_time = time()\n",
        "# criando função 'regexing' p/ subst. nomes abreviados de forma a normalizar as strings\n",
        "\n",
        "lst_re = [\n",
        "('PRF ','POLICIA RODOVIARIA FEDERAL '),\n",
        "('MCOM ', 'MINISTERIO DAS COMUNICACOES '),\n",
        "('BANCADA ','BANCADA-'),\n",
        "(r'(DA BANCADA-?|INDIVIDUAL)',''),\n",
        "\n",
        "(r'-D\\w ','-'),\n",
        "(r'\\s(PARA|AJUDAR|DURANTE|A PANDEMIA DE COVID-19|DE\\.)\\s',''),\n",
        "(r'\\s(PROJETO|DA BANCADA|WIFI-FI NA|PRACA|ALTERANDO)\\s',''),\n",
        "(r'^PONTO\\s(.*)DIA$',''),\n",
        "(r'(\\n)',''),\n",
        "(r'SEN\\.?(DOR\\w?)?',''),\n",
        "(r'(\\s?DEPA?\\.|\\s?DEPUTAD\\w?)\\s?\\s?(FEDERAL)?\\s?',''),\n",
        "(r'MIN/.?\\s','MINISTERIO '),\n",
        "(r'SOLICITA(CAO|d\\w|N?DO)\\s?(D\\w|PEL\\w|PARA\\sO|PARA\\sA)?',''),\n",
        "(r'\\w?\\s?PEDIDO\\s(FEIT\\w|D\\w)?\\s?(PEL\\w)?',''),\n",
        "(r'-\\s\\w*',''),\n",
        "(r'\\(.*\\)','')]\n",
        "\n",
        "def regexing(value):\n",
        "   for string in lst_re:\n",
        "        value = re.sub(string[0],string[1],value)\n",
        "   return value\n",
        "\n",
        "lst_proponente = []\n",
        "for index, prop in enumerate(df_pr['prop_pk1']):\n",
        "    if df_pr['orgao'][index] == \"senado\":\n",
        "        lst_proponente.append('SEN. ' + prop)\n",
        "    elif  df_pr['orgao'][index] == \"camara\":\n",
        "        lst_proponente.append('DEP. ' + prop)\n",
        "    else: \n",
        "        lst_proponente.append(prop)\n",
        "\n",
        "df_pr['prop_pk1'] = [str(prop) for prop in df_pr.prop_pk1]\n",
        "\n",
        "df_pr['prop_pk2'] = lst_proponente\n",
        "\n",
        "end_time = time(); print(f'Time: This code took {ceil(end_time-start_time)} seconds to run.'); total_time += end_time-start_time\n",
        "#Time: This ckode took 1 seconds to run."
      ]
    },
    {
      "cell_type": "code",
      "execution_count": 180,
      "metadata": {
        "colab": {
          "base_uri": "https://localhost:8080/"
        },
        "id": "ITyNEaULpiTw",
        "outputId": "3117a5d4-fc0c-4989-d27e-01f8bec96bb4"
      },
      "outputs": [
        {
          "name": "stdout",
          "output_type": "stream",
          "text": [
            "Time: This code took 1 seconds to run.\n"
          ]
        },
        {
          "data": {
            "text/html": [
              "<div>\n",
              "<style scoped>\n",
              "    .dataframe tbody tr th:only-of-type {\n",
              "        vertical-align: middle;\n",
              "    }\n",
              "\n",
              "    .dataframe tbody tr th {\n",
              "        vertical-align: top;\n",
              "    }\n",
              "\n",
              "    .dataframe thead th {\n",
              "        text-align: right;\n",
              "    }\n",
              "</style>\n",
              "<table border=\"1\" class=\"dataframe\">\n",
              "  <thead>\n",
              "    <tr style=\"text-align: right;\">\n",
              "      <th></th>\n",
              "      <th>df_name</th>\n",
              "      <th>sheet_name</th>\n",
              "      <th>xlsx_file</th>\n",
              "      <th>columns</th>\n",
              "    </tr>\n",
              "  </thead>\n",
              "  <tbody>\n",
              "    <tr>\n",
              "      <th>0</th>\n",
              "      <td>df_an</td>\n",
              "      <td>AnalíticoNC</td>\n",
              "      <td>Controle de NC 2022.xlsx</td>\n",
              "      <td>[proponente, nota_de_credito, programa, mes, v...</td>\n",
              "    </tr>\n",
              "    <tr>\n",
              "      <th>1</th>\n",
              "      <td>df_sn</td>\n",
              "      <td>SintéticoNC</td>\n",
              "      <td>Controle de NC 2022.xlsx</td>\n",
              "      <td>[nc, proponente, programa, empenho, valor_inic...</td>\n",
              "    </tr>\n",
              "    <tr>\n",
              "      <th>2</th>\n",
              "      <td>df_ic</td>\n",
              "      <td>ÍndiceCorreção</td>\n",
              "      <td>Controle de NC 2022.xlsx</td>\n",
              "      <td>[mes, indice_de_correcao, taxa_selic, observacao]</td>\n",
              "    </tr>\n",
              "    <tr>\n",
              "      <th>3</th>\n",
              "      <td>df_pr</td>\n",
              "      <td>Proponentes</td>\n",
              "      <td>Proponentes.xlsx</td>\n",
              "      <td>[unnamed:_0, unnamed:_0, unnamed:_0.1, prop_pk...</td>\n",
              "    </tr>\n",
              "    <tr>\n",
              "      <th>4</th>\n",
              "      <td>df_cg</td>\n",
              "      <td>ControleGeral</td>\n",
              "      <td>Controle de Empenhos e NC 2022.xlsx</td>\n",
              "      <td>[processo, proponente, contrato, nota_de_empen...</td>\n",
              "    </tr>\n",
              "    <tr>\n",
              "      <th>5</th>\n",
              "      <td>df_em</td>\n",
              "      <td>Emendas_resumo</td>\n",
              "      <td>Emendas2021_resumo.xlsx</td>\n",
              "      <td>[processo, emenda, valor, pontos_livre_(18_mes...</td>\n",
              "    </tr>\n",
              "    <tr>\n",
              "      <th>6</th>\n",
              "      <td>df_sg</td>\n",
              "      <td>Relatorio_SISGESAC</td>\n",
              "      <td>Relatorio_SISGESAC 1-02-2022.xls</td>\n",
              "      <td>[cdgesac, nrpid, situacao, sgunidadefederacao,...</td>\n",
              "    </tr>\n",
              "  </tbody>\n",
              "</table>\n",
              "</div>"
            ],
            "text/plain": [
              "  df_name          sheet_name                            xlsx_file  \\\n",
              "0   df_an         AnalíticoNC             Controle de NC 2022.xlsx   \n",
              "1   df_sn         SintéticoNC             Controle de NC 2022.xlsx   \n",
              "2   df_ic      ÍndiceCorreção             Controle de NC 2022.xlsx   \n",
              "3   df_pr         Proponentes                     Proponentes.xlsx   \n",
              "4   df_cg       ControleGeral  Controle de Empenhos e NC 2022.xlsx   \n",
              "5   df_em      Emendas_resumo              Emendas2021_resumo.xlsx   \n",
              "6   df_sg  Relatorio_SISGESAC     Relatorio_SISGESAC 1-02-2022.xls   \n",
              "\n",
              "                                             columns  \n",
              "0  [proponente, nota_de_credito, programa, mes, v...  \n",
              "1  [nc, proponente, programa, empenho, valor_inic...  \n",
              "2  [mes, indice_de_correcao, taxa_selic, observacao]  \n",
              "3  [unnamed:_0, unnamed:_0, unnamed:_0.1, prop_pk...  \n",
              "4  [processo, proponente, contrato, nota_de_empen...  \n",
              "5  [processo, emenda, valor, pontos_livre_(18_mes...  \n",
              "6  [cdgesac, nrpid, situacao, sgunidadefederacao,...  "
            ]
          },
          "execution_count": 180,
          "metadata": {},
          "output_type": "execute_result"
        }
      ],
      "source": [
        "start_time = time()\n",
        "\n",
        "def strip_accents(cln):\n",
        "   cln = str(cln)\n",
        "   return ''.join(c for c in unicodedata.normalize('NFD', cln)if unicodedata.category(c) != 'Mn')\n",
        "\n",
        "def clean_column_name(cln):\n",
        "    return strip_accents(cln.strip('[]()').lower().replace(' ','_'))\n",
        "\n",
        "def rename_df(df):\n",
        "    new_cln = [clean_column_name(cln) for cln in df.columns.values]\n",
        "    old_cln = [cln for cln in df.columns.values]\n",
        "    dct = dict(zip(old_cln, new_cln))\n",
        "    df.rename(columns=dct,inplace=True)\n",
        "    lst_df_clns.append(new_cln)\n",
        "    return df\n",
        "\n",
        "#creating a list with all dfs from the data dictionary\n",
        "dfs = [ x for x in df_sheets.df_name]\n",
        "cmd = str(dfs).replace(\"'\",\"\") \n",
        "exec('dfs = {}'.format(cmd))\n",
        "\n",
        "lst_df_clns = []\n",
        "for df in dfs:\n",
        "    rename_df(df)\n",
        "\n",
        "df_sheets['columns'] = lst_df_clns \n",
        "\n",
        "end_time = time(); print(f'Time: This code took {ceil(end_time-start_time)} seconds to run.'); total_time = end_time-start_time\n",
        "df_sheets"
      ]
    },
    {
      "cell_type": "code",
      "execution_count": 181,
      "metadata": {
        "colab": {
          "base_uri": "https://localhost:8080/"
        },
        "id": "_8VdFDvMUMIS",
        "outputId": "0f018bc7-02ea-4f1c-806f-381c6b4abe15"
      },
      "outputs": [
        {
          "name": "stdout",
          "output_type": "stream",
          "text": [
            "Time: This code took 1 seconds to run.\n"
          ]
        }
      ],
      "source": [
        "start_time = time()\n",
        "\n",
        "df_sg['bancada'] = df_sg['nosolicitante'] \n",
        "df_sg['proponente'] = df_sg['dsjustificativa'] \n",
        "df_em['proponente'] = df_em['emenda']\n",
        "\n",
        "#fazendo o loop sobre a lista acima para aplicar as funções que normalizam a coluna com as chaves dos proponentes\n",
        "lst_df = [df_sn, df_an, df_cg, df_em, df_sg]\n",
        "for df in lst_df: \n",
        "    df['proponente'] = df['proponente'].apply(lambda x:strip_accents(x).upper()).apply(lambda x:regexing(x))\n",
        "    df['proponente'] = df['proponente'].apply(lambda x:str(x).strip())\n",
        "  \n",
        "end_time = time(); print(f'Time: This code took {ceil(end_time-start_time)} seconds to run.'); total_time += end_time-start_time"
      ]
    },
    {
      "cell_type": "code",
      "execution_count": 182,
      "metadata": {},
      "outputs": [],
      "source": [
        "#criando lista dos DataFrames pelo qual o loop passara referente aos proponentes\n",
        "dfs = (df_sn, df_an,df_cg, df_em, df_sg)\n",
        "\n",
        "#criando as colunas das primary_keys nos 3 dataframes\n",
        "for df in dfs:\n",
        "    df['prop_pk1'] = ''\n",
        "    df['prop_pk2'] = ''"
      ]
    },
    {
      "cell_type": "markdown",
      "metadata": {
        "id": "mx4mO4bWHmCT"
      },
      "source": [
        "O objetivo inicial do projeto foi limpar os dados relacionados ao os proponentes com a criação de uma coluna nova referente ao nome civil do proponente para que esses valores pudessem ser usados como chave entre diferentes tabelas que serao parametrizadas entre si."
      ]
    },
    {
      "cell_type": "code",
      "execution_count": 183,
      "metadata": {
        "colab": {
          "base_uri": "https://localhost:8080/"
        },
        "id": "FnvJm9-8pfCz",
        "outputId": "b63adca6-3fd5-4bd4-893c-cf1dfdf78191"
      },
      "outputs": [
        {
          "name": "stdout",
          "output_type": "stream",
          "text": [
            "Time: This code took 42 seconds to run.\n"
          ]
        }
      ],
      "source": [
        "start_time = time()\n",
        "\n",
        "lst_pr = (df_pr['prop_pk1'], df_pr['prop_1'],df_pr['prop_2'], df_pr['prop_3'],df_pr['prop_4'])\n",
        "\n",
        "for cln in lst_pr:\n",
        "    cln = cln.apply(lambda x:strip_accents(x).upper())\n",
        "\n",
        "#criando lista das colunas referente ao nome dos proponentes \n",
        "def filter_key(x):\n",
        "    return (x==lst_pr[0])|(x==lst_pr[1])|(x==lst_pr[2])|(x==lst_pr[3])|(x==lst_pr[4])\n",
        "\n",
        "for df in lst_df:\n",
        "    lst_prop_pk1 = []\n",
        "    lst_prop_pk2 = []\n",
        "    for index,value in enumerate(df.proponente):\n",
        "        filt_finding_key =  filter_key(df.proponente.iloc[index])\n",
        "        result1 = str(df_pr.loc[filt_finding_key].prop_pk1.values).strip(\"[']\")\n",
        "        result2 = str(df_pr.loc[filt_finding_key].prop_pk2.values).strip(\"[']\")\n",
        "        lst_prop_pk1.append(result1)\n",
        "        lst_prop_pk2.append(result2)\n",
        "    df['prop_pk1'] = lst_prop_pk1\n",
        "    df['prop_pk2'] = lst_prop_pk2\n",
        "\n",
        "end_time = time(); print(f'Time: This code took {ceil(end_time-start_time)} seconds to run.'); total_time += end_time-start_time"
      ]
    },
    {
      "cell_type": "code",
      "execution_count": 184,
      "metadata": {
        "colab": {
          "base_uri": "https://localhost:8080/",
          "height": 337
        },
        "id": "-2klq1mcUMIQ",
        "outputId": "dccd9d2f-8d52-4e99-d4d0-c19f180c7cc8"
      },
      "outputs": [
        {
          "name": "stdout",
          "output_type": "stream",
          "text": [
            "Time: This code took 1 seconds to run.\n"
          ]
        }
      ],
      "source": [
        "start_time = time()\n",
        "#cleaning analitic sintetic rows\n",
        "\n",
        "lst = ['SUBTOTAL','TOTAL','NAN']\n",
        "\n",
        "for value in lst:\n",
        "    df_sn = df_sn.loc[df_sn['proponente'] != value ]  \n",
        "    df_em = df_em.loc[df_em['proponente'] != value ]  \n",
        "    \n",
        "df_sn.fillna(0,inplace=True)\n",
        "df_an.fillna(0,inplace=True)\n",
        "\n",
        "end_time = time(); print(f'Time: This code took {ceil(end_time-start_time)} seconds to run.'); total_time += end_time-start_time"
      ]
    },
    {
      "cell_type": "code",
      "execution_count": 185,
      "metadata": {},
      "outputs": [],
      "source": [
        "#df_em['bancada']=''\n",
        "#df_em['individual']= ''\n",
        "#df_em.individual = df_em.emenda.apply(lambda x: False if 'individual' not in x else True) \n",
        "#df_em.bancada = df_em.emenda.apply(lambda x: str(x).split('bancada ')[-1].strip()[:-1] if '(bancada' in x else '') "
      ]
    },
    {
      "cell_type": "code",
      "execution_count": null,
      "metadata": {},
      "outputs": [],
      "source": []
    },
    {
      "cell_type": "code",
      "execution_count": 186,
      "metadata": {},
      "outputs": [],
      "source": [
        "lst_df_em_proponentes = []\n",
        "for prop in df_em['proponente'].loc[df_em['prop_pk1']=='']:\n",
        "    if prop not in lst_df_em_proponentes and prop!='NAN':\n",
        "        lst_df_em_proponentes.append(prop)\n",
        "\n",
        "props_pks = []\n",
        "for prop in lst_df_em_proponentes:\n",
        "    for prop_pk in df_pr['prop_pk1']:\n",
        "        if prop in prop_pk or prop_pk in prop:\n",
        "            props_pks.append((prop,prop_pk))\n",
        "        else:pass"
      ]
    },
    {
      "cell_type": "code",
      "execution_count": 199,
      "metadata": {},
      "outputs": [
        {
          "ename": "SyntaxError",
          "evalue": "invalid syntax (2479686755.py, line 5)",
          "output_type": "error",
          "traceback": [
            "\u001b[0;36m  Input \u001b[0;32mIn [199]\u001b[0;36m\u001b[0m\n\u001b[0;31m    return (lst_pr[0] == name)|(lst_pr[1] = name)|(lst_pr[2]==name)|(lst_pr[3] = name)|(lst_pr[4] == name)\u001b[0m\n\u001b[0m                                          ^\u001b[0m\n\u001b[0;31mSyntaxError\u001b[0m\u001b[0;31m:\u001b[0m invalid syntax\n"
          ]
        }
      ],
      "source": [
        "#criando lista das colunas referente ao nome dos proponentes \n",
        "\n",
        "name = 'DA VITORIA'\n",
        "\n",
        "print(df_pr.loc[filter_pr(name)])    "
      ]
    },
    {
      "cell_type": "code",
      "execution_count": 187,
      "metadata": {},
      "outputs": [
        {
          "name": "stdout",
          "output_type": "stream",
          "text": [
            "('FREDERICO', 'FREDERICO DE CASTRO ESCALEIRA')\n",
            "    prop_1 prop_2 prop_3 prop_4\n",
            "248    NaN    NaN    NaN    NaN\n",
            "EXECUTE ?\n"
          ]
        },
        {
          "ename": "KeyboardInterrupt",
          "evalue": "Interrupted by user",
          "output_type": "error",
          "traceback": [
            "\u001b[0;31m---------------------------------------------------------------------------\u001b[0m",
            "\u001b[0;31mKeyboardInterrupt\u001b[0m                         Traceback (most recent call last)",
            "\u001b[1;32m/home/roberto/github/projeto_controle_financeiro_gesac-8/controle_financeiro_gesac.ipynb Cell 17'\u001b[0m in \u001b[0;36m<module>\u001b[0;34m\u001b[0m\n\u001b[1;32m     <a href='vscode-notebook-cell:/home/roberto/github/projeto_controle_financeiro_gesac-8/controle_financeiro_gesac.ipynb#ch0000026?line=13'>14</a>\u001b[0m over_view \u001b[39m=\u001b[39m df_pr\u001b[39m.\u001b[39mloc[df_pr\u001b[39m.\u001b[39mprop_pk1 \u001b[39m==\u001b[39m key[index]][[\u001b[39m'\u001b[39m\u001b[39mprop_1\u001b[39m\u001b[39m'\u001b[39m,\u001b[39m'\u001b[39m\u001b[39mprop_2\u001b[39m\u001b[39m'\u001b[39m,\u001b[39m'\u001b[39m\u001b[39mprop_3\u001b[39m\u001b[39m'\u001b[39m,\u001b[39m'\u001b[39m\u001b[39mprop_4\u001b[39m\u001b[39m'\u001b[39m]]\n\u001b[1;32m     <a href='vscode-notebook-cell:/home/roberto/github/projeto_controle_financeiro_gesac-8/controle_financeiro_gesac.ipynb#ch0000026?line=14'>15</a>\u001b[0m \u001b[39mprint\u001b[39m(over_view)\n\u001b[0;32m---> <a href='vscode-notebook-cell:/home/roberto/github/projeto_controle_financeiro_gesac-8/controle_financeiro_gesac.ipynb#ch0000026?line=15'>16</a>\u001b[0m \u001b[39mprint\u001b[39m(\u001b[39m'\u001b[39m\u001b[39mEXECUTE ?\u001b[39m\u001b[39m'\u001b[39m); rule \u001b[39m=\u001b[39m \u001b[39mint\u001b[39m(\u001b[39minput\u001b[39m(\u001b[39m'\u001b[39m\u001b[39mEXECUTE ?\u001b[39m\u001b[39m'\u001b[39m))\n\u001b[1;32m     <a href='vscode-notebook-cell:/home/roberto/github/projeto_controle_financeiro_gesac-8/controle_financeiro_gesac.ipynb#ch0000026?line=17'>18</a>\u001b[0m \u001b[39mif\u001b[39;00m rule \u001b[39m==\u001b[39m \u001b[39mTrue\u001b[39;00m:\n\u001b[1;32m     <a href='vscode-notebook-cell:/home/roberto/github/projeto_controle_financeiro_gesac-8/controle_financeiro_gesac.ipynb#ch0000026?line=18'>19</a>\u001b[0m     exec(\u001b[39mf\u001b[39m\u001b[39m\"\u001b[39m\u001b[39mdf_pr.loc[df_pr.prop_pk1 ==\u001b[39m\u001b[39m'\u001b[39m\u001b[39m{\u001b[39;00mkey[index]\u001b[39m}\u001b[39;00m\u001b[39m'\u001b[39m\u001b[39m, \u001b[39m\u001b[39m'\u001b[39m\u001b[39mprop_\u001b[39m\u001b[39m{\u001b[39;00mnumber\u001b[39m}\u001b[39;00m\u001b[39m'\u001b[39m\u001b[39m] = \u001b[39m\u001b[39m'\u001b[39m\u001b[39m{\u001b[39;00mproponente[index]\u001b[39m}\u001b[39;00m\u001b[39m'\u001b[39m\u001b[39m\"\u001b[39m)\n",
            "File \u001b[0;32m~/.local/lib/python3.10/site-packages/ipykernel/kernelbase.py:1044\u001b[0m, in \u001b[0;36mKernel.raw_input\u001b[0;34m(self, prompt)\u001b[0m\n\u001b[1;32m   <a href='file:///~/.local/lib/python3.10/site-packages/ipykernel/kernelbase.py?line=1039'>1040</a>\u001b[0m \u001b[39mif\u001b[39;00m \u001b[39mnot\u001b[39;00m \u001b[39mself\u001b[39m\u001b[39m.\u001b[39m_allow_stdin:\n\u001b[1;32m   <a href='file:///~/.local/lib/python3.10/site-packages/ipykernel/kernelbase.py?line=1040'>1041</a>\u001b[0m     \u001b[39mraise\u001b[39;00m StdinNotImplementedError(\n\u001b[1;32m   <a href='file:///~/.local/lib/python3.10/site-packages/ipykernel/kernelbase.py?line=1041'>1042</a>\u001b[0m         \u001b[39m\"\u001b[39m\u001b[39mraw_input was called, but this frontend does not support input requests.\u001b[39m\u001b[39m\"\u001b[39m\n\u001b[1;32m   <a href='file:///~/.local/lib/python3.10/site-packages/ipykernel/kernelbase.py?line=1042'>1043</a>\u001b[0m     )\n\u001b[0;32m-> <a href='file:///~/.local/lib/python3.10/site-packages/ipykernel/kernelbase.py?line=1043'>1044</a>\u001b[0m \u001b[39mreturn\u001b[39;00m \u001b[39mself\u001b[39;49m\u001b[39m.\u001b[39;49m_input_request(\n\u001b[1;32m   <a href='file:///~/.local/lib/python3.10/site-packages/ipykernel/kernelbase.py?line=1044'>1045</a>\u001b[0m     \u001b[39mstr\u001b[39;49m(prompt),\n\u001b[1;32m   <a href='file:///~/.local/lib/python3.10/site-packages/ipykernel/kernelbase.py?line=1045'>1046</a>\u001b[0m     \u001b[39mself\u001b[39;49m\u001b[39m.\u001b[39;49m_parent_ident[\u001b[39m\"\u001b[39;49m\u001b[39mshell\u001b[39;49m\u001b[39m\"\u001b[39;49m],\n\u001b[1;32m   <a href='file:///~/.local/lib/python3.10/site-packages/ipykernel/kernelbase.py?line=1046'>1047</a>\u001b[0m     \u001b[39mself\u001b[39;49m\u001b[39m.\u001b[39;49mget_parent(\u001b[39m\"\u001b[39;49m\u001b[39mshell\u001b[39;49m\u001b[39m\"\u001b[39;49m),\n\u001b[1;32m   <a href='file:///~/.local/lib/python3.10/site-packages/ipykernel/kernelbase.py?line=1047'>1048</a>\u001b[0m     password\u001b[39m=\u001b[39;49m\u001b[39mFalse\u001b[39;49;00m,\n\u001b[1;32m   <a href='file:///~/.local/lib/python3.10/site-packages/ipykernel/kernelbase.py?line=1048'>1049</a>\u001b[0m )\n",
            "File \u001b[0;32m~/.local/lib/python3.10/site-packages/ipykernel/kernelbase.py:1089\u001b[0m, in \u001b[0;36mKernel._input_request\u001b[0;34m(self, prompt, ident, parent, password)\u001b[0m\n\u001b[1;32m   <a href='file:///~/.local/lib/python3.10/site-packages/ipykernel/kernelbase.py?line=1085'>1086</a>\u001b[0m             \u001b[39mbreak\u001b[39;00m\n\u001b[1;32m   <a href='file:///~/.local/lib/python3.10/site-packages/ipykernel/kernelbase.py?line=1086'>1087</a>\u001b[0m \u001b[39mexcept\u001b[39;00m \u001b[39mKeyboardInterrupt\u001b[39;00m:\n\u001b[1;32m   <a href='file:///~/.local/lib/python3.10/site-packages/ipykernel/kernelbase.py?line=1087'>1088</a>\u001b[0m     \u001b[39m# re-raise KeyboardInterrupt, to truncate traceback\u001b[39;00m\n\u001b[0;32m-> <a href='file:///~/.local/lib/python3.10/site-packages/ipykernel/kernelbase.py?line=1088'>1089</a>\u001b[0m     \u001b[39mraise\u001b[39;00m \u001b[39mKeyboardInterrupt\u001b[39;00m(\u001b[39m\"\u001b[39m\u001b[39mInterrupted by user\u001b[39m\u001b[39m\"\u001b[39m) \u001b[39mfrom\u001b[39;00m \u001b[39mNone\u001b[39m\n\u001b[1;32m   <a href='file:///~/.local/lib/python3.10/site-packages/ipykernel/kernelbase.py?line=1089'>1090</a>\u001b[0m \u001b[39mexcept\u001b[39;00m \u001b[39mException\u001b[39;00m:\n\u001b[1;32m   <a href='file:///~/.local/lib/python3.10/site-packages/ipykernel/kernelbase.py?line=1090'>1091</a>\u001b[0m     \u001b[39mself\u001b[39m\u001b[39m.\u001b[39mlog\u001b[39m.\u001b[39mwarning(\u001b[39m\"\u001b[39m\u001b[39mInvalid Message:\u001b[39m\u001b[39m\"\u001b[39m, exc_info\u001b[39m=\u001b[39m\u001b[39mTrue\u001b[39;00m)\n",
            "\u001b[0;31mKeyboardInterrupt\u001b[0m: Interrupted by user"
          ]
        }
      ],
      "source": [
        "key = [pks for props, pks in props_pks]\n",
        "proponente = [props for props, pks in props_pks]\n",
        "\n",
        "for index, value in enumerate(zip(key,proponente)):\n",
        "  \n",
        "    clear_output(wait=True);sleep(1)\n",
        "    for i in range(4,0,-1): \n",
        "        exec(f\"bool_v{i} = str(df_pr.loc[df_pr.prop_pk1 == key[{index}]].prop_{i}.values).strip('[]') == 'nan'\")\n",
        "        exec(f'lst_bool.append(bool_v{i})')\n",
        "        exec(f'if bool_v{i} == True: number = {i}')\n",
        "    \n",
        "    #menu_program\n",
        "    print((proponente[index],key[index]))\n",
        "    over_view = df_pr.loc[df_pr.prop_pk1 == key[index]][['prop_1','prop_2','prop_3','prop_4']]\n",
        "    print(over_view)\n",
        "    print('EXECUTE ?'); rule = int(input('EXECUTE ?'))\n",
        "    \n",
        "    if rule == True:\n",
        "        exec(f\"df_pr.loc[df_pr.prop_pk1 =='{key[index]}', 'prop_{number}'] = '{proponente[index]}'\")\n",
        "    print(over_view,'\\n','WAIT!'), sleep(2)"
      ]
    },
    {
      "cell_type": "code",
      "execution_count": null,
      "metadata": {},
      "outputs": [
        {
          "data": {
            "text/html": [
              "<div>\n",
              "<style scoped>\n",
              "    .dataframe tbody tr th:only-of-type {\n",
              "        vertical-align: middle;\n",
              "    }\n",
              "\n",
              "    .dataframe tbody tr th {\n",
              "        vertical-align: top;\n",
              "    }\n",
              "\n",
              "    .dataframe thead th {\n",
              "        text-align: right;\n",
              "    }\n",
              "</style>\n",
              "<table border=\"1\" class=\"dataframe\">\n",
              "  <thead>\n",
              "    <tr style=\"text-align: right;\">\n",
              "      <th></th>\n",
              "      <th>prop_pk1</th>\n",
              "      <th>prop_1</th>\n",
              "      <th>prop_2</th>\n",
              "      <th>prop_3</th>\n",
              "      <th>prop_4</th>\n",
              "    </tr>\n",
              "  </thead>\n",
              "  <tbody>\n",
              "    <tr>\n",
              "      <th>174</th>\n",
              "      <td>OLAVO BILAC PINTO NETO</td>\n",
              "      <td>BILAC PINTO</td>\n",
              "      <td>NaN</td>\n",
              "      <td>NaN</td>\n",
              "      <td>NaN</td>\n",
              "    </tr>\n",
              "  </tbody>\n",
              "</table>\n",
              "</div>"
            ],
            "text/plain": [
              "                   prop_pk1       prop_1 prop_2 prop_3 prop_4\n",
              "174  OLAVO BILAC PINTO NETO  BILAC PINTO    NaN    NaN    NaN"
            ]
          },
          "execution_count": 163,
          "metadata": {},
          "output_type": "execute_result"
        }
      ],
      "source": [
        "df_pr.loc[df_pr.prop_pk1 =='OLAVO BILAC PINTO NETO', 'prop_1'] = 'BILAC PINTO'\n",
        "df_pr.loc[df_pr.prop_pk1 == key[n]][['prop_pk1','prop_1','prop_2','prop_3','prop_4']]\n"
      ]
    },
    {
      "cell_type": "code",
      "execution_count": null,
      "metadata": {},
      "outputs": [
        {
          "name": "stdout",
          "output_type": "stream",
          "text": [
            "/home/roberto/github/projeto_controle_financeiro_gesac-8/Data_Source\n",
            "/home/roberto/github/projeto_controle_financeiro_gesac-8\n"
          ]
        }
      ],
      "source": [
        "%cd Data_Source\n",
        "df_pr.to_excel('Proponentes.xlsx')\n",
        "\n",
        "%cd .."
      ]
    },
    {
      "cell_type": "code",
      "execution_count": null,
      "metadata": {},
      "outputs": [
        {
          "data": {
            "text/plain": [
              "249"
            ]
          },
          "execution_count": 35,
          "metadata": {},
          "output_type": "execute_result"
        }
      ],
      "source": [
        "df_sg\n",
        "\n",
        "len(df_sg[['proponente','prop_pk1','bancada']].loc[df_sg.prop_pk1 != ''].prop_pk1.unique())\n",
        "len(df_sg[['proponente','prop_pk1','bancada']].loc[df_sg.prop_pk1 == ''].proponente.unique())\n"
      ]
    },
    {
      "cell_type": "code",
      "execution_count": null,
      "metadata": {},
      "outputs": [
        {
          "name": "stdout",
          "output_type": "stream",
          "text": [
            "The loop is ok!\n",
            "The loop is ok!\n",
            "Time: This code took 1 seconds to run.\n"
          ]
        }
      ],
      "source": [
        "start_time = time()\n",
        "dfs = [df_an, df_ic]\n",
        "\n",
        "for index,df in enumerate(dfs): \n",
        "    meses = [mes for mes in df.mes.unique()]\n",
        "    n_mes = ['01/2021','02/2021','03/2021','04/2021','05/2021','06/2021','07/2021','08/2021','09/2021','10/2021','11/2021','12/2021']\n",
        "    meses = list(zip(meses, n_mes))\n",
        "\n",
        "    for index,value in enumerate(meses):\n",
        "        df['mes'].replace(meses[index][0],meses[index][1],inplace=True)\n",
        "\n",
        "\n",
        "    df['mes']= pd.to_datetime(df['mes'])\n",
        "    if (df.mes.dtype == '<M8[ns]') == True:\n",
        "        print(f'The loop is ok!')\n",
        "        \n",
        "    else: print('The loops is broke!')\n",
        "    \n",
        "end_time = time(); print(f'Time: This code took {ceil(end_time-start_time)} seconds to run.'); total_time += end_time-start_time"
      ]
    },
    {
      "cell_type": "code",
      "execution_count": null,
      "metadata": {
        "colab": {
          "base_uri": "https://localhost:8080/"
        },
        "id": "99JeittPpiTz",
        "outputId": "29a7dc17-cfdc-48a4-b8da-0c9b62e9d369"
      },
      "outputs": [
        {
          "name": "stdout",
          "output_type": "stream",
          "text": [
            "DF COM OS PROPONENTES QUE NÃO APRESENTARAM CORRESPONDÊNCIA COM A COLUNA DO NOME CIVIL:\n",
            "mkdir: cannot create directory ‘trash’: File exists\n",
            "Time: This code took 4 seconds to run.\n"
          ]
        },
        {
          "data": {
            "text/plain": [
              "array(['BANCADA-ALAGOAS', 'BANCADA-MINAS GERAIS', 'BANCADA-SAO PAULO',\n",
              "       'BANCADA-ESPIRITO SANTO', 'BANCADA-MARANHAO', 'BANCADA-PARA',\n",
              "       'ADOR CONFUCIO MOURA', 'MISAEL VARELLA', 'GILBERTO ABRAMO',\n",
              "       'EUCLYDES PETTER', 'AUREA CAROLINA', 'JULIO DELGADO',\n",
              "       'EROS BIONDINI', 'BILAC PINTO', 'EDUARDO BARBOSA', 'MAURO LOPES',\n",
              "       'ANDRE JANONES', 'PAULO GUEDES', 'SUBTENENTE GONZAGA', 'IGOR TIMO',\n",
              "       'PATRUS ANANIAS', 'FREDERICO', 'MARIO HERINGER',\n",
              "       'LEONARDO MONTEIRO', 'CABO JUNIO AMARAL BANCADA', 'LUCAS GONZALEZ',\n",
              "       'VILSON DA FETAEMG', 'NEWTON CARDOSO', 'ZE SILVA',\n",
              "       'LINCOLN PORTELA', 'AECIO NEVES', 'CHARLES EVANGELISTA',\n",
              "       'ZE VITOR', 'DELEGADO MARCELO FREITAS', 'STEFANO AGUIAR',\n",
              "       'WELITON PRADO', 'FRANCO CARTAFINA', 'PAULO ABI ACKEL',\n",
              "       'MARCELO ARO', 'ROGERIO CORREIA', 'PADRE JOAO', 'LAURIETE',\n",
              "       'AMARO NETO', 'DA VITORIA', 'GASTAO VIEIRA', 'MIGRACAO',\n",
              "       'WI-FI NA MINISTRO DAS COMUNICACOES', 'MINISTRO DAS COMUNICACOES',\n",
              "       'GIL CUTRIM.', 'CLEBER VERDE', 'CLEBER VERDE.', 'OCLEBER VERDE',\n",
              "       'MINISTERIO DA JUSTICA.', 'MARIANA CARVALHO.', 'MARIANA CARVALHO',\n",
              "       'CENSIPAM.', 'CENSIPAN', 'MINISTERIO DAS COMUNICACOES.',\n",
              "       'ADOR CIRO NIGUEIRA.', 'ADOR CIRO NOGUEIRA.', 'PERPETUA ALMEIDA.',\n",
              "       'CELSO SABINO.', 'CIDADANIA', 'FEITO PELA CIDADANIA',\n",
              "       'PROJETO WI-FI NA PRACAATENDIMENTO DA COMUNIDADE LOCAL.',\n",
              "       'EDUARDO BRAIDE', 'JOSE MEDEIROS.', 'EDUARDO BRAIDE.',\n",
              "       'WLADIMIR GAROTINHO', 'WI-FI NA PRACA', 'MINICOM',\n",
              "       'ADORA ELIZIANE GAMA', 'PARLAMENTAR', 'WI-FI NA', 'ASP', 'MINICON',\n",
              "       'JOAQUIM PASSARINHO', 'SESAI', 'GIL CUTRIM', 'SESAI.', 'MMA',\n",
              "       'INTERNET', 'EVAIR DE MELO.', 'TORINO MARQUES', '', 'AMIZADE',\n",
              "       'INTERNET SOLICITADA', 'SOCILITACAO DE INTERNET', 'INTENET',\n",
              "       'EVAIR DE MELLO.',\n",
              "       'EVAIR DE MELO, O PONTO MUDOU DE MUNICIPIO,POR ISSO ESTAMOS ALTERARANDO.E-MAIL NO DIA 01-03-2021',\n",
              "       'EVAIR DE MELO, O PONTO MUDOU DE MUNICIPIO, POR ISSO ESTAMOS ALTERARANDO.E-MAIL NO DIA 01-03-2021',\n",
              "       'EVAIR DE MELLO', 'PONTO GESAC', 'JOAO DANIEL.', 'SERGIO SOUZA.',\n",
              "       'MINFRA', 'SIDNEY LEITE',\n",
              "       'MINISTERIO DA SAUDEAJUDAR OS SERVICOSA PANDEMIA DE COVID-19.',\n",
              "       'MINISTERIO DA SAUDEAJUDAR NOS SERVICOSA PANDEMIA DE COVID-19.',\n",
              "       'GABINETE DO MINISTRO.', 'RECURSO COVID.', 'PONTO SESAI.',\n",
              "       'MINISTRO', 'ATENDIMENTO EMERGENCIAL AO COVID.',\n",
              "       'ATENDIMENTO EMERGENCIAL COVID.', 'VIA GABINETE DO MINSITRO.',\n",
              "       'VIA GABINETE DO MINISTRO.', 'ADOR WEVERTON.',\n",
              "       'ENCAMINHADA VAI GABINETE DO MINISTRO.',\n",
              "       'ENCAMINHADA VIA GABINETE DO MINISTRO.',\n",
              "       'ENCAMINHA VAI GABINETE DO MINISTRO.', 'MARCIO JERRY.',\n",
              "       'SERGIO SOUZA', 'JAQUELINE CASSOL.', 'MINISTERIO DA SAUDE.',\n",
              "       'CENSIPAM PELO E-MAIL DO DIA 10/02/2021',\n",
              "       'PREFEITO MUNICIPAL IVANILDO FERREIRA.',\n",
              "       'PREFEITO MUNICIPAL JOAO MARIA.',\n",
              "       'PREFEITO MUNICIPAL MIGUEL CABRAL',\n",
              "       'PREFEITO MUNICIPAL JOAO BASILIO.',\n",
              "       'PREFEITO MUNICIPAL ALCELIO FERNANDES.',\n",
              "       'PREFEITO MUNICIPAL UADY ANTONIO.',\n",
              "       'PREFEITO MUNICIPAL JOSE AMAZAN.',\n",
              "       'PREFEITA MUNICIPAL JUSSARA SALES.',\n",
              "       'PREFEITO MUNICIPAL JOSE ARNOR.', 'PREFEITO MUNICIPAL JOSE AMAZAN',\n",
              "       'PREFEITO MUNICIPAL JOSE ANTONIO.',\n",
              "       'PREFEITO MUNICIPAL JOSE AIRTON.',\n",
              "       'PREFEITA MUNICIPAL MARIA DIVANIZE.',\n",
              "       'PREFEITO MUNICIPAL ARIOSVALDO BANDEIRA.',\n",
              "       'PREFEITO MUNICIPAL ROGERIO SOARES.',\n",
              "       'PREFEITO MUNICIPAL FERNANDO ANTONIO.',\n",
              "       'PREFEITO MUNICIPAL VALDEREDO BERTOLDO.',\n",
              "       'PREFEITO MUNICIPAL CARLOS ANDRE.',\n",
              "       'PREFEITA MUNICIPAL LARISSA LISIANE.', 'RECURSO COVID-19', 'COVID',\n",
              "       'CENSIPAM NO E-MAIL DO DIA 10/03/2021', 'MAPA.',\n",
              "       'PREFEITURA MUNICIPAL DE AUGUSTO SEVERO/RN.', 'ANDRE DE PAULA',\n",
              "       'HUGO LEAL', 'RICARDO GUIDI', 'JUNIOR FERRARI', 'FRANCISCO JR',\n",
              "       'OTTO ALENCAR FILHO', 'ALEXANDRE SERFIOTIS', 'MS',\n",
              "       'MARCO BERTAIOLLI  -5919', 'JUNIOR FERRARI  -5919',\n",
              "       'MARCO BERTAIOLLI  -5401', 'JULIO CESAR', 'HAROLDO CARHEDRAL',\n",
              "       'FABIO TRAD', 'FABIO MITIDIERI', 'CEZINHA DE MADUREIRA',\n",
              "       'REINHOLD STEPHANES  -5221', 'RICARDO GUIDI  -5407',\n",
              "       'PAULO MAGALHAES  -5903', 'FRANCISCO JUNIOR',\n",
              "       'RIO GRANDE DO NORTE.', 'PEDIDOS DO RIO GRANDE DO NORTE.',\n",
              "       'NEUCIMAR FRAGA.', 'PEDIDOS DO RIO GRANDE DO NORTE',\n",
              "       'RIO GRANDE NORTE', 'EDILAZIO JUNIOR',\n",
              "       'PEDIDOS DO RIO GRANDE NORTE', 'DIEGO ANDRADE', 'ANTONIO BRITO',\n",
              "       'VERMELHO.', 'WLADIMIR GAROTINHO.', 'SIDNEY LEITE.',\n",
              "       'SERGIO BRITO.', 'RIO GRANDE DO NORTE', 'DARCI DE MATOS PSD.',\n",
              "       'DOMINGOS NETO PSD.', 'DOMINGOS NETO PSD',\n",
              "       'DELEGADO EDER MAURO PSD', 'EDER MAURO PSD.',\n",
              "       'PAULO MAGALHAES PSD', 'PRESIDENTE JOSE JACIEL ALMEIDA DA SILVA.',\n",
              "       'SARGENTO FAHUR.', 'NEY LEPREVOST.', 'CHARLES FERNANDES.',\n",
              "       'PEDRO AUGUSTO.', 'EXPEDITO NETTO.',\n",
              "       'ESTADO DE RIO GRANDE DO NORTE.', 'ESTADO DO RIO GRANDE DO NORTE.',\n",
              "       'REINHOLD STEPHANES.', 'MISAEL VARELLA.', 'JOAQUIM PASSARINHO.',\n",
              "       'FLODELIS.', 'DOMINGOS NETO.', 'MINISTRO.', 'MJ', 'SEBRAE',\n",
              "       'BIRA DO PINDARE', 'SERGIO SOUSA  COMISSAO', 'SERGIO SOUSA',\n",
              "       'PREFEITO CLETSON RIVALDO', 'SERGIO SOUA',\n",
              "       'O PONTO FOI  MJ E ESTA SUBSTITUINDO O PP 57202, QUE FOI DESATIVADO.',\n",
              "       'PONTO WI-FI BRASIL .', 'MINISTERIO DA JUSTILA',\n",
              "       'MINISTERIO DE JUSTICA',\n",
              "       'PREFEITA MUNICIPAL ANDREZZA BRASIL SOUTO.', 'JOENIA WAPCHAN',\n",
              "       'WIFI BRASIL MINISTERIO DAS COMUNICACOES',\n",
              "       'MINISTERIO DA COMUNICACOES', 'DR. FREDERICO', 'TIMO IGOR',\n",
              "       'BETO ROSA', 'LEUR  LOMANTO', 'JANONES', 'MCOM.',\n",
              "       'ADOR CONFUCIO  MOURA', 'ADOR CONFUNCIO MOURA', 'EROS  BIONDINI',\n",
              "       'DEP EVAIR DE MELO', 'FAVIA ARRUDA', 'ADOR RODRIGO CUNHA',\n",
              "       'ADOR RODRIGO CUNHA.', 'ADOR RODRIGO CUNHAADOR RODRIGO CUNHA',\n",
              "       'SUBSTITUICAO POR OUTRO PONTO DO MEC QUE FOI CANCELADO.', 'MEC',\n",
              "       'ADOR CARLOS VIANA', 'EMENDA PARLAMENTAR', 'MARA ROCHA.',\n",
              "       'ADOR RODRIGO PACHECO', 'VEREADORA BEATRIZ RODRIGUES DA SILVA',\n",
              "       'CARLOS JORDY', 'ADOR ANTONIO ANASTASIA', 'ADORA SORAYA THRONICKE',\n",
              "       'ADOR SERGIO PETECAO', 'AMARO  NETO',\n",
              "       'DARCIOVIEIRA1810@HOTMAIL.COM', 'CHALLES EVANGELISTA', 'PAULO ABI',\n",
              "       'NAPOLEBERTOADV@HOTMAIL.COM', 'DP. FEDERAL DA VITORIA',\n",
              "       'DEP FEDERAL MARCELO ARO', 'DEP FEDERAL LAURIETE',\n",
              "       'MARCO BERTAIOLLI', 'CABO JUNIOR AMARAL', 'SILAS CAMARA.',\n",
              "       'FRANCO CATARFINA', 'LUISA CANZIANI',\n",
              "       'INSTITUICAO JA ERA ATENDIDA MAS MUDOU DE MUNICIPIO E PRECISA DE NOVA INSTALACAO.',\n",
              "       'DAIANNE.PEREIRA@FUNAI.GOV.BR', 'CARLA DICKSON',\n",
              "       'GABINETE DO MINISTRO', 'FRED COSTA', 'MINISTRO DA COMUNICACAO',\n",
              "       'DR. FREDERICO.', 'BANCADA-MG.', 'PADRE VALDO  OMENA',\n",
              "       'DILMATEMATICO@GMAIL.COM', 'CARLA.GUAITANELE@ICMBIO.GOV.BR',\n",
              "       'PERPETUA ALMEIDAPERPETUA ALMEIDA'], dtype=object)"
            ]
          },
          "execution_count": 37,
          "metadata": {},
          "output_type": "execute_result"
        }
      ],
      "source": [
        "#checando se tem dfs sem prop_pk \n",
        "start_time = time()\n",
        "\n",
        "dfs  = [df_an, df_sn,df_em, df_sg]\n",
        "lst_no_cv_name = []\n",
        "for df in dfs:\n",
        "    for index, value in enumerate(df.loc[df.prop_pk1==''].proponente.values):\n",
        "        if value not in lst_no_cv_name:\n",
        "            lst_no_cv_name.append(df.loc[df.prop_pk1==''].proponente.values[index])\n",
        "        else:pass\n",
        "\n",
        "print('DF COM OS PROPONENTES QUE NÃO APRESENTARAM CORRESPONDÊNCIA COM A COLUNA DO NOME CIVIL:')\n",
        "df_pr_nokey = pd.DataFrame()\n",
        "df_pr_nokey['prop_nokey']= lst_no_cv_name\n",
        "df_pr_nokey['prop_pk1']= ''\n",
        "df_pr_nokey['orgao']=''\n",
        "df_pr_nokey['uf']=''\n",
        "df_pr_nokey['partido']=''\n",
        "\n",
        "save = True\n",
        "if save == True:\n",
        "    %mkdir trash\n",
        "    df_pr_nokey.to_excel('trash/props_with_no_key.xlsx')\n",
        "else:pass\n",
        "\n",
        "end_time = time(); print(f'Time: This code took {ceil(end_time-start_time)} seconds to run.'); total_time += end_time-start_time\n",
        "\n",
        "#df_em.loc[df_em.prop_pk1!='']['prop_pk1']\n",
        "df_pr_nokey.prop_nokey.unique()\n"
      ]
    },
    {
      "cell_type": "code",
      "execution_count": null,
      "metadata": {},
      "outputs": [
        {
          "data": {
            "text/html": [
              "<div>\n",
              "<style scoped>\n",
              "    .dataframe tbody tr th:only-of-type {\n",
              "        vertical-align: middle;\n",
              "    }\n",
              "\n",
              "    .dataframe tbody tr th {\n",
              "        vertical-align: top;\n",
              "    }\n",
              "\n",
              "    .dataframe thead th {\n",
              "        text-align: right;\n",
              "    }\n",
              "</style>\n",
              "<table border=\"1\" class=\"dataframe\">\n",
              "  <thead>\n",
              "    <tr style=\"text-align: right;\">\n",
              "      <th></th>\n",
              "      <th>df_name</th>\n",
              "      <th>sheet_name</th>\n",
              "      <th>xlsx_file</th>\n",
              "      <th>columns</th>\n",
              "    </tr>\n",
              "  </thead>\n",
              "  <tbody>\n",
              "    <tr>\n",
              "      <th>0</th>\n",
              "      <td>df_an</td>\n",
              "      <td>AnalíticoNC</td>\n",
              "      <td>Controle de NC 2022.xlsx</td>\n",
              "      <td>[proponente, nota_de_credito, programa, mes, v...</td>\n",
              "    </tr>\n",
              "    <tr>\n",
              "      <th>1</th>\n",
              "      <td>df_sn</td>\n",
              "      <td>SintéticoNC</td>\n",
              "      <td>Controle de NC 2022.xlsx</td>\n",
              "      <td>[nc, proponente, programa, empenho, valor_inic...</td>\n",
              "    </tr>\n",
              "    <tr>\n",
              "      <th>2</th>\n",
              "      <td>df_ic</td>\n",
              "      <td>ÍndiceCorreção</td>\n",
              "      <td>Controle de NC 2022.xlsx</td>\n",
              "      <td>[mes, indice_de_correcao, taxa_selic, observacao]</td>\n",
              "    </tr>\n",
              "    <tr>\n",
              "      <th>3</th>\n",
              "      <td>df_pr</td>\n",
              "      <td>Proponentes</td>\n",
              "      <td>Proponentes.xlsx</td>\n",
              "      <td>[unnamed:_0, prop_pk1, uf, partido, orgao, pro...</td>\n",
              "    </tr>\n",
              "    <tr>\n",
              "      <th>4</th>\n",
              "      <td>df_cg</td>\n",
              "      <td>ControleGeral</td>\n",
              "      <td>Controle de Empenhos e NC 2022.xlsx</td>\n",
              "      <td>[processo, proponente, contrato, nota_de_empen...</td>\n",
              "    </tr>\n",
              "    <tr>\n",
              "      <th>5</th>\n",
              "      <td>df_em</td>\n",
              "      <td>Emendas_resumo</td>\n",
              "      <td>Emendas2021_resumo.xlsx</td>\n",
              "      <td>[processo, emenda, valor, pontos_livre_(18_mes...</td>\n",
              "    </tr>\n",
              "    <tr>\n",
              "      <th>6</th>\n",
              "      <td>df_sg</td>\n",
              "      <td>Relatorio_SISGESAC</td>\n",
              "      <td>Relatorio_SISGESAC 1-02-2022.xls</td>\n",
              "      <td>[cdgesac, nrpid, situacao, sgunidadefederacao,...</td>\n",
              "    </tr>\n",
              "  </tbody>\n",
              "</table>\n",
              "</div>"
            ],
            "text/plain": [
              "  df_name          sheet_name                            xlsx_file  \\\n",
              "0   df_an         AnalíticoNC             Controle de NC 2022.xlsx   \n",
              "1   df_sn         SintéticoNC             Controle de NC 2022.xlsx   \n",
              "2   df_ic      ÍndiceCorreção             Controle de NC 2022.xlsx   \n",
              "3   df_pr         Proponentes                     Proponentes.xlsx   \n",
              "4   df_cg       ControleGeral  Controle de Empenhos e NC 2022.xlsx   \n",
              "5   df_em      Emendas_resumo              Emendas2021_resumo.xlsx   \n",
              "6   df_sg  Relatorio_SISGESAC     Relatorio_SISGESAC 1-02-2022.xls   \n",
              "\n",
              "                                             columns  \n",
              "0  [proponente, nota_de_credito, programa, mes, v...  \n",
              "1  [nc, proponente, programa, empenho, valor_inic...  \n",
              "2  [mes, indice_de_correcao, taxa_selic, observacao]  \n",
              "3  [unnamed:_0, prop_pk1, uf, partido, orgao, pro...  \n",
              "4  [processo, proponente, contrato, nota_de_empen...  \n",
              "5  [processo, emenda, valor, pontos_livre_(18_mes...  \n",
              "6  [cdgesac, nrpid, situacao, sgunidadefederacao,...  "
            ]
          },
          "execution_count": 38,
          "metadata": {},
          "output_type": "execute_result"
        }
      ],
      "source": [
        "df_sheets"
      ]
    },
    {
      "cell_type": "code",
      "execution_count": null,
      "metadata": {
        "colab": {
          "base_uri": "https://localhost:8080/"
        },
        "id": "yEiLy_QxpfC2",
        "outputId": "20cefd82-a674-4aef-ecb2-960f0b8d0c47"
      },
      "outputs": [
        {
          "name": "stdout",
          "output_type": "stream",
          "text": [
            "Time: This code took 14 seconds to run.\n"
          ]
        }
      ],
      "source": [
        "start_time = time()\n",
        "\n",
        "#installing the python library to save the data an excel with all the sheets\n",
        "%rm -r PowerBI_Dataset\n",
        "%mkdir PowerBI_Dataset\n",
        "%mkdir PowerBI_Dataset/csv/\n",
        "%mkdir PowerBI_Dataset/xlsx\n",
        "\n",
        "path = 'PowerBI_Dataset' \n",
        "#putting all dfs inside the excel\n",
        "for i, v in enumerate(df_sheets['df_name']):\n",
        "  command1 = (f\"{df_sheets['df_name'][i]}.to_csv('{path}/csv/{v}.csv')\")\n",
        "  command2 = (f\"{df_sheets['df_name'][i]}.to_excel('{path}/xlsx/{v}.xlsx')\")\n",
        "  exec(command1)\n",
        "  exec(command2)\n",
        "  \n",
        "end_time = time(); print(f'Time: This code took {ceil(end_time-start_time)} seconds to run.'); total_time += end_time-start_time"
      ]
    },
    {
      "cell_type": "code",
      "execution_count": null,
      "metadata": {},
      "outputs": [
        {
          "data": {
            "text/html": [
              "<div>\n",
              "<style scoped>\n",
              "    .dataframe tbody tr th:only-of-type {\n",
              "        vertical-align: middle;\n",
              "    }\n",
              "\n",
              "    .dataframe tbody tr th {\n",
              "        vertical-align: top;\n",
              "    }\n",
              "\n",
              "    .dataframe thead th {\n",
              "        text-align: right;\n",
              "    }\n",
              "</style>\n",
              "<table border=\"1\" class=\"dataframe\">\n",
              "  <thead>\n",
              "    <tr style=\"text-align: right;\">\n",
              "      <th></th>\n",
              "      <th>df_name</th>\n",
              "      <th>sheet_name</th>\n",
              "      <th>xlsx_file</th>\n",
              "      <th>columns</th>\n",
              "    </tr>\n",
              "  </thead>\n",
              "  <tbody>\n",
              "    <tr>\n",
              "      <th>0</th>\n",
              "      <td>df_an</td>\n",
              "      <td>AnalíticoNC</td>\n",
              "      <td>Controle de NC 2022.xlsx</td>\n",
              "      <td>[proponente, nota_de_credito, programa, mes, v...</td>\n",
              "    </tr>\n",
              "    <tr>\n",
              "      <th>1</th>\n",
              "      <td>df_sn</td>\n",
              "      <td>SintéticoNC</td>\n",
              "      <td>Controle de NC 2022.xlsx</td>\n",
              "      <td>[nc, proponente, programa, empenho, valor_inic...</td>\n",
              "    </tr>\n",
              "    <tr>\n",
              "      <th>2</th>\n",
              "      <td>df_ic</td>\n",
              "      <td>ÍndiceCorreção</td>\n",
              "      <td>Controle de NC 2022.xlsx</td>\n",
              "      <td>[mes, indice_de_correcao, taxa_selic, observacao]</td>\n",
              "    </tr>\n",
              "    <tr>\n",
              "      <th>3</th>\n",
              "      <td>df_pr</td>\n",
              "      <td>Proponentes</td>\n",
              "      <td>Proponentes.xlsx</td>\n",
              "      <td>[unnamed:_0, prop_pk1, uf, partido, orgao, pro...</td>\n",
              "    </tr>\n",
              "    <tr>\n",
              "      <th>4</th>\n",
              "      <td>df_cg</td>\n",
              "      <td>ControleGeral</td>\n",
              "      <td>Controle de Empenhos e NC 2022.xlsx</td>\n",
              "      <td>[processo, proponente, contrato, nota_de_empen...</td>\n",
              "    </tr>\n",
              "    <tr>\n",
              "      <th>5</th>\n",
              "      <td>df_em</td>\n",
              "      <td>Emendas_resumo</td>\n",
              "      <td>Emendas2021_resumo.xlsx</td>\n",
              "      <td>[processo, emenda, valor, pontos_livre_(18_mes...</td>\n",
              "    </tr>\n",
              "    <tr>\n",
              "      <th>6</th>\n",
              "      <td>df_sg</td>\n",
              "      <td>Relatorio_SISGESAC</td>\n",
              "      <td>Relatorio_SISGESAC 1-02-2022.xls</td>\n",
              "      <td>[cdgesac, nrpid, situacao, sgunidadefederacao,...</td>\n",
              "    </tr>\n",
              "  </tbody>\n",
              "</table>\n",
              "</div>"
            ],
            "text/plain": [
              "  df_name          sheet_name                            xlsx_file  \\\n",
              "0   df_an         AnalíticoNC             Controle de NC 2022.xlsx   \n",
              "1   df_sn         SintéticoNC             Controle de NC 2022.xlsx   \n",
              "2   df_ic      ÍndiceCorreção             Controle de NC 2022.xlsx   \n",
              "3   df_pr         Proponentes                     Proponentes.xlsx   \n",
              "4   df_cg       ControleGeral  Controle de Empenhos e NC 2022.xlsx   \n",
              "5   df_em      Emendas_resumo              Emendas2021_resumo.xlsx   \n",
              "6   df_sg  Relatorio_SISGESAC     Relatorio_SISGESAC 1-02-2022.xls   \n",
              "\n",
              "                                             columns  \n",
              "0  [proponente, nota_de_credito, programa, mes, v...  \n",
              "1  [nc, proponente, programa, empenho, valor_inic...  \n",
              "2  [mes, indice_de_correcao, taxa_selic, observacao]  \n",
              "3  [unnamed:_0, prop_pk1, uf, partido, orgao, pro...  \n",
              "4  [processo, proponente, contrato, nota_de_empen...  \n",
              "5  [processo, emenda, valor, pontos_livre_(18_mes...  \n",
              "6  [cdgesac, nrpid, situacao, sgunidadefederacao,...  "
            ]
          },
          "execution_count": 40,
          "metadata": {},
          "output_type": "execute_result"
        }
      ],
      "source": [
        "%rm -r Data_Dictionary\n",
        "%mkdir Data_Dictionary\n",
        "%mkdir Data_Dictionary/csv/\n",
        "%mkdir Data_Dictionary/xlsx/\n",
        "%mkdir Data_Dictionary/csv/Columns/\n",
        "%mkdir Data_Dictionary/xlsx/Columns/\n",
        "\n",
        "path = 'Data_Dictionary'\n",
        "\n",
        "for df in ('df_sheets', 'df_xlsx'):\n",
        "    exec(f\"{df}.to_csv('{path}/csv/{df}.csv')\")\n",
        "    exec(f\"{df}.to_excel('{path}/xlsx/{df}.xlsx')\")\n",
        "\n",
        "\n",
        "#df_nm = 'df_xlsx'\n",
        "#df = exec(f'{df_nm}') \n",
        "#exec(f\"{df}.to_csv('{path}/csv/{df_nm}.csv')\")\n",
        "#exec(f\"{df]}.to_excel('{path}/xlsx/{df_nm}.xlsx')\")\n",
        "\n",
        "path2 = 'Columns'\n",
        "\n",
        "for i, df  in enumerate(df_sheets['df_name']):\n",
        "       exec(f'df = {df}')\n",
        "       lst_cl = []\n",
        "       for cl in df.columns: lst_cl.append(cl)\n",
        "       dct = {'columns':lst_cl}\n",
        "       exec(f\"{df_sheets['df_name'][i]}_columns = pd.DataFrame(dct)\")\n",
        "       exec(f\"{df_sheets['df_name'][i]}_columns['descricao'] = '' \")\n",
        "       exec(f\"{df_sheets['df_name'][i]}_columns.to_csv('{path}/csv/{path2}/{df_sheets['sheet_name'][i]}_columns.csv')\")\n",
        "       exec(f\"{df_sheets['df_name'][i]}_columns.to_excel('{path}/xlsx/{path2}/{df_sheets['sheet_name'][i]}_columns.xlsx')\")\n",
        "\n",
        "df_sheets\n"
      ]
    },
    {
      "cell_type": "code",
      "execution_count": null,
      "metadata": {
        "colab": {
          "base_uri": "https://localhost:8080/"
        },
        "id": "wydYUhwXpfC3",
        "outputId": "a9425a49-6711-4212-c110-8a62f076218d"
      },
      "outputs": [
        {
          "name": "stdout",
          "output_type": "stream",
          "text": [
            "Time: The total time to run all the notebook was 0:00:47.467179.\n"
          ]
        }
      ],
      "source": [
        "final_time= str(timedelta(seconds= total_time)); print(f'Time: The total time to run all the notebook was {final_time}.')"
      ]
    },
    {
      "cell_type": "code",
      "execution_count": null,
      "metadata": {},
      "outputs": [],
      "source": []
    }
  ],
  "metadata": {
    "colab": {
      "collapsed_sections": [],
      "name": "controle_financeiro_gesac1 (1).ipynb",
      "provenance": []
    },
    "kernelspec": {
      "display_name": "Python 3",
      "name": "python3"
    },
    "language_info": {
      "codemirror_mode": {
        "name": "ipython",
        "version": 3
      },
      "file_extension": ".py",
      "mimetype": "text/x-python",
      "name": "python",
      "nbconvert_exporter": "python",
      "pygments_lexer": "ipython3",
      "version": "3.10.2"
    }
  },
  "nbformat": 4,
  "nbformat_minor": 0
}
