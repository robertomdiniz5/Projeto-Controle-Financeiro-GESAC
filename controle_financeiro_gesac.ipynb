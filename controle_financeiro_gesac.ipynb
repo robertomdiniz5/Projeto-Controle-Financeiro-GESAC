{
  "cells": [
    {
      "cell_type": "code",
      "execution_count": 101,
      "metadata": {
        "id": "oJHobPvxHmCO"
      },
      "outputs": [],
      "source": [
        "#the xlrd library is necessary for read xls file  \n",
        "#%pip install xlrd \n",
        "\n",
        "import pandas as pd\n",
        "import numpy as np\n",
        "import regex as re\n",
        "from datetime import datetime\n",
        "from time import time\n",
        "from time import sleep\n",
        "from math import ceil\n",
        "from datetime import timedelta\n",
        "import unicodedata  \n",
        "import os\n",
        "from IPython.display import clear_output\n",
        "from difflib import SequenceMatcher "
      ]
    },
    {
      "cell_type": "code",
      "execution_count": 102,
      "metadata": {},
      "outputs": [
        {
          "name": "stdout",
          "output_type": "stream",
          "text": [
            "/home/roberto/git/projeto_controle_financeiro_gesac-4/Data_Source\n",
            "EXCEL: Controle de Empenhos e NC 2022.xlsx >>> SHEETS: ['ControleGeral', 'SintéticoGeral', 'SintéticoNC', 'AnalíticoNC', 'ÍndiceCorreçãoNC']\n",
            "EXCEL: Orçamentário MCOM 2021 16-11-21 setel.xlsx >>> SHEETS: ['Adm. Direta - Discricionárias', 'Emendas Individuais', 'Emendas de Bancada', 'dinamica', 'base']\n",
            "EXCEL: Relatorio_SISGESAC 1-02-2022.xls >>> SHEETS: ['Extração']\n",
            "EXCEL: Emendas2021_resumo.xlsx >>> SHEETS: ['Planilha1']\n",
            "EXCEL: estados.xlsx >>> SHEETS: ['estados']\n",
            "EXCEL: Proponentes.xlsx >>> SHEETS: ['Sheet1']\n",
            "EXCEL: Controle de NC 2022.xlsx >>> SHEETS: ['SintéticoNC', 'AnalíticoNC', 'ÍndiceCorreção']\n",
            "/home/roberto/git/projeto_controle_financeiro_gesac-4\n"
          ]
        }
      ],
      "source": [
        "%cd Data_Source\n",
        "\n",
        "start_time = time()\n",
        "#documentating information about the excel files and sheets inside of it.\n",
        "files = os.listdir()\n",
        "#getting all the files with xlsx or xls format\n",
        "xlsx_files = [x for x in files if x.split('.')[-1]=='xlsx' or  x.split('.')[-1]=='xls']\n",
        "\n",
        "def get_sheets_names(x):\n",
        "    xlsx = pd.ExcelFile(x)\n",
        "    return xlsx.sheet_names  # see all sheet names\n",
        "\n",
        "#putting all the sheets names inside a list\n",
        "sheets_names = [get_sheets_names(excel) for excel in xlsx_files]\n",
        "\n",
        "#zipping the lists togueter for execute as program\n",
        "lst_src = list(zip(xlsx_files, sheets_names))\n",
        "\n",
        "#building a dataframe with information about the excel files\n",
        "df_xlsx = pd.DataFrame(lst_src, columns=['xlsx_file','sheets'])\n",
        "\n",
        "for source in lst_src: print(f'EXCEL: {source[0]} >>> SHEETS: {source[1]}')\n",
        "\n",
        "%cd .."
      ]
    },
    {
      "cell_type": "code",
      "execution_count": 103,
      "metadata": {
        "colab": {
          "base_uri": "https://localhost:8080/"
        },
        "id": "LK6KkF7qpiTu",
        "outputId": "4b75bbd7-6d74-4cb0-c8cb-ec7eb1807e18"
      },
      "outputs": [
        {
          "name": "stdout",
          "output_type": "stream",
          "text": [
            "/home/roberto/git/projeto_controle_financeiro_gesac-4/Data_Source\n"
          ]
        },
        {
          "name": "stderr",
          "output_type": "stream",
          "text": [
            "/home/roberto/.local/lib/python3.8/site-packages/openpyxl/worksheet/_reader.py:312: UserWarning: Conditional Formatting extension is not supported and will be removed\n",
            "  warn(msg)\n",
            "/home/roberto/.local/lib/python3.8/site-packages/openpyxl/worksheet/_reader.py:312: UserWarning: Slicer List extension is not supported and will be removed\n",
            "  warn(msg)\n"
          ]
        },
        {
          "name": "stdout",
          "output_type": "stream",
          "text": [
            "Time: This code took 5 seconds to run.\n",
            "/home/roberto/git/projeto_controle_financeiro_gesac-4\n"
          ]
        }
      ],
      "source": [
        "%cd Data_Source\n",
        "\n",
        "#!!!\n",
        "df_nm =[\n",
        "('df_an', 'AnalíticoNC'),\n",
        "# ('df_ei', 'Emendas Individuais'),\n",
        "('df_sn', 'SintéticoNC'), \n",
        "('df_ic', 'ÍndiceCorreção'),\n",
        "('df_pr', 'Sheet1'),\n",
        "('df_cg', 'ControleGeral'),\n",
        "('df_em', 'Planilha1'),\n",
        "('df_estados', 'estados'),\n",
        "('df_sg', 'Extração')] \n",
        "\n",
        "df_sheets = pd.DataFrame(df_nm, columns = ['df_name', 'sheet_name'])\n",
        "df_sheets['xlsx_file']= ''\n",
        "\n",
        "for i1, sheets in enumerate(df_xlsx['sheets']):\n",
        "    for i2, sheet in enumerate(df_sheets['sheet_name']):\n",
        "        if sheet in sheets:\n",
        "            df_sheets['xlsx_file'][i2] = df_xlsx['xlsx_file'][i1] \n",
        "\n",
        "def parameters(df):\n",
        "    excel = df_sheets.loc[df_sheets.df_name == df]['xlsx_file'].values[0]\n",
        "    sheet = df_sheets.loc[df_sheets.df_name == df]['sheet_name'].values[0]\n",
        "    return excel, sheet\n",
        "\n",
        "xlsx, sheet = parameters('df_an')\n",
        "df_an = pd.read_excel(xlsx,sheet_name=sheet,\n",
        "usecols=\"B:J\", skiprows=1,parse_dates=True)\n",
        "\n",
        "xlsx, sheet = parameters('df_sn')\n",
        "df_sn = pd.read_excel(xlsx, sheet_name=sheet,\n",
        "usecols=\"B:J\", skiprows=3,parse_dates=True)\n",
        "\n",
        "xlsx, sheet = parameters('df_ic')\n",
        "df_ic = pd.read_excel(xlsx, sheet_name=sheet,\n",
        "skiprows=1,usecols=\"B:E\")\n",
        "\n",
        "xlsx, sheet = parameters('df_pr')\n",
        "df_pr = pd.read_excel(xlsx)\n",
        "\n",
        "xlsx, sheet = parameters('df_cg')\n",
        "df_cg = pd.read_excel(xlsx, sheet_name=sheet\n",
        ", skiprows=12,usecols=\"c:w\")\n",
        "\n",
        "xlsx, sheet = parameters('df_em')\n",
        "df_em= pd.read_excel(xlsx, sheet_name=sheet)\n",
        "\n",
        "# xlsx, sheet = parameters('df_ei')\n",
        "# df_ei = pd.read_excel(xlsx)\n",
        "\n",
        "xlsx, sheet = parameters('df_estados')\n",
        "df_estados = pd.read_excel(xlsx)\n",
        "\n",
        "xlsx, sheet = parameters('df_sg')\n",
        "df_sg= pd.read_excel(xlsx)\n",
        "\n",
        "#In general the excel files with just one sheet don't have a good name, so the name was changed to be similar to the name of the excel file\n",
        "for i, sheet in enumerate(df_xlsx['sheets']):\n",
        "    if len(sheet)==1:\n",
        "        new_name = df_xlsx['xlsx_file'][i]\n",
        "        re_pattern = '(.xlsx?|\\d|-|\\s)'\n",
        "        new_name = re.sub(re_pattern,'',new_name)\n",
        "        df_sheets.sheet_name.loc[df_sheets.sheet_name == sheet[0]] = new_name\n",
        "    else: pass\n",
        "\n",
        "for index_1, xlsx_1 in enumerate(df_xlsx['xlsx_file']):\n",
        "    for index_2, xlsx_2 in enumerate(df_sheets['xlsx_file']):\n",
        "        if xlsx_1 == xlsx_2 and len(df_xlsx['sheets'][index_1])==1:\n",
        "            df_xlsx['sheets'][index_1] = df_sheets['sheet_name'][index_2]\n",
        "        else: pass\n",
        "\n",
        "df_pr = df_pr[['prop_pk1','prop_1','prop_2','prop_3','prop_4','prop_pk2', 'uf','partido','orgao']]\n",
        "#----------------------------------------------------------\n",
        "end_time = time(); print(f'Time: This code took {ceil(end_time-start_time)} seconds to run.'); total_time = end_time-start_time\n",
        "\n",
        "#Getting out of the Data_Source folder after having read the files\n",
        "%cd .. "
      ]
    },
    {
      "cell_type": "code",
      "execution_count": 104,
      "metadata": {
        "colab": {
          "base_uri": "https://localhost:8080/"
        },
        "id": "ITyNEaULpiTw",
        "outputId": "3117a5d4-fc0c-4989-d27e-01f8bec96bb4"
      },
      "outputs": [],
      "source": [
        "def strip_accents(cln):\n",
        "   cln = str(cln)\n",
        "   return ''.join(c for c in unicodedata.normalize('NFD', cln)if unicodedata.category(c) != 'Mn')\n",
        "\n",
        "def clean_column_name(cln):\n",
        "    return strip_accents(str(cln).strip('[]()').lower().replace(' ','_'))\n",
        "\n",
        "def rename_df(df):\n",
        "    new_cln = [clean_column_name(cln) for cln in df.columns.values]\n",
        "    old_cln = [cln for cln in df.columns.values]\n",
        "    dct = dict(zip(old_cln, new_cln))\n",
        "    df.rename(columns=dct,inplace=True)\n",
        "    lst_df_clns.append(new_cln)\n",
        "    return df\n",
        "\n",
        "#creating a list with all dfs from the data dictionary\n",
        "dfs = [ x for x in df_sheets.df_name]\n",
        "cmd = str(dfs).replace(\"'\",\"\") \n",
        "exec('dfs = {}'.format(cmd))\n",
        "\n",
        "lst_df_clns = []\n",
        "for df in dfs:\n",
        "    rename_df(df)\n",
        "\n",
        "\n",
        "df_sheets['columns'] = lst_df_clns "
      ]
    },
    {
      "cell_type": "code",
      "execution_count": 105,
      "metadata": {},
      "outputs": [],
      "source": [
        "#AQUI\n",
        "# criando função 'regexing' p/ subst. nomes abreviados de forma a normalizar as strings\n",
        "lst_re = [\n",
        "('PRF ','POLICIA RODOVIARIA FEDERAL '),\n",
        "('MCOM ', 'MINISTERIO DAS COMUNICACOES '),\n",
        "('CABO',''),\n",
        "('BANCADA ','BANCADA-'),\n",
        "(r'MIN/.',''),\n",
        "(r'DEP/.|DEP.\\s?FEDERAL|DEPUTAD[OA]\\s?(FEDERAL)?',''),\n",
        "(r'(SEN/.|SENADOR|SENADORA)',''),\n",
        "(r'-D[EOA]\\s','-')\n",
        "]\n",
        "\n",
        "lamb_str = lambda x:strip_accents(x).upper()\n",
        "lamb_re = lambda x:regexing(x)\n",
        "lamb_strip = lambda x: str(x).strip()\n",
        "\n",
        "df_estados['nome'] = df_estados['nome'].apply(lamb_str)\n",
        "uf_re = zip(df_estados['nome'], df_estados['sigla'])\n",
        "\n",
        "for x in list(uf_re):\n",
        "    lst_re.append(x)"
      ]
    },
    {
      "cell_type": "code",
      "execution_count": 106,
      "metadata": {
        "colab": {
          "base_uri": "https://localhost:8080/"
        },
        "id": "-AHwQnIBHmCV",
        "outputId": "7beda762-590e-41a5-a899-da4456c61656"
      },
      "outputs": [],
      "source": [
        "#criando lista dos DataFrames pelo qual o loop passara referente aos proponentes\n",
        "dfs = (df_sn, df_an,df_cg, df_em, df_sg)\n",
        "\n",
        "#criando as colunas das primary_keys nos 3 dataframes\n",
        "for df in dfs:\n",
        "    df['prop_pk1'] = ''\n",
        "    df['prop_pk2'] = ''\n",
        "\n",
        "def regexing(value):\n",
        "   for string in lst_re:\n",
        "        value = re.sub(string[0],string[1],value)\n",
        "   return value\n",
        "\n",
        "pk2 = []\n",
        "for index, prop in enumerate(df_pr['prop_pk1']):\n",
        "    if df_pr['orgao'][index] == \"senado\":\n",
        "        pk2.append('SEN. ' + prop)\n",
        "    elif  df_pr['orgao'][index] == \"camara\":\n",
        "        pk2.append('DEP. ' + prop)\n",
        "    else: \n",
        "        pk2.append(prop)\n",
        "df_pr['prop_pk2'] = pk2\n",
        "\n",
        "#criando lista dos DataFrames pelo qual o loop passara referente aos proponentes\n",
        "dfs = (df_sn, df_an,df_cg, df_em, df_sg)\n",
        "\n",
        "#criando as colunas das primary_keys nos 3 dataframes\n",
        "for df in dfs:\n",
        "    df['prop_pk1'] = ''\n",
        "    df['prop_pk2'] = ''"
      ]
    },
    {
      "cell_type": "code",
      "execution_count": 107,
      "metadata": {},
      "outputs": [
        {
          "data": {
            "text/plain": [
              "0          BANCADA-AL\n",
              "1                 NAN\n",
              "2                 NAN\n",
              "3          BANCADA-MG\n",
              "4      MISAEL VARELLA\n",
              "           ...       \n",
              "92                NAN\n",
              "93                NAN\n",
              "94                NAN\n",
              "95                NAN\n",
              "96                NAN\n",
              "Name: proponente, Length: 97, dtype: object"
            ]
          },
          "execution_count": 107,
          "metadata": {},
          "output_type": "execute_result"
        }
      ],
      "source": [
        "df_sg['proponente'] = df_sg['nosolicitante'] \n",
        "df_em['proponente'] = df_em['emenda']\n",
        "\n",
        "lst_replace = [\n",
        "       ('DEPA.',''),\n",
        "       ('DEP.',''),\n",
        "       ('SEN.',''),\n",
        "       ('BANCADA ','BANCADA-')]\n",
        "\n",
        "def replace_lst(value):\n",
        "   value = str(value)\n",
        "   for string in lst_replace:\n",
        "        value = re.sub(string[0],string[1],value)\n",
        "   return value\n",
        "\n",
        "df_em['proponente'] = df_em.proponente.apply(lambda x: str(x).upper().split('-')[0].split('(')[0])\n",
        "df_em['proponente'] = df_em.proponente.apply(lambda x: replace_lst(x))\n",
        "df_em.proponente"
      ]
    },
    {
      "cell_type": "code",
      "execution_count": 108,
      "metadata": {
        "colab": {
          "base_uri": "https://localhost:8080/"
        },
        "id": "FnvJm9-8pfCz",
        "outputId": "b63adca6-3fd5-4bd4-893c-cf1dfdf78191"
      },
      "outputs": [],
      "source": [
        "\n",
        "#cleaning analitic sintetic rows\n",
        "lst = ['SUBTOTAL','TOTAL','NAN','0']\n",
        "\n",
        "for value in lst:\n",
        "    df_em = df_em.loc[df_em.proponente != value ]  \n",
        "    df_sn = df_sn.loc[df_sn.proponente != value ]  \n",
        "    df_sg = df_sg.loc[df_sg.proponente != value ]  \n",
        "    \n",
        "df_sn.fillna(0,inplace=True)\n",
        "df_an.fillna(0,inplace=True)\n",
        "\n",
        "#fazendo o loop sobre a lista acima para aplicar as funções que normalizam a coluna com as chaves dos proponentes\n",
        "lst_df = [df_sn, df_an, df_cg, df_em, df_sg]\n",
        "\n",
        "for df in lst_df: \n",
        "    df['proponente'] = df['proponente'].apply(lamb_str)\n",
        "    df['proponente'] = df['proponente'].apply(lamb_re)\n",
        "    df['proponente'] = df['proponente'].apply(lamb_strip)\n",
        "\n",
        "\n",
        "lst_pr = (df_pr['prop_pk1'], df_pr['prop_1'],df_pr['prop_2'], df_pr['prop_3'],df_pr['prop_4'])\n",
        "\n",
        "#criando lista das colunas referente ao nome dos proponentes \n",
        "def filter_key(x):\n",
        "    return (x==lst_pr[0])|(x==lst_pr[1])|(x==lst_pr[2])|(x==lst_pr[3])|(x==lst_pr[4])\n",
        "\n",
        "for df in lst_df:\n",
        "    lst_prop_pk1 = []\n",
        "    lst_prop_pk2 = []\n",
        "    for index,value in enumerate(df.proponente):\n",
        "        filt_finding_key =  filter_key(df.proponente.iloc[index])\n",
        "        result1 = str(df_pr.loc[filt_finding_key].prop_pk1.values).strip(\"[']\")\n",
        "        result2 = str(df_pr.loc[filt_finding_key].prop_pk2.values).strip(\"[']\")\n",
        "        lst_prop_pk1.append(result1)\n",
        "        lst_prop_pk2.append(result2)\n",
        "    df['prop_pk1'] = lst_prop_pk1\n",
        "    df['prop_pk2'] = lst_prop_pk2"
      ]
    },
    {
      "cell_type": "code",
      "execution_count": 109,
      "metadata": {
        "colab": {
          "base_uri": "https://localhost:8080/"
        },
        "id": "99JeittPpiTz",
        "outputId": "29a7dc17-cfdc-48a4-b8da-0c9b62e9d369"
      },
      "outputs": [
        {
          "name": "stdout",
          "output_type": "stream",
          "text": [
            "DF COM OS PROPONENTES QUE NÃO APRESENTARAM CORRESPONDÊNCIA COM A COLUNA DO NOME CIVIL:\n",
            "ROWS: 5\n"
          ]
        },
        {
          "data": {
            "text/html": [
              "<div>\n",
              "<style scoped>\n",
              "    .dataframe tbody tr th:only-of-type {\n",
              "        vertical-align: middle;\n",
              "    }\n",
              "\n",
              "    .dataframe tbody tr th {\n",
              "        vertical-align: top;\n",
              "    }\n",
              "\n",
              "    .dataframe thead th {\n",
              "        text-align: right;\n",
              "    }\n",
              "</style>\n",
              "<table border=\"1\" class=\"dataframe\">\n",
              "  <thead>\n",
              "    <tr style=\"text-align: right;\">\n",
              "      <th></th>\n",
              "      <th>proponente</th>\n",
              "      <th>source</th>\n",
              "    </tr>\n",
              "  </thead>\n",
              "  <tbody>\n",
              "    <tr>\n",
              "      <th>0</th>\n",
              "      <td>SUBTOTAL</td>\n",
              "      <td>df_sn</td>\n",
              "    </tr>\n",
              "    <tr>\n",
              "      <th>1</th>\n",
              "      <td>0</td>\n",
              "      <td>df_sn</td>\n",
              "    </tr>\n",
              "    <tr>\n",
              "      <th>2</th>\n",
              "      <td>NAN</td>\n",
              "      <td>df_sg</td>\n",
              "    </tr>\n",
              "    <tr>\n",
              "      <th>3</th>\n",
              "      <td>60189</td>\n",
              "      <td>df_sg</td>\n",
              "    </tr>\n",
              "    <tr>\n",
              "      <th>4</th>\n",
              "      <td>WI-FI POSTO DE SAUDE DE CAVALINHO</td>\n",
              "      <td>df_sg</td>\n",
              "    </tr>\n",
              "  </tbody>\n",
              "</table>\n",
              "</div>"
            ],
            "text/plain": [
              "                          proponente source\n",
              "0                           SUBTOTAL  df_sn\n",
              "1                                  0  df_sn\n",
              "2                                NAN  df_sg\n",
              "3                              60189  df_sg\n",
              "4  WI-FI POSTO DE SAUDE DE CAVALINHO  df_sg"
            ]
          },
          "execution_count": 109,
          "metadata": {},
          "output_type": "execute_result"
        }
      ],
      "source": [
        "dfs  = [[df_an,'df_an'], [df_sn,'df_sn'],[df_em,'df_em'], [df_sg,'df_sg']]; \n",
        "\n",
        "lst_prop_nk= []; lst = []\n",
        "\n",
        "for df in dfs:\n",
        "    for index_2, value in enumerate(df[0].loc[df[0].prop_pk1==''].proponente.values):\n",
        "        if value not in lst:\n",
        "            prop_name =  df[0].loc[df[0].prop_pk1==''].proponente.values[index_2]\n",
        "            prop_source = df[1]\n",
        "            prop_index = (index_2)\n",
        "            lst_prop_nk.append((prop_name, prop_source, prop_index))\n",
        "            lst.append(value)\n",
        "        else:pass\n",
        "\n",
        "print('DF COM OS PROPONENTES QUE NÃO APRESENTARAM CORRESPONDÊNCIA COM A COLUNA DO NOME CIVIL:')\n",
        "df_nk = pd.DataFrame()\n",
        "df_nk['proponente'] = [x for x,y,z in lst_prop_nk]\n",
        "df_nk['source'] = [y for x,y,z in lst_prop_nk]\n",
        "\n",
        "df_nk = df_nk.loc[df_nk.proponente!='FREDERICO'].reset_index(drop=True)\n",
        "\n",
        "print('ROWS:', df_nk.shape[0])\n",
        "df_nk"
      ]
    },
    {
      "cell_type": "code",
      "execution_count": 110,
      "metadata": {},
      "outputs": [],
      "source": [
        "i = 5"
      ]
    },
    {
      "cell_type": "code",
      "execution_count": 111,
      "metadata": {},
      "outputs": [
        {
          "ename": "IndexError",
          "evalue": "single positional indexer is out-of-bounds",
          "output_type": "error",
          "traceback": [
            "\u001b[0;31m---------------------------------------------------------------------------\u001b[0m",
            "\u001b[0;31mIndexError\u001b[0m                                Traceback (most recent call last)",
            "\u001b[0;32m<ipython-input-111-622590c79da0>\u001b[0m in \u001b[0;36m<module>\u001b[0;34m\u001b[0m\n\u001b[0;32m----> 1\u001b[0;31m \u001b[0mprint\u001b[0m\u001b[0;34m(\u001b[0m\u001b[0;34mf'PROP: {df_nk.proponente.iloc[i]}.'\u001b[0m\u001b[0;34m)\u001b[0m\u001b[0;34m\u001b[0m\u001b[0;34m\u001b[0m\u001b[0m\n\u001b[0m\u001b[1;32m      2\u001b[0m \u001b[0;34m\u001b[0m\u001b[0m\n\u001b[1;32m      3\u001b[0m \u001b[0;32mdef\u001b[0m \u001b[0mwriting_in_df_prop\u001b[0m\u001b[0;34m(\u001b[0m\u001b[0;34m)\u001b[0m\u001b[0;34m:\u001b[0m\u001b[0;34m\u001b[0m\u001b[0;34m\u001b[0m\u001b[0m\n\u001b[1;32m      4\u001b[0m     \u001b[0mprop_name\u001b[0m \u001b[0;34m=\u001b[0m \u001b[0mdf_nk\u001b[0m\u001b[0;34m[\u001b[0m\u001b[0;34m'proponente'\u001b[0m\u001b[0;34m]\u001b[0m\u001b[0;34m[\u001b[0m\u001b[0mi\u001b[0m\u001b[0;34m]\u001b[0m\u001b[0;34m\u001b[0m\u001b[0;34m\u001b[0m\u001b[0m\n\u001b[1;32m      5\u001b[0m     \u001b[0minput_regex\u001b[0m \u001b[0;34m=\u001b[0m \u001b[0minput\u001b[0m\u001b[0;34m(\u001b[0m\u001b[0;34m'REGEX: '\u001b[0m\u001b[0;34m)\u001b[0m\u001b[0;34m\u001b[0m\u001b[0;34m\u001b[0m\u001b[0m\n",
            "\u001b[0;32m~/.local/lib/python3.8/site-packages/pandas/core/indexing.py\u001b[0m in \u001b[0;36m__getitem__\u001b[0;34m(self, key)\u001b[0m\n\u001b[1;32m    929\u001b[0m \u001b[0;34m\u001b[0m\u001b[0m\n\u001b[1;32m    930\u001b[0m             \u001b[0mmaybe_callable\u001b[0m \u001b[0;34m=\u001b[0m \u001b[0mcom\u001b[0m\u001b[0;34m.\u001b[0m\u001b[0mapply_if_callable\u001b[0m\u001b[0;34m(\u001b[0m\u001b[0mkey\u001b[0m\u001b[0;34m,\u001b[0m \u001b[0mself\u001b[0m\u001b[0;34m.\u001b[0m\u001b[0mobj\u001b[0m\u001b[0;34m)\u001b[0m\u001b[0;34m\u001b[0m\u001b[0;34m\u001b[0m\u001b[0m\n\u001b[0;32m--> 931\u001b[0;31m             \u001b[0;32mreturn\u001b[0m \u001b[0mself\u001b[0m\u001b[0;34m.\u001b[0m\u001b[0m_getitem_axis\u001b[0m\u001b[0;34m(\u001b[0m\u001b[0mmaybe_callable\u001b[0m\u001b[0;34m,\u001b[0m \u001b[0maxis\u001b[0m\u001b[0;34m=\u001b[0m\u001b[0maxis\u001b[0m\u001b[0;34m)\u001b[0m\u001b[0;34m\u001b[0m\u001b[0;34m\u001b[0m\u001b[0m\n\u001b[0m\u001b[1;32m    932\u001b[0m \u001b[0;34m\u001b[0m\u001b[0m\n\u001b[1;32m    933\u001b[0m     \u001b[0;32mdef\u001b[0m \u001b[0m_is_scalar_access\u001b[0m\u001b[0;34m(\u001b[0m\u001b[0mself\u001b[0m\u001b[0;34m,\u001b[0m \u001b[0mkey\u001b[0m\u001b[0;34m:\u001b[0m \u001b[0mtuple\u001b[0m\u001b[0;34m)\u001b[0m\u001b[0;34m:\u001b[0m\u001b[0;34m\u001b[0m\u001b[0;34m\u001b[0m\u001b[0m\n",
            "\u001b[0;32m~/.local/lib/python3.8/site-packages/pandas/core/indexing.py\u001b[0m in \u001b[0;36m_getitem_axis\u001b[0;34m(self, key, axis)\u001b[0m\n\u001b[1;32m   1564\u001b[0m \u001b[0;34m\u001b[0m\u001b[0m\n\u001b[1;32m   1565\u001b[0m             \u001b[0;31m# validate the location\u001b[0m\u001b[0;34m\u001b[0m\u001b[0;34m\u001b[0m\u001b[0;34m\u001b[0m\u001b[0m\n\u001b[0;32m-> 1566\u001b[0;31m             \u001b[0mself\u001b[0m\u001b[0;34m.\u001b[0m\u001b[0m_validate_integer\u001b[0m\u001b[0;34m(\u001b[0m\u001b[0mkey\u001b[0m\u001b[0;34m,\u001b[0m \u001b[0maxis\u001b[0m\u001b[0;34m)\u001b[0m\u001b[0;34m\u001b[0m\u001b[0;34m\u001b[0m\u001b[0m\n\u001b[0m\u001b[1;32m   1567\u001b[0m \u001b[0;34m\u001b[0m\u001b[0m\n\u001b[1;32m   1568\u001b[0m             \u001b[0;32mreturn\u001b[0m \u001b[0mself\u001b[0m\u001b[0;34m.\u001b[0m\u001b[0mobj\u001b[0m\u001b[0;34m.\u001b[0m\u001b[0m_ixs\u001b[0m\u001b[0;34m(\u001b[0m\u001b[0mkey\u001b[0m\u001b[0;34m,\u001b[0m \u001b[0maxis\u001b[0m\u001b[0;34m=\u001b[0m\u001b[0maxis\u001b[0m\u001b[0;34m)\u001b[0m\u001b[0;34m\u001b[0m\u001b[0;34m\u001b[0m\u001b[0m\n",
            "\u001b[0;32m~/.local/lib/python3.8/site-packages/pandas/core/indexing.py\u001b[0m in \u001b[0;36m_validate_integer\u001b[0;34m(self, key, axis)\u001b[0m\n\u001b[1;32m   1498\u001b[0m         \u001b[0mlen_axis\u001b[0m \u001b[0;34m=\u001b[0m \u001b[0mlen\u001b[0m\u001b[0;34m(\u001b[0m\u001b[0mself\u001b[0m\u001b[0;34m.\u001b[0m\u001b[0mobj\u001b[0m\u001b[0;34m.\u001b[0m\u001b[0m_get_axis\u001b[0m\u001b[0;34m(\u001b[0m\u001b[0maxis\u001b[0m\u001b[0;34m)\u001b[0m\u001b[0;34m)\u001b[0m\u001b[0;34m\u001b[0m\u001b[0;34m\u001b[0m\u001b[0m\n\u001b[1;32m   1499\u001b[0m         \u001b[0;32mif\u001b[0m \u001b[0mkey\u001b[0m \u001b[0;34m>=\u001b[0m \u001b[0mlen_axis\u001b[0m \u001b[0;32mor\u001b[0m \u001b[0mkey\u001b[0m \u001b[0;34m<\u001b[0m \u001b[0;34m-\u001b[0m\u001b[0mlen_axis\u001b[0m\u001b[0;34m:\u001b[0m\u001b[0;34m\u001b[0m\u001b[0;34m\u001b[0m\u001b[0m\n\u001b[0;32m-> 1500\u001b[0;31m             \u001b[0;32mraise\u001b[0m \u001b[0mIndexError\u001b[0m\u001b[0;34m(\u001b[0m\u001b[0;34m\"single positional indexer is out-of-bounds\"\u001b[0m\u001b[0;34m)\u001b[0m\u001b[0;34m\u001b[0m\u001b[0;34m\u001b[0m\u001b[0m\n\u001b[0m\u001b[1;32m   1501\u001b[0m \u001b[0;34m\u001b[0m\u001b[0m\n\u001b[1;32m   1502\u001b[0m     \u001b[0;31m# -------------------------------------------------------------------\u001b[0m\u001b[0;34m\u001b[0m\u001b[0;34m\u001b[0m\u001b[0;34m\u001b[0m\u001b[0m\n",
            "\u001b[0;31mIndexError\u001b[0m: single positional indexer is out-of-bounds"
          ]
        }
      ],
      "source": [
        "print(f'PROP: {df_nk.proponente.iloc[i]}.')\n",
        "\n",
        "def writing_in_df_prop():\n",
        "    prop_name = df_nk['proponente'][i]\n",
        "    input_regex = input('REGEX: ')\n",
        "    name_regex = r''+input_regex\n",
        "    return prop_name, name_regex\n",
        "\n",
        "prop_name, name_regex = writing_in_df_prop()\n",
        "#------------------------------------\n",
        "filter_cl = ['prop_pk1','prop_1','prop_2','prop_3','prop_4','prop_pk2']\n",
        "filter_name = df_pr['prop_pk1'].str.match(name_regex) == True; \n",
        "\n",
        "df_pr.loc[filter_name][filter_cl]"
      ]
    },
    {
      "cell_type": "code",
      "execution_count": null,
      "metadata": {},
      "outputs": [
        {
          "data": {
            "text/html": [
              "<div>\n",
              "<style scoped>\n",
              "    .dataframe tbody tr th:only-of-type {\n",
              "        vertical-align: middle;\n",
              "    }\n",
              "\n",
              "    .dataframe tbody tr th {\n",
              "        vertical-align: top;\n",
              "    }\n",
              "\n",
              "    .dataframe thead th {\n",
              "        text-align: right;\n",
              "    }\n",
              "</style>\n",
              "<table border=\"1\" class=\"dataframe\">\n",
              "  <thead>\n",
              "    <tr style=\"text-align: right;\">\n",
              "      <th></th>\n",
              "      <th>Unnamed: 0</th>\n",
              "      <th>Unnamed: 0.1</th>\n",
              "      <th>prop_pk1</th>\n",
              "      <th>prop_1</th>\n",
              "      <th>prop_2</th>\n",
              "      <th>prop_3</th>\n",
              "      <th>prop_4</th>\n",
              "      <th>prop_pk2</th>\n",
              "      <th>uf</th>\n",
              "      <th>partido</th>\n",
              "      <th>orgao</th>\n",
              "    </tr>\n",
              "  </thead>\n",
              "  <tbody>\n",
              "    <tr>\n",
              "      <th>187</th>\n",
              "      <td>187</td>\n",
              "      <td>187</td>\n",
              "      <td>HILKEA CARLA DE SOUZA MEDEIROS LIMA</td>\n",
              "      <td>CARLA DICKSON</td>\n",
              "      <td>NaN</td>\n",
              "      <td>NaN</td>\n",
              "      <td>NaN</td>\n",
              "      <td>DEP. HILKEA CARLA DE SOUZA MEDEIROS LIMA</td>\n",
              "      <td>RN</td>\n",
              "      <td>PROS</td>\n",
              "      <td>camara</td>\n",
              "    </tr>\n",
              "  </tbody>\n",
              "</table>\n",
              "</div>"
            ],
            "text/plain": [
              "     Unnamed: 0  Unnamed: 0.1                             prop_pk1  \\\n",
              "187         187           187  HILKEA CARLA DE SOUZA MEDEIROS LIMA   \n",
              "\n",
              "            prop_1 prop_2 prop_3 prop_4  \\\n",
              "187  CARLA DICKSON    NaN    NaN    NaN   \n",
              "\n",
              "                                     prop_pk2  uf partido   orgao  \n",
              "187  DEP. HILKEA CARLA DE SOUZA MEDEIROS LIMA  RN    PROS  camara  "
            ]
          },
          "execution_count": 99,
          "metadata": {},
          "output_type": "execute_result"
        }
      ],
      "source": [
        "write_in_df_pr = True\n",
        "if write_in_df_pr == True:\n",
        "    n = input('Type the number of the prop: ')\n",
        "    df_pr.loc[filter_name,f'prop_{n}']= prop_name\n",
        "    i+=1\n",
        "\n",
        "df_pr.loc[filter_name]"
      ]
    },
    {
      "cell_type": "code",
      "execution_count": 112,
      "metadata": {},
      "outputs": [
        {
          "name": "stdout",
          "output_type": "stream",
          "text": [
            "/home/roberto/git/projeto_controle_financeiro_gesac-4/Data_Source\n",
            "/home/roberto/git/projeto_controle_financeiro_gesac-4\n"
          ]
        },
        {
          "data": {
            "text/html": [
              "<div>\n",
              "<style scoped>\n",
              "    .dataframe tbody tr th:only-of-type {\n",
              "        vertical-align: middle;\n",
              "    }\n",
              "\n",
              "    .dataframe tbody tr th {\n",
              "        vertical-align: top;\n",
              "    }\n",
              "\n",
              "    .dataframe thead th {\n",
              "        text-align: right;\n",
              "    }\n",
              "</style>\n",
              "<table border=\"1\" class=\"dataframe\">\n",
              "  <thead>\n",
              "    <tr style=\"text-align: right;\">\n",
              "      <th></th>\n",
              "      <th>Unnamed: 0</th>\n",
              "      <th>Unnamed: 0.1</th>\n",
              "      <th>Unnamed: 0.1.1</th>\n",
              "      <th>prop_pk1</th>\n",
              "      <th>prop_1</th>\n",
              "      <th>prop_2</th>\n",
              "      <th>prop_3</th>\n",
              "      <th>prop_4</th>\n",
              "      <th>prop_pk2</th>\n",
              "      <th>uf</th>\n",
              "      <th>partido</th>\n",
              "      <th>orgao</th>\n",
              "    </tr>\n",
              "  </thead>\n",
              "  <tbody>\n",
              "    <tr>\n",
              "      <th>187</th>\n",
              "      <td>187</td>\n",
              "      <td>187</td>\n",
              "      <td>187</td>\n",
              "      <td>HILKEA CARLA DE SOUZA MEDEIROS LIMA</td>\n",
              "      <td>CARLA DICKSON</td>\n",
              "      <td>NaN</td>\n",
              "      <td>NaN</td>\n",
              "      <td>NaN</td>\n",
              "      <td>DEP. HILKEA CARLA DE SOUZA MEDEIROS LIMA</td>\n",
              "      <td>RN</td>\n",
              "      <td>PROS</td>\n",
              "      <td>camara</td>\n",
              "    </tr>\n",
              "  </tbody>\n",
              "</table>\n",
              "</div>"
            ],
            "text/plain": [
              "     Unnamed: 0  Unnamed: 0.1  Unnamed: 0.1.1  \\\n",
              "187         187           187             187   \n",
              "\n",
              "                                prop_pk1         prop_1 prop_2 prop_3 prop_4  \\\n",
              "187  HILKEA CARLA DE SOUZA MEDEIROS LIMA  CARLA DICKSON    NaN    NaN    NaN   \n",
              "\n",
              "                                     prop_pk2  uf partido   orgao  \n",
              "187  DEP. HILKEA CARLA DE SOUZA MEDEIROS LIMA  RN    PROS  camara  "
            ]
          },
          "execution_count": 112,
          "metadata": {},
          "output_type": "execute_result"
        }
      ],
      "source": [
        "save = False\n",
        "if save ==True:\n",
        "    %cd Data_Source\n",
        "    df_pr.to_excel('Proponentes.xlsx')\n",
        "    %cd ..\n",
        "\n",
        "%cd Data_Source\n",
        "df_pr = pd.read_excel('Proponentes.xlsx')\n",
        "%cd ..\n",
        "\n",
        "df_pr.loc[filter_name]\n"
      ]
    },
    {
      "cell_type": "code",
      "execution_count": 113,
      "metadata": {},
      "outputs": [
        {
          "name": "stdout",
          "output_type": "stream",
          "text": [
            "The loop is ok!\n",
            "The loop is ok!\n"
          ]
        }
      ],
      "source": [
        "dfs = [df_an, df_ic]\n",
        "\n",
        "for index,df in enumerate(dfs): \n",
        "    meses = [mes for mes in df.mes.unique()]\n",
        "    n_mes = ['01/2021','02/2021','03/2021','04/2021','05/2021','06/2021','07/2021','08/2021','09/2021','10/2021','11/2021','12/2021']\n",
        "    meses = list(zip(meses, n_mes))\n",
        "\n",
        "    for index,value in enumerate(meses):\n",
        "        df['mes'].replace(meses[index][0],meses[index][1],inplace=True)\n",
        "\n",
        "\n",
        "    df['mes']= pd.to_datetime(df['mes'])\n",
        "    if (df.mes.dtype == '<M8[ns]') == True:\n",
        "        print(f'The loop is ok!')\n",
        "        \n",
        "    else: print('The loops is broke!')\n",
        "    "
      ]
    },
    {
      "cell_type": "code",
      "execution_count": 114,
      "metadata": {},
      "outputs": [],
      "source": [
        "#df_folders\n",
        "lst_fd = [\n",
        "    ('FINANCEIRO','\\GESAC\\GESAC_2017\\ADMPP'),\n",
        "    ('SISGESAC',None)\n",
        "    ]\n",
        "\n",
        "fd = [fd for (pj,fd) in lst_fd]\n",
        "pj = [pj for (pj,fd) in lst_fd]\n",
        "df_folders = pd.DataFrame({'project':pj,'folder':fd})"
      ]
    },
    {
      "cell_type": "code",
      "execution_count": 124,
      "metadata": {},
      "outputs": [],
      "source": [
        "%rm -r PowerBI_Dataset\n",
        "%mkdir PowerBI_Dataset\n",
        "%mkdir PowerBI_Dataset/csv/\n",
        "%mkdir PowerBI_Dataset/xlsx/\n",
        "\n",
        "%rm -r Data_Dictionary\n",
        "%mkdir Data_Dictionary\n",
        "%mkdir Data_Dictionary/csv/\n",
        "%mkdir Data_Dictionary/xlsx/\n",
        "%mkdir Data_Dictionary/csv/Columns/\n",
        "%mkdir Data_Dictionary/xlsx/Columns/\n",
        "\n",
        "path = 'PowerBI_Dataset'\n",
        "for i, df  in enumerate(df_sheets['df_name']):\n",
        "       exec(f'df = {df}')\n",
        "       exec(f\"{df_sheets['df_name'][i]}.to_csv('{path}/csv/{df_sheets['sheet_name'][i]}.csv')\")\n",
        "       exec(f\"{df_sheets['df_name'][i]}.to_excel('{path}/xlsx/{df_sheets['sheet_name'][i]}.xlsx')\")\n",
        "\n",
        "path = 'Data_Dictionary'\n",
        "for df in ('df_sheets', 'df_xlsx', 'df_folders'):\n",
        "    exec(f\"{df}.to_csv('{path}/csv/{df}.csv')\")\n",
        "    exec(f\"{df}.to_excel('{path}/xlsx/{df}.xlsx')\")\n",
        "\n",
        "path2 = 'Columns'\n",
        "for i, df  in enumerate(df_sheets['df_name']):\n",
        "       exec(f'df = {df}')\n",
        "       lst_cl = []\n",
        "       for cl in df.columns: lst_cl.append(cl)\n",
        "       dct = {'columns':lst_cl}\n",
        "       exec(f\"{df_sheets['df_name'][i]}_columns = pd.DataFrame(dct)\")\n",
        "       exec(f\"{df_sheets['df_name'][i]}_columns['descricao'] = '' \")\n",
        "       exec(f\"{df_sheets['df_name'][i]}_columns.to_csv('{path}/csv/{path2}/{df_sheets['sheet_name'][i]}_columns.csv')\")\n",
        "       exec(f\"{df_sheets['df_name'][i]}_columns.to_excel('{path}/xlsx/{path2}/{df_sheets['sheet_name'][i]}_columns.xlsx')\")"
      ]
    }
  ],
  "metadata": {
    "colab": {
      "collapsed_sections": [],
      "name": "controle_financeiro_gesac1 (1).ipynb",
      "provenance": []
    },
    "kernelspec": {
      "display_name": "Python 3",
      "name": "python3"
    },
    "language_info": {
      "codemirror_mode": {
        "name": "ipython",
        "version": 3
      },
      "file_extension": ".py",
      "mimetype": "text/x-python",
      "name": "python",
      "nbconvert_exporter": "python",
      "pygments_lexer": "ipython3",
      "version": "3.8.10"
    }
  },
  "nbformat": 4,
  "nbformat_minor": 0
}
