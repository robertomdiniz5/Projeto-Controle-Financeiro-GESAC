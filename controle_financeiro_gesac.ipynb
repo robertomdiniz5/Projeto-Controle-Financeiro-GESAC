{
  "cells": [
    {
      "cell_type": "code",
      "execution_count": 156,
      "metadata": {
        "id": "oJHobPvxHmCO"
      },
      "outputs": [],
      "source": [
        "import pandas as pd\n",
        "import numpy as np\n",
        "import regex as re\n",
        "from datetime import datetime\n",
        "from time import time\n",
        "from math import ceil\n",
        "from datetime import timedelta\n",
        "import unicodedata  "
      ]
    },
    {
      "cell_type": "code",
      "execution_count": 157,
      "metadata": {},
      "outputs": [
        {
          "name": "stdout",
          "output_type": "stream",
          "text": [
            "Time: This code took 1 seconds to run.\n",
            "df_xlsx: \n"
          ]
        },
        {
          "data": {
            "text/html": [
              "<div>\n",
              "<style scoped>\n",
              "    .dataframe tbody tr th:only-of-type {\n",
              "        vertical-align: middle;\n",
              "    }\n",
              "\n",
              "    .dataframe tbody tr th {\n",
              "        vertical-align: top;\n",
              "    }\n",
              "\n",
              "    .dataframe thead th {\n",
              "        text-align: right;\n",
              "    }\n",
              "</style>\n",
              "<table border=\"1\" class=\"dataframe\">\n",
              "  <thead>\n",
              "    <tr style=\"text-align: right;\">\n",
              "      <th></th>\n",
              "      <th>xlsx_file</th>\n",
              "      <th>sheets</th>\n",
              "    </tr>\n",
              "  </thead>\n",
              "  <tbody>\n",
              "    <tr>\n",
              "      <th>0</th>\n",
              "      <td>Controle de Empenhos e NC 2022.xlsx</td>\n",
              "      <td>[ControleGeral, SintéticoGeral, SintéticoNC, A...</td>\n",
              "    </tr>\n",
              "    <tr>\n",
              "      <th>1</th>\n",
              "      <td>Controle de NC 2022.xlsx</td>\n",
              "      <td>[SintéticoNC, AnalíticoNC, ÍndiceCorreção]</td>\n",
              "    </tr>\n",
              "    <tr>\n",
              "      <th>2</th>\n",
              "      <td>Emendas2021_resumo.xlsx</td>\n",
              "      <td>[Planilha1]</td>\n",
              "    </tr>\n",
              "    <tr>\n",
              "      <th>3</th>\n",
              "      <td>Proponentes.xlsx</td>\n",
              "      <td>[Proponentes]</td>\n",
              "    </tr>\n",
              "  </tbody>\n",
              "</table>\n",
              "</div>"
            ],
            "text/plain": [
              "                             xlsx_file  \\\n",
              "0  Controle de Empenhos e NC 2022.xlsx   \n",
              "1             Controle de NC 2022.xlsx   \n",
              "2              Emendas2021_resumo.xlsx   \n",
              "3                     Proponentes.xlsx   \n",
              "\n",
              "                                              sheets  \n",
              "0  [ControleGeral, SintéticoGeral, SintéticoNC, A...  \n",
              "1         [SintéticoNC, AnalíticoNC, ÍndiceCorreção]  \n",
              "2                                        [Planilha1]  \n",
              "3                                      [Proponentes]  "
            ]
          },
          "execution_count": 157,
          "metadata": {},
          "output_type": "execute_result"
        }
      ],
      "source": [
        "start_time = time()\n",
        "#documentating information about the excel files and sheets inside of it.\n",
        "\n",
        "files = os.listdir()\n",
        "\n",
        "xslx_files = [x for x in files if x.split('.')[-1]=='xlsx' and x.split('.')[0]!='BI_Financeiro']\n",
        "\n",
        "def get_sheets_names(x):\n",
        "    xlsx = pd.ExcelFile(x)\n",
        "    return xlsx.sheet_names  # see all sheet names\n",
        "\n",
        "sheets_names = [get_sheets_names(excel) for excel in xslx_files ]\n",
        "\n",
        "lst_src = list(zip(xslx_files, sheets_names))\n",
        "\n",
        "for i,v in enumerate(lst_src): \n",
        "    exec(f\"xlsx_{i} = '{v[0]}'\")\n",
        "\n",
        "df_xlsx = pd.DataFrame(lst_src, columns=['xlsx_file','sheets'])\n",
        "\n",
        "end_time = time(); print(f'Time: This code took {ceil(end_time-start_time)} seconds to run.'); total_time = end_time-start_time\n",
        "\n",
        "print('df_xlsx: '); df_xlsx"
      ]
    },
    {
      "cell_type": "code",
      "execution_count": 158,
      "metadata": {
        "colab": {
          "base_uri": "https://localhost:8080/"
        },
        "id": "LK6KkF7qpiTu",
        "outputId": "4b75bbd7-6d74-4cb0-c8cb-ec7eb1807e18"
      },
      "outputs": [
        {
          "name": "stderr",
          "output_type": "stream",
          "text": [
            "/home/roberto/.local/lib/python3.10/site-packages/openpyxl/worksheet/_reader.py:312: UserWarning: Conditional Formatting extension is not supported and will be removed\n",
            "  warn(msg)\n",
            "/home/roberto/.local/lib/python3.10/site-packages/openpyxl/worksheet/_reader.py:312: UserWarning: Slicer List extension is not supported and will be removed\n",
            "  warn(msg)\n"
          ]
        },
        {
          "name": "stdout",
          "output_type": "stream",
          "text": [
            "Time: This code took 1 seconds to run.\n"
          ]
        },
        {
          "data": {
            "text/html": [
              "<div>\n",
              "<style scoped>\n",
              "    .dataframe tbody tr th:only-of-type {\n",
              "        vertical-align: middle;\n",
              "    }\n",
              "\n",
              "    .dataframe tbody tr th {\n",
              "        vertical-align: top;\n",
              "    }\n",
              "\n",
              "    .dataframe thead th {\n",
              "        text-align: right;\n",
              "    }\n",
              "</style>\n",
              "<table border=\"1\" class=\"dataframe\">\n",
              "  <thead>\n",
              "    <tr style=\"text-align: right;\">\n",
              "      <th></th>\n",
              "      <th>df_name</th>\n",
              "      <th>sheet_name</th>\n",
              "      <th>project</th>\n",
              "    </tr>\n",
              "  </thead>\n",
              "  <tbody>\n",
              "    <tr>\n",
              "      <th>0</th>\n",
              "      <td>df_an</td>\n",
              "      <td>AnalíticoNC</td>\n",
              "      <td>financeiro</td>\n",
              "    </tr>\n",
              "    <tr>\n",
              "      <th>1</th>\n",
              "      <td>df_sn</td>\n",
              "      <td>SintéticoNC</td>\n",
              "      <td>financeiro</td>\n",
              "    </tr>\n",
              "    <tr>\n",
              "      <th>2</th>\n",
              "      <td>df_ic</td>\n",
              "      <td>ÍndiceCorreção</td>\n",
              "      <td>financeiro</td>\n",
              "    </tr>\n",
              "    <tr>\n",
              "      <th>3</th>\n",
              "      <td>df_pr</td>\n",
              "      <td>Proponentes</td>\n",
              "      <td>all</td>\n",
              "    </tr>\n",
              "    <tr>\n",
              "      <th>4</th>\n",
              "      <td>df_cg</td>\n",
              "      <td>ControleGeral</td>\n",
              "      <td>financeiro</td>\n",
              "    </tr>\n",
              "    <tr>\n",
              "      <th>5</th>\n",
              "      <td>df_em</td>\n",
              "      <td>Emendas2021_resumo</td>\n",
              "      <td>financeiro</td>\n",
              "    </tr>\n",
              "  </tbody>\n",
              "</table>\n",
              "</div>"
            ],
            "text/plain": [
              "  df_name          sheet_name     project\n",
              "0   df_an         AnalíticoNC  financeiro\n",
              "1   df_sn         SintéticoNC  financeiro\n",
              "2   df_ic      ÍndiceCorreção  financeiro\n",
              "3   df_pr         Proponentes         all\n",
              "4   df_cg       ControleGeral  financeiro\n",
              "5   df_em  Emendas2021_resumo  financeiro"
            ]
          },
          "execution_count": 158,
          "metadata": {},
          "output_type": "execute_result"
        }
      ],
      "source": [
        "start_time = time()\n",
        "\n",
        "df_nm =[\n",
        "('df_an', 'AnalíticoNC'),\n",
        "('df_sn', 'SintéticoNC'), \n",
        "('df_ic', 'ÍndiceCorreção'),\n",
        "('df_pr', 'Proponentes'),\n",
        "('df_cg', 'ControleGeral'),\n",
        "('df_em', 'Emendas2021_resumo')]\n",
        "\n",
        "excel_file_1 = 'Controle de NC 2022.xlsx'\n",
        "excel_file_2 = 'Proponentes.xlsx'\n",
        "excel_file_3 = 'Controle de Empenhos e NC 2022.xlsx'\n",
        "excel_file_4 = 'Emendas2021_resumo.xlsx'\n",
        "\n",
        "df_sheets = pd.DataFrame(df_nm, columns = ['df_name', 'sheet_name'])\n",
        "\n",
        "df_nm = [y for x,y in df_nm]\n",
        "\n",
        "df_an = pd.read_excel(excel_file_1,sheet_name=df_nm[0],\n",
        "usecols=\"B:J\", skiprows=1,parse_dates=True)\n",
        "\n",
        "df_sn = pd.read_excel(excel_file_1, sheet_name=df_nm[1],\n",
        "usecols=\"B:J\", skiprows=3,parse_dates=True)\n",
        "\n",
        "df_ic = pd.read_excel(excel_file_1, sheet_name=df_nm[2],\n",
        "skiprows=1,usecols=\"B:E\")\n",
        "\n",
        "df_pr = pd.read_excel(excel_file_2)\n",
        "\n",
        "df_cg = pd.read_excel(excel_file_3, sheet_name=df_nm[4]\n",
        ", skiprows=12,usecols=\"c:w\")\n",
        "\n",
        "df_em= pd.read_excel(excel_file_4)\n",
        "\n",
        "##----------------------------------------------------------\n",
        "df_sheets['project'] = 'financeiro'\n",
        "df_sheets.project.loc[df_sheets['sheet_name']=='Proponentes'] = 'all'\n",
        "\n",
        "end_time = time(); print(f'Time: This code took {ceil(end_time-start_time)} seconds to run.'); total_time = end_time-start_time\n",
        "df_sheets"
      ]
    },
    {
      "cell_type": "code",
      "execution_count": 159,
      "metadata": {
        "colab": {
          "base_uri": "https://localhost:8080/"
        },
        "id": "-AHwQnIBHmCV",
        "outputId": "7beda762-590e-41a5-a899-da4456c61656"
      },
      "outputs": [
        {
          "name": "stdout",
          "output_type": "stream",
          "text": [
            "Time: This code took 1 seconds to run.\n"
          ]
        }
      ],
      "source": [
        "start_time = time()\n",
        "# criando função 'regexing' p/ subst. nomes abreviados de forma a normalizar as strings\n",
        "\n",
        "\n",
        "lst_re = [('PRF ','POLICIA RODOVIARIA FEDERAL '),\n",
        "('DEP. FEDERAL ', ''),\n",
        "('MCOM ', 'MINISTERIO DAS COMUNICACOES '),\n",
        "('DEP. FEDERAL', ''),\n",
        "('PRF ','POLICIA RODOVIARIA FEDERAL '),\n",
        "('MIN. ','MINISTERIO '),\n",
        "('SENADORA ',''),\n",
        "('SENADOR ',''),\n",
        "('DEP. ','')]\n",
        " \n",
        "\n",
        "def regexing(s):\n",
        "   for string in lst_re:\n",
        "        return re.sub(string[0],string[1],s)\n",
        "\n",
        "lst_proponente = []\n",
        "\n",
        "for index, prop in enumerate(df_pr['prop_pk1']):\n",
        "    if df_pr['orgao'][index] == \"senado\":\n",
        "        lst_proponente.append('SEN. ' + prop)\n",
        "    elif  df_pr['orgao'][index] == \"camara\":\n",
        "        lst_proponente.append('DEP. ' + prop)\n",
        "    else: \n",
        "        lst_proponente.append(prop)\n",
        "\n",
        "df_pr['prop_pk2'] = lst_proponente\n",
        "\n",
        "end_time = time(); print(f'Time: This code took {ceil(end_time-start_time)} seconds to run.'); total_time += end_time-start_time\n",
        "#Time: This ckode took 1 seconds to run."
      ]
    },
    {
      "cell_type": "code",
      "execution_count": 160,
      "metadata": {
        "colab": {
          "base_uri": "https://localhost:8080/"
        },
        "id": "ITyNEaULpiTw",
        "outputId": "3117a5d4-fc0c-4989-d27e-01f8bec96bb4"
      },
      "outputs": [
        {
          "name": "stdout",
          "output_type": "stream",
          "text": [
            "Time: This code took 1 seconds to run.\n"
          ]
        },
        {
          "data": {
            "text/html": [
              "<div>\n",
              "<style scoped>\n",
              "    .dataframe tbody tr th:only-of-type {\n",
              "        vertical-align: middle;\n",
              "    }\n",
              "\n",
              "    .dataframe tbody tr th {\n",
              "        vertical-align: top;\n",
              "    }\n",
              "\n",
              "    .dataframe thead th {\n",
              "        text-align: right;\n",
              "    }\n",
              "</style>\n",
              "<table border=\"1\" class=\"dataframe\">\n",
              "  <thead>\n",
              "    <tr style=\"text-align: right;\">\n",
              "      <th></th>\n",
              "      <th>df_name</th>\n",
              "      <th>sheet_name</th>\n",
              "      <th>project</th>\n",
              "      <th>columns</th>\n",
              "    </tr>\n",
              "  </thead>\n",
              "  <tbody>\n",
              "    <tr>\n",
              "      <th>0</th>\n",
              "      <td>df_an</td>\n",
              "      <td>AnalíticoNC</td>\n",
              "      <td>financeiro</td>\n",
              "      <td>[proponente, nota_de_credito, programa, mes, v...</td>\n",
              "    </tr>\n",
              "    <tr>\n",
              "      <th>1</th>\n",
              "      <td>df_sn</td>\n",
              "      <td>SintéticoNC</td>\n",
              "      <td>financeiro</td>\n",
              "      <td>[nc, proponente, programa, empenho, valor_inic...</td>\n",
              "    </tr>\n",
              "    <tr>\n",
              "      <th>2</th>\n",
              "      <td>df_ic</td>\n",
              "      <td>ÍndiceCorreção</td>\n",
              "      <td>financeiro</td>\n",
              "      <td>[mes, indice_de_correcao, taxa_selic, observacao]</td>\n",
              "    </tr>\n",
              "    <tr>\n",
              "      <th>3</th>\n",
              "      <td>df_pr</td>\n",
              "      <td>Proponentes</td>\n",
              "      <td>all</td>\n",
              "      <td>[prop_pk1, uf, partido, orgao, prop_1, prop_2,...</td>\n",
              "    </tr>\n",
              "    <tr>\n",
              "      <th>4</th>\n",
              "      <td>df_cg</td>\n",
              "      <td>ControleGeral</td>\n",
              "      <td>financeiro</td>\n",
              "      <td>[processo, proponente, contrato, nota_de_empen...</td>\n",
              "    </tr>\n",
              "    <tr>\n",
              "      <th>5</th>\n",
              "      <td>df_em</td>\n",
              "      <td>Emendas2021_resumo</td>\n",
              "      <td>financeiro</td>\n",
              "      <td>[processo, emenda, valor, pontos_livre_(18_mes...</td>\n",
              "    </tr>\n",
              "  </tbody>\n",
              "</table>\n",
              "</div>"
            ],
            "text/plain": [
              "  df_name          sheet_name     project  \\\n",
              "0   df_an         AnalíticoNC  financeiro   \n",
              "1   df_sn         SintéticoNC  financeiro   \n",
              "2   df_ic      ÍndiceCorreção  financeiro   \n",
              "3   df_pr         Proponentes         all   \n",
              "4   df_cg       ControleGeral  financeiro   \n",
              "5   df_em  Emendas2021_resumo  financeiro   \n",
              "\n",
              "                                             columns  \n",
              "0  [proponente, nota_de_credito, programa, mes, v...  \n",
              "1  [nc, proponente, programa, empenho, valor_inic...  \n",
              "2  [mes, indice_de_correcao, taxa_selic, observacao]  \n",
              "3  [prop_pk1, uf, partido, orgao, prop_1, prop_2,...  \n",
              "4  [processo, proponente, contrato, nota_de_empen...  \n",
              "5  [processo, emenda, valor, pontos_livre_(18_mes...  "
            ]
          },
          "execution_count": 160,
          "metadata": {},
          "output_type": "execute_result"
        }
      ],
      "source": [
        "start_time = time()\n",
        "\n",
        "def strip_accents(cln):\n",
        "   cln = str(cln)\n",
        "   return ''.join(c for c in unicodedata.normalize('NFD', cln)if unicodedata.category(c) != 'Mn')\n",
        "\n",
        "def clean_column_name(cln):\n",
        "    return strip_accents(cln.strip('[]()').lower().replace(' ','_'))\n",
        "\n",
        "def rename_df(df):\n",
        "    new_cln = [clean_column_name(cln) for cln in df.columns.values]\n",
        "    old_cln = [cln for cln in df.columns.values]\n",
        "    dct = dict(zip(old_cln, new_cln))\n",
        "    df.rename(columns=dct,inplace=True)\n",
        "    lst_df_clns.append(new_cln)\n",
        "    return df\n",
        "\n",
        "#creating a list with all dfs from the data dictionary\n",
        "dfs = [ x for x in df_sheets.df_name]\n",
        "cmd = str(dfs).replace(\"'\",\"\") \n",
        "exec('dfs = {}'.format(cmd))\n",
        "\n",
        "lst_df_clns = []\n",
        "for df in dfs:\n",
        "    rename_df(df)\n",
        "\n",
        "\n",
        "df_sheets['columns'] = lst_df_clns \n",
        "\n",
        "end_time = time(); print(f'Time: This code took {ceil(end_time-start_time)} seconds to run.'); total_time = end_time-start_time\n",
        "\n",
        "df_sheets"
      ]
    },
    {
      "cell_type": "code",
      "execution_count": 161,
      "metadata": {
        "colab": {
          "base_uri": "https://localhost:8080/"
        },
        "id": "_8VdFDvMUMIS",
        "outputId": "0f018bc7-02ea-4f1c-806f-381c6b4abe15"
      },
      "outputs": [
        {
          "name": "stdout",
          "output_type": "stream",
          "text": [
            "Time: This code took 1 seconds to run.\n"
          ]
        }
      ],
      "source": [
        "start_time = time()\n",
        "\n",
        "\n",
        "df_em['proponente'] = df_em['emenda']\n",
        "#fazendo o loop sobre a lista acima para aplicar as funções que normalizam a coluna com as chaves dos proponentes\n",
        "lst_df = [df_sn, df_an, df_cg, df_em]\n",
        "for df in lst_df: \n",
        "    df['proponente'] = df['proponente'].apply(lambda x:strip_accents(x).upper()).apply(lambda x:regexing(x))\n",
        "    df['proponente'] = df['proponente'].apply(lambda x:str(x).strip())\n",
        "#\n",
        "lst_pr = (df_pr['prop_pk1'], df_pr['prop_1'],df_pr['prop_2'], df_pr['prop_3'],df_pr['prop_4'])\n",
        "#df_sn['proponente'] = df_sn['proponente'].apply(lambda x:strip_accents(x).upper()).apply(lambda x:regexing(x))\n",
        "#df_sn['proponente'] = df_sn['proponente'].apply(lambda x:str(x).strip())\n",
        "for cln in lst_pr:\n",
        "    cln = cln.apply(lambda x:strip_accents(x).upper()).apply(lambda x:regexing(x))\n",
        "    \n",
        "end_time = time(); print(f'Time: This code took {ceil(end_time-start_time)} seconds to run.'); total_time += end_time-start_time"
      ]
    },
    {
      "cell_type": "code",
      "execution_count": 162,
      "metadata": {},
      "outputs": [],
      "source": [
        "#cleaning df_em\n",
        "\n",
        "lamb1 = lambda x: str(x).split('-')[0]\n",
        "lamb2 = lambda x: str(x).split('(')[0]\n",
        "lamb3 = lambda x: str(x).replace('DEP. ','')\n",
        "lamb4 = lambda x: str(x).replace('SEN. ','')\n",
        "lamb5 = lambda x: str(x).strip()\n",
        "\n",
        "df_em.proponente = df_em.proponente.apply(lamb1)\n",
        "df_em.proponente = df_em.proponente.apply(lamb2)\n",
        "df_em.proponente = df_em.proponente.apply(lamb3)\n",
        "df_em.proponente = df_em.proponente.apply(lamb4)\n",
        "\n",
        "#for x in df_em.proponente:\n",
        "#    for y in lst_re:\n",
        "#        x = x.replace(y[0],y[1])\n",
        "#    lst.append(x)\n",
        "\n"
      ]
    },
    {
      "cell_type": "markdown",
      "metadata": {
        "id": "mx4mO4bWHmCT"
      },
      "source": [
        "O objetivo inicial do projeto foi limpar os dados relacionados ao os proponentes com a criação de uma coluna nova referente ao nome civil do proponente para que esses valores pudessem ser usados como chave entre diferentes tabelas que serao parametrizadas entre si."
      ]
    },
    {
      "cell_type": "code",
      "execution_count": 163,
      "metadata": {
        "colab": {
          "base_uri": "https://localhost:8080/"
        },
        "id": "FnvJm9-8pfCz",
        "outputId": "b63adca6-3fd5-4bd4-893c-cf1dfdf78191"
      },
      "outputs": [
        {
          "name": "stdout",
          "output_type": "stream",
          "text": [
            "Time: This code took 2 seconds to run.\n"
          ]
        }
      ],
      "source": [
        "start_time = time()\n",
        "\n",
        "#criando lista dos DataFrames pelo qual o loop passara referente aos proponentes\n",
        "dfs = (df_sn, df_an,df_cg, df_em)\n",
        "\n",
        "#criando as colunas das primary_keys nos 3 dataframes\n",
        "for df in dfs:\n",
        "    df['prop_pk1'] = ''\n",
        "    df['prop_pk2'] = ''\n",
        "    \n",
        "#criando lista das colunas referente ao nome dos proponentes \n",
        "def filter_key(x):\n",
        "    return (x == lst_pr[0])|(x==lst_pr[1])|(x==lst_pr[2])|(x==lst_pr[3])\n",
        "\n",
        "for df in lst_df:\n",
        "    lst_prop_pk1 = []\n",
        "    lst_prop_pk2= []\n",
        "    for index,value in enumerate(df.proponente):\n",
        "        filt_finding_key =  filter_key(df.proponente.iloc[index])\n",
        "        result1 = str(df_pr.loc[filt_finding_key].prop_pk1.values).strip(\"[']\")\n",
        "        result2 = str(df_pr.loc[filt_finding_key].prop_pk2.values).strip(\"[']\")\n",
        "        lst_prop_pk1.append(result1)\n",
        "        lst_prop_pk2.append(result2)\n",
        "    df['prop_pk1'] = lst_prop_pk1\n",
        "    df['prop_pk2'] = lst_prop_pk2\n",
        "\n",
        "end_time = time(); print(f'Time: This code took {ceil(end_time-start_time)} seconds to run.'); total_time += end_time-start_time"
      ]
    },
    {
      "cell_type": "code",
      "execution_count": 164,
      "metadata": {
        "colab": {
          "base_uri": "https://localhost:8080/",
          "height": 337
        },
        "id": "-2klq1mcUMIQ",
        "outputId": "dccd9d2f-8d52-4e99-d4d0-c19f180c7cc8"
      },
      "outputs": [
        {
          "name": "stdout",
          "output_type": "stream",
          "text": [
            "Time: This code took 1 seconds to run.\n"
          ]
        }
      ],
      "source": [
        "start_time = time()\n",
        "#cleaning analitic sintetic rows\n",
        "\n",
        "lst = ['SUBTOTAL','TOTAL','NAN']\n",
        "\n",
        "for value in lst:\n",
        "    df_sn = df_sn.loc[df_sn['proponente'] != value ]  \n",
        "    df_em = df_em.loc[df_em['proponente'] != value ]  \n",
        "    \n",
        "df_sn.fillna(0,inplace=True)\n",
        "df_an.fillna(0,inplace=True)\n",
        "\n",
        "end_time = time(); print(f'Time: This code took {ceil(end_time-start_time)} seconds to run.'); total_time += end_time-start_time"
      ]
    },
    {
      "cell_type": "code",
      "execution_count": 165,
      "metadata": {},
      "outputs": [
        {
          "name": "stdout",
          "output_type": "stream",
          "text": [
            "The loop is ok!\n",
            "The loop is ok!\n",
            "Time: This code took 1 seconds to run.\n"
          ]
        }
      ],
      "source": [
        "start_time = time()\n",
        "dfs = [df_an, df_ic]\n",
        "\n",
        "for index,df in enumerate(dfs): \n",
        "    meses = [mes for mes in df.mes.unique()]\n",
        "    n_mes = ['01/2021','02/2021','03/2021','04/2021','05/2021','06/2021','07/2021','08/2021','09/2021','10/2021','11/2021','12/2021']\n",
        "    meses = list(zip(meses, n_mes))\n",
        "\n",
        "    for index,value in enumerate(meses):\n",
        "        df['mes'].replace(meses[index][0],meses[index][1],inplace=True)\n",
        "\n",
        "\n",
        "    df['mes']= pd.to_datetime(df['mes'])\n",
        "    if (df.mes.dtype == '<M8[ns]') == True:\n",
        "        print(f'The loop is ok!')\n",
        "        \n",
        "    else: print('The loops is broke!')\n",
        "    \n",
        "end_time = time(); print(f'Time: This code took {ceil(end_time-start_time)} seconds to run.'); total_time += end_time-start_time"
      ]
    },
    {
      "cell_type": "code",
      "execution_count": 166,
      "metadata": {
        "colab": {
          "base_uri": "https://localhost:8080/"
        },
        "id": "99JeittPpiTz",
        "outputId": "29a7dc17-cfdc-48a4-b8da-0c9b62e9d369"
      },
      "outputs": [
        {
          "name": "stdout",
          "output_type": "stream",
          "text": [
            "DF COM OS PROPONENTES QUE NÃO APRESENTARAM CORRESPONDÊNCIA COM A COLUNA DO NOME CIVIL:\n",
            "mkdir: cannot create directory ‘trash’: File exists\n",
            "Time: This code took 1 seconds to run.\n"
          ]
        }
      ],
      "source": [
        "#checando se tem dfs sem prop_pk \n",
        "start_time = time()\n",
        "\n",
        "dfs  = [df_an, df_sn,df_em]\n",
        "lst_no_cv_name = []\n",
        "for df in dfs:\n",
        "    for index, value in enumerate(df.loc[df.prop_pk1==''].proponente.values):\n",
        "        if value not in lst_no_cv_name:\n",
        "            lst_no_cv_name.append(df.loc[df.prop_pk1==''].proponente.values[index])\n",
        "        else:pass\n",
        "\n",
        "print('DF COM OS PROPONENTES QUE NÃO APRESENTARAM CORRESPONDÊNCIA COM A COLUNA DO NOME CIVIL:')\n",
        "df_pr_nokey = pd.DataFrame()\n",
        "df_pr_nokey['prop_nokey']= lst_no_cv_name\n",
        "df_pr_nokey['prop_pk1']= ''\n",
        "df_pr_nokey['orgao']=''\n",
        "df_pr_nokey['uf']=''\n",
        "df_pr_nokey['partido']=''\n",
        "\n",
        "save = True\n",
        "if save == True:\n",
        "    %mkdir trash\n",
        "    df_pr_nokey.to_excel('trash/props_with_no_key.xlsx')\n",
        "else:pass\n",
        "\n",
        "end_time = time(); print(f'Time: This code took {ceil(end_time-start_time)} seconds to run.'); total_time += end_time-start_time\n",
        "\n",
        "#df_em.loc[df_em.prop_pk1!='']['prop_pk1']"
      ]
    },
    {
      "cell_type": "code",
      "execution_count": 167,
      "metadata": {},
      "outputs": [
        {
          "data": {
            "text/html": [
              "<div>\n",
              "<style scoped>\n",
              "    .dataframe tbody tr th:only-of-type {\n",
              "        vertical-align: middle;\n",
              "    }\n",
              "\n",
              "    .dataframe tbody tr th {\n",
              "        vertical-align: top;\n",
              "    }\n",
              "\n",
              "    .dataframe thead th {\n",
              "        text-align: right;\n",
              "    }\n",
              "</style>\n",
              "<table border=\"1\" class=\"dataframe\">\n",
              "  <thead>\n",
              "    <tr style=\"text-align: right;\">\n",
              "      <th></th>\n",
              "      <th>df_name</th>\n",
              "      <th>sheet_name</th>\n",
              "      <th>project</th>\n",
              "      <th>columns</th>\n",
              "    </tr>\n",
              "  </thead>\n",
              "  <tbody>\n",
              "    <tr>\n",
              "      <th>0</th>\n",
              "      <td>df_an</td>\n",
              "      <td>AnalíticoNC</td>\n",
              "      <td>financeiro</td>\n",
              "      <td>[proponente, nota_de_credito, programa, mes, v...</td>\n",
              "    </tr>\n",
              "    <tr>\n",
              "      <th>1</th>\n",
              "      <td>df_sn</td>\n",
              "      <td>SintéticoNC</td>\n",
              "      <td>financeiro</td>\n",
              "      <td>[nc, proponente, programa, empenho, valor_inic...</td>\n",
              "    </tr>\n",
              "    <tr>\n",
              "      <th>2</th>\n",
              "      <td>df_ic</td>\n",
              "      <td>ÍndiceCorreção</td>\n",
              "      <td>financeiro</td>\n",
              "      <td>[mes, indice_de_correcao, taxa_selic, observacao]</td>\n",
              "    </tr>\n",
              "    <tr>\n",
              "      <th>3</th>\n",
              "      <td>df_pr</td>\n",
              "      <td>Proponentes</td>\n",
              "      <td>all</td>\n",
              "      <td>[prop_pk1, uf, partido, orgao, prop_1, prop_2,...</td>\n",
              "    </tr>\n",
              "    <tr>\n",
              "      <th>4</th>\n",
              "      <td>df_cg</td>\n",
              "      <td>ControleGeral</td>\n",
              "      <td>financeiro</td>\n",
              "      <td>[processo, proponente, contrato, nota_de_empen...</td>\n",
              "    </tr>\n",
              "    <tr>\n",
              "      <th>5</th>\n",
              "      <td>df_em</td>\n",
              "      <td>Emendas2021_resumo</td>\n",
              "      <td>financeiro</td>\n",
              "      <td>[processo, emenda, valor, pontos_livre_(18_mes...</td>\n",
              "    </tr>\n",
              "  </tbody>\n",
              "</table>\n",
              "</div>"
            ],
            "text/plain": [
              "  df_name          sheet_name     project  \\\n",
              "0   df_an         AnalíticoNC  financeiro   \n",
              "1   df_sn         SintéticoNC  financeiro   \n",
              "2   df_ic      ÍndiceCorreção  financeiro   \n",
              "3   df_pr         Proponentes         all   \n",
              "4   df_cg       ControleGeral  financeiro   \n",
              "5   df_em  Emendas2021_resumo  financeiro   \n",
              "\n",
              "                                             columns  \n",
              "0  [proponente, nota_de_credito, programa, mes, v...  \n",
              "1  [nc, proponente, programa, empenho, valor_inic...  \n",
              "2  [mes, indice_de_correcao, taxa_selic, observacao]  \n",
              "3  [prop_pk1, uf, partido, orgao, prop_1, prop_2,...  \n",
              "4  [processo, proponente, contrato, nota_de_empen...  \n",
              "5  [processo, emenda, valor, pontos_livre_(18_mes...  "
            ]
          },
          "execution_count": 167,
          "metadata": {},
          "output_type": "execute_result"
        }
      ],
      "source": [
        "df_sheets"
      ]
    },
    {
      "cell_type": "code",
      "execution_count": 168,
      "metadata": {
        "colab": {
          "base_uri": "https://localhost:8080/"
        },
        "id": "yEiLy_QxpfC2",
        "outputId": "20cefd82-a674-4aef-ecb2-960f0b8d0c47"
      },
      "outputs": [
        {
          "name": "stdout",
          "output_type": "stream",
          "text": [
            "Time: This code took 1 seconds to run.\n"
          ]
        }
      ],
      "source": [
        "start_time = time()\n",
        "\n",
        "#installing the python library to save the data an excel with all the sheets\n",
        "%rm -r PowerBI_Dataset\n",
        "%mkdir PowerBI_Dataset\n",
        "%mkdir PowerBI_Dataset/csv/\n",
        "%mkdir PowerBI_Dataset/xlsx\n",
        "\n",
        "path = 'PowerBI_Dataset' \n",
        "#putting all dfs inside the excel\n",
        "for i, v in enumerate(df_sheets['df_name']):\n",
        "  command1 = (f\"{df_sheets['df_name'][i]}.to_csv('{path}/csv/{v}.csv')\")\n",
        "  command2 = (f\"{df_sheets['df_name'][i]}.to_excel('{path}/xlsx/{v}.xlsx')\")\n",
        "  exec(command1)\n",
        "  exec(command2)\n",
        "  \n",
        "end_time = time(); print(f'Time: This code took {ceil(end_time-start_time)} seconds to run.'); total_time += end_time-start_time"
      ]
    },
    {
      "cell_type": "code",
      "execution_count": 169,
      "metadata": {},
      "outputs": [
        {
          "data": {
            "text/html": [
              "<div>\n",
              "<style scoped>\n",
              "    .dataframe tbody tr th:only-of-type {\n",
              "        vertical-align: middle;\n",
              "    }\n",
              "\n",
              "    .dataframe tbody tr th {\n",
              "        vertical-align: top;\n",
              "    }\n",
              "\n",
              "    .dataframe thead th {\n",
              "        text-align: right;\n",
              "    }\n",
              "</style>\n",
              "<table border=\"1\" class=\"dataframe\">\n",
              "  <thead>\n",
              "    <tr style=\"text-align: right;\">\n",
              "      <th></th>\n",
              "      <th>df_name</th>\n",
              "      <th>sheet_name</th>\n",
              "      <th>project</th>\n",
              "      <th>columns</th>\n",
              "    </tr>\n",
              "  </thead>\n",
              "  <tbody>\n",
              "    <tr>\n",
              "      <th>0</th>\n",
              "      <td>df_an</td>\n",
              "      <td>AnalíticoNC</td>\n",
              "      <td>financeiro</td>\n",
              "      <td>[proponente, nota_de_credito, programa, mes, v...</td>\n",
              "    </tr>\n",
              "    <tr>\n",
              "      <th>1</th>\n",
              "      <td>df_sn</td>\n",
              "      <td>SintéticoNC</td>\n",
              "      <td>financeiro</td>\n",
              "      <td>[nc, proponente, programa, empenho, valor_inic...</td>\n",
              "    </tr>\n",
              "    <tr>\n",
              "      <th>2</th>\n",
              "      <td>df_ic</td>\n",
              "      <td>ÍndiceCorreção</td>\n",
              "      <td>financeiro</td>\n",
              "      <td>[mes, indice_de_correcao, taxa_selic, observacao]</td>\n",
              "    </tr>\n",
              "    <tr>\n",
              "      <th>3</th>\n",
              "      <td>df_pr</td>\n",
              "      <td>Proponentes</td>\n",
              "      <td>all</td>\n",
              "      <td>[prop_pk1, uf, partido, orgao, prop_1, prop_2,...</td>\n",
              "    </tr>\n",
              "    <tr>\n",
              "      <th>4</th>\n",
              "      <td>df_cg</td>\n",
              "      <td>ControleGeral</td>\n",
              "      <td>financeiro</td>\n",
              "      <td>[processo, proponente, contrato, nota_de_empen...</td>\n",
              "    </tr>\n",
              "    <tr>\n",
              "      <th>5</th>\n",
              "      <td>df_em</td>\n",
              "      <td>Emendas2021_resumo</td>\n",
              "      <td>financeiro</td>\n",
              "      <td>[processo, emenda, valor, pontos_livre_(18_mes...</td>\n",
              "    </tr>\n",
              "  </tbody>\n",
              "</table>\n",
              "</div>"
            ],
            "text/plain": [
              "  df_name          sheet_name     project  \\\n",
              "0   df_an         AnalíticoNC  financeiro   \n",
              "1   df_sn         SintéticoNC  financeiro   \n",
              "2   df_ic      ÍndiceCorreção  financeiro   \n",
              "3   df_pr         Proponentes         all   \n",
              "4   df_cg       ControleGeral  financeiro   \n",
              "5   df_em  Emendas2021_resumo  financeiro   \n",
              "\n",
              "                                             columns  \n",
              "0  [proponente, nota_de_credito, programa, mes, v...  \n",
              "1  [nc, proponente, programa, empenho, valor_inic...  \n",
              "2  [mes, indice_de_correcao, taxa_selic, observacao]  \n",
              "3  [prop_pk1, uf, partido, orgao, prop_1, prop_2,...  \n",
              "4  [processo, proponente, contrato, nota_de_empen...  \n",
              "5  [processo, emenda, valor, pontos_livre_(18_mes...  "
            ]
          },
          "execution_count": 169,
          "metadata": {},
          "output_type": "execute_result"
        }
      ],
      "source": [
        "%rm -r Data_Dictionary\n",
        "%mkdir Data_Dictionary\n",
        "%mkdir Data_Dictionary/csv/\n",
        "%mkdir Data_Dictionary/xlsx/\n",
        "%mkdir Data_Dictionary/csv/Columns/\n",
        "%mkdir Data_Dictionary/xlsx/Columns/\n",
        "\n",
        "path = 'Data_Dictionary'\n",
        "\n",
        "for df in ('df_sheets', 'df_xlsx'):\n",
        "    exec(f\"{df}.to_csv('{path}/csv/{df}.csv')\")\n",
        "    exec(f\"{df}.to_excel('{path}/xlsx/{df}.xlsx')\")\n",
        "\n",
        "\n",
        "#df_nm = 'df_xlsx'\n",
        "#df = exec(f'{df_nm}') \n",
        "#exec(f\"{df}.to_csv('{path}/csv/{df_nm}.csv')\")\n",
        "#exec(f\"{df]}.to_excel('{path}/xlsx/{df_nm}.xlsx')\")\n",
        "\n",
        "path2 = 'Columns'\n",
        "\n",
        "for i, df  in enumerate(df_sheets['df_name']):\n",
        "       exec(f'df = {df}')\n",
        "       lst_cl = []\n",
        "       for cl in df.columns: lst_cl.append(cl)\n",
        "       dct = {'columns':lst_cl}\n",
        "       exec(f\"{df_sheets['df_name'][i]}_columns = pd.DataFrame(dct)\")\n",
        "       exec(f\"{df_sheets['df_name'][i]}_columns['descricao'] = '' \")\n",
        "       exec(f\"{df_sheets['df_name'][i]}_columns.to_csv('{path}/csv/{path2}/{df_sheets['sheet_name'][i]}.csv')\")\n",
        "       exec(f\"{df_sheets['df_name'][i]}_columns.to_excel('{path}/xlsx/{path2}/{df_sheets['sheet_name'][i]}.xlsx')\")\n",
        "\n",
        "\n",
        "\n",
        "df_sheets\n"
      ]
    },
    {
      "cell_type": "code",
      "execution_count": 171,
      "metadata": {
        "colab": {
          "base_uri": "https://localhost:8080/"
        },
        "id": "wydYUhwXpfC3",
        "outputId": "a9425a49-6711-4212-c110-8a62f076218d"
      },
      "outputs": [
        {
          "name": "stdout",
          "output_type": "stream",
          "text": [
            "Time: The total time to run all the notebook was 0:00:02.513593.\n"
          ]
        }
      ],
      "source": [
        "final_time= str(timedelta(seconds= total_time)); print(f'Time: The total time to run all the notebook was {final_time}.')\n",
        "#Time: The total time to run all the notebook is 00:39 minutes."
      ]
    }
  ],
  "metadata": {
    "colab": {
      "collapsed_sections": [],
      "name": "controle_financeiro_gesac1 (1).ipynb",
      "provenance": []
    },
    "kernelspec": {
      "display_name": "Python 3",
      "name": "python3"
    },
    "language_info": {
      "codemirror_mode": {
        "name": "ipython",
        "version": 3
      },
      "file_extension": ".py",
      "mimetype": "text/x-python",
      "name": "python",
      "nbconvert_exporter": "python",
      "pygments_lexer": "ipython3",
      "version": "3.10.2"
    }
  },
  "nbformat": 4,
  "nbformat_minor": 0
}
