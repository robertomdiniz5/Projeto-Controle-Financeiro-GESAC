{
  "cells": [
    {
      "cell_type": "code",
      "execution_count": 8,
      "metadata": {
        "id": "oJHobPvxHmCO"
      },
      "outputs": [],
      "source": [
        "import pandas as pd\n",
        "import numpy as np\n",
        "import regex as re\n",
        "from datetime import datetime\n",
        "from time import time\n",
        "from math import ceil\n",
        "from datetime import timedelta\n",
        "import unicodedata  "
      ]
    },
    {
      "cell_type": "code",
      "execution_count": 35,
      "metadata": {
        "colab": {
          "base_uri": "https://localhost:8080/"
        },
        "id": "LK6KkF7qpiTu",
        "outputId": "4b75bbd7-6d74-4cb0-c8cb-ec7eb1807e18"
      },
      "outputs": [
        {
          "name": "stderr",
          "output_type": "stream",
          "text": [
            "/home/roberto/.local/lib/python3.10/site-packages/openpyxl/worksheet/_reader.py:312: UserWarning: Conditional Formatting extension is not supported and will be removed\n",
            "  warn(msg)\n",
            "/home/roberto/.local/lib/python3.10/site-packages/openpyxl/worksheet/_reader.py:312: UserWarning: Slicer List extension is not supported and will be removed\n",
            "  warn(msg)\n"
          ]
        },
        {
          "name": "stdout",
          "output_type": "stream",
          "text": [
            "Time: This code took 2 seconds to run.\n"
          ]
        }
      ],
      "source": [
        "start_time = time()\n",
        "\n",
        "df_names =[\n",
        "('df_an', 'AnalíticoNC'),\n",
        "('df_sn', 'SintéticoNC'),\n",
        "('df_ic', 'ÍndiceCorreção'),\n",
        "('df_pr', 'Proponentes'),\n",
        "('df_cg', 'ControleGeral'),\n",
        "\n",
        "e1 = 'Controle de NC 2022.xlsx'\n",
        "e2 = 'Proponentes.xlsx'\n",
        "e3 = 'Controle de Empenhos e NC 2022.xlsx'   \n",
        "\n",
        "df_an = pd.read_excel(e1, sheet_name=df_names[0][1],\n",
        "usecols=\"B:J\", skiprows=1,parse_dates=True)\n",
        "\n",
        "df_sn = pd.read_excel(e1, sheet_name=df_names[1][1],\n",
        "usecols=\"B:J\", skiprows=3,parse_dates=True)\n",
        "\n",
        "df_ic = pd.read_excel(e1, sheet_name=df_names[2][1],\n",
        "skiprows=1,usecols=\"B:E\")\n",
        "\n",
        "df_pr = pd.read_excel(e2, sheet_name=0)\n",
        "\n",
        "df_cg = pd.read_excel(e3, sheet_name=df_names[4][1]\n",
        ", skiprows=12,usecols=\"c:w\")\n",
        "\n",
        "##----------------------------------------------------------\n",
        "\n",
        "end_time = time(); print(f'Time: This code took {ceil(end_time-start_time)} seconds to run.'); total_time = end_time-start_time"
      ]
    },
    {
      "cell_type": "code",
      "execution_count": 67,
      "metadata": {
        "colab": {
          "base_uri": "https://localhost:8080/"
        },
        "id": "-AHwQnIBHmCV",
        "outputId": "7beda762-590e-41a5-a899-da4456c61656"
      },
      "outputs": [
        {
          "name": "stdout",
          "output_type": "stream",
          "text": [
            "Time: This code took 1 seconds to run.\n"
          ]
        }
      ],
      "source": [
        "start_time = time()\n",
        "# criando função 'regexing' p/ subst. nomes abreviados de forma a normalizar as strings\n",
        "def regexing(s):\n",
        "    lst = [\n",
        "    ('PRF ','POLICIA RODOVIARIA FEDERAL '),\n",
        "    ('DEP. FEDERAL ', ''),\n",
        "    ('MCOM ', 'MINISTERIO DAS COMUNICACOES '),\n",
        "    ('DEP. FEDERAL', ''),\n",
        "    ('PRF ','POLICIA RODOVIARIA FEDERAL '),\n",
        "    ('MIN. ','MINISTERIO '),\n",
        "    ('SENADORA ',''),\n",
        "    ('SENADOR ',''),\n",
        "    ]\n",
        "    for string in lst:\n",
        "        return re.sub(string[0],string[1],s)\n",
        "\n",
        "\n",
        "\n",
        "lst_proponente = []\n",
        "\n",
        "for index, prop in enumerate(df_pr['prop_pk1']):\n",
        "    if df_pr['orgao'][index] == \"senado\":\n",
        "        lst_proponente.append('SEN. ' + prop)\n",
        "    elif  df_pr['orgao'][index] == \"camara\":\n",
        "        lst_proponente.append('DEP. ' + prop)\n",
        "    else: \n",
        "        lst_proponente.append(prop)\n",
        "\n",
        "df_pr['prop_pk2'] = lst_proponente\n",
        "\n",
        "end_time = time(); print(f'Time: This code took {ceil(end_time-start_time)} seconds to run.'); total_time += end_time-start_time\n",
        "#Time: This code took 1 seconds to run."
      ]
    },
    {
      "cell_type": "code",
      "execution_count": 68,
      "metadata": {
        "colab": {
          "base_uri": "https://localhost:8080/"
        },
        "id": "ITyNEaULpiTw",
        "outputId": "3117a5d4-fc0c-4989-d27e-01f8bec96bb4"
      },
      "outputs": [
        {
          "name": "stdout",
          "output_type": "stream",
          "text": [
            "Time: This code took 1 seconds to run.\n"
          ]
        },
        {
          "data": {
            "text/plain": [
              "[(('df_an', 'AnalíticoNC'),\n",
              "  ['proponente',\n",
              "   'nota_de_credito',\n",
              "   'programa',\n",
              "   'mes',\n",
              "   'valor_faturado',\n",
              "   'valor_economizado',\n",
              "   'valor_utilizado',\n",
              "   'saldo_no_periodo',\n",
              "   'relatorio']),\n",
              " (('df_sn', 'SintéticoNC'),\n",
              "  ['nc',\n",
              "   'proponente',\n",
              "   'programa',\n",
              "   'empenho',\n",
              "   'valor_inicial_nc',\n",
              "   'valor_utilizado',\n",
              "   'valor_economizado',\n",
              "   'saldo',\n",
              "   'consumo_da_nc_%']),\n",
              " (('df_ic', 'ÍndiceCorreção'),\n",
              "  ['mes', 'indice_de_correcao', 'taxa_selic', 'observacao']),\n",
              " (('df_pr', 'Proponente'),\n",
              "  ['prop_pk1',\n",
              "   'uf',\n",
              "   'partido',\n",
              "   'orgao',\n",
              "   'prop_1',\n",
              "   'prop_2',\n",
              "   'prop_3',\n",
              "   'prop_4',\n",
              "   'prop_pk2'])]"
            ]
          },
          "execution_count": 68,
          "metadata": {},
          "output_type": "execute_result"
        }
      ],
      "source": [
        "start_time = time()\n",
        "\n",
        "#----------------------------------------------------------------\n",
        "\"\"\"\n",
        "df_names =[\n",
        "('df_an', 'AnalíticoNC'),\n",
        "('df_sn', 'SintéticoNC'),\n",
        "('df_ic', 'ÍndiceCorreção'),\n",
        "('df_pr', 'Proponentes')]\"\"\"\n",
        "#put in the same order to make build the dictionary with data names\n",
        "dfs = [\n",
        "    df_an,\n",
        "    df_sn, \n",
        "    df_ic, \n",
        "    df_pr]\n",
        "#----------------------------------------------------------------\n",
        "def strip_accents(cln):\n",
        "   cln = str(cln)\n",
        "   return ''.join(c for c in unicodedata.normalize('NFD', cln)if unicodedata.category(c) != 'Mn')\n",
        "\n",
        "def clean_column_name(cln):\n",
        "    return strip_accents(cln.strip('[]()').lower().replace(' ','_'))\n",
        "\n",
        "def rename_df(df):\n",
        "    new_cln = [clean_column_name(cln) for cln in df.columns.values]\n",
        "    old_cln = [cln for cln in df.columns.values]\n",
        "    dct = dict(zip(old_cln, new_cln))\n",
        "    df.rename(columns=dct,inplace=True)\n",
        "    lst_df_clns.append(new_cln)\n",
        "    return df\n",
        "lst_df_clns = []\n",
        "for df in dfs:\n",
        "    rename_df(df)\n",
        "\n",
        "end_time = time(); print(f'Time: This code took {ceil(end_time-start_time)} seconds to run.'); total_time = end_time-start_time\n",
        "df_names = list(zip(df_names,lst_df_clns))\n",
        "df_names"
      ]
    },
    {
      "cell_type": "code",
      "execution_count": 69,
      "metadata": {
        "colab": {
          "base_uri": "https://localhost:8080/"
        },
        "id": "_8VdFDvMUMIS",
        "outputId": "0f018bc7-02ea-4f1c-806f-381c6b4abe15"
      },
      "outputs": [
        {
          "name": "stdout",
          "output_type": "stream",
          "text": [
            "Time: This code took 1 seconds to run.\n"
          ]
        }
      ],
      "source": [
        "start_time = time()\n",
        "\n",
        "#fazendo o loop sobre a lista acima para aplicar as funções que normalizam a coluna com as chaves dos proponentes\n",
        "lst_df = [df_sn, df_an]\n",
        "for df in lst_df: \n",
        "    df['proponente'] = df['proponente'].apply(lambda x:strip_accents(x).upper()).apply(lambda x:regexing(x))\n",
        "    df['proponente'] = df['proponente'].apply(lambda x:str(x).strip())\n",
        "#\n",
        "lst_pr = (df_pr['prop_pk1'], df_pr['prop_1'],df_pr['prop_2'], df_pr['prop_3'],df_pr['prop_4'])\n",
        "#df_sn['proponente'] = df_sn['proponente'].apply(lambda x:strip_accents(x).upper()).apply(lambda x:regexing(x))\n",
        "#df_sn['proponente'] = df_sn['proponente'].apply(lambda x:str(x).strip())\n",
        "for cln in lst_pr:\n",
        "    cln = cln.apply(lambda x:strip_accents(x).upper()).apply(lambda x:regexing(x))\n",
        "    \n",
        "end_time = time(); print(f'Time: This code took {ceil(end_time-start_time)} seconds to run.'); total_time += end_time-start_time"
      ]
    },
    {
      "cell_type": "markdown",
      "metadata": {
        "id": "mx4mO4bWHmCT"
      },
      "source": [
        "O objetivo inicial do projeto foi limpar os dados relacionados ao os proponentes com a criação de uma coluna nova referente ao nome civil do proponente para que esses valores pudessem ser usados como chave entre diferentes tabelas que serao parametrizadas entre si."
      ]
    },
    {
      "cell_type": "code",
      "execution_count": 70,
      "metadata": {
        "colab": {
          "base_uri": "https://localhost:8080/"
        },
        "id": "FnvJm9-8pfCz",
        "outputId": "b63adca6-3fd5-4bd4-893c-cf1dfdf78191"
      },
      "outputs": [
        {
          "name": "stdout",
          "output_type": "stream",
          "text": [
            "Time: This code took 2 seconds to run.\n"
          ]
        }
      ],
      "source": [
        "start_time = time()\n",
        "\n",
        "#criando lista dos DataFrames pelo qual o loop passara \n",
        "dfs = (df_sn, df_an)\n",
        "\n",
        "#criando as colunas das primary_keys nos 3 dataframes\n",
        "for df in dfs:\n",
        "    df['prop_pk1'] = ''\n",
        "    df['prop_pk2'] = ''\n",
        "    \n",
        "#criando lista das colunas referente ao nome dos proponentes \n",
        "def filter_key(x):\n",
        "    return (x == lst_pr[0])|(x==lst_pr[1])|(x==lst_pr[2])|(x==lst_pr[3])\n",
        "\n",
        "for df in lst_df:\n",
        "    lst_prop_pk1 = []\n",
        "    lst_prop_pk2= []\n",
        "    for index,value in enumerate(df.proponente):\n",
        "        filt_finding_key =  filter_key(df.proponente.iloc[index])\n",
        "        result1 = str(df_pr.loc[filt_finding_key].prop_pk1.values).strip(\"[']\")\n",
        "        result2 = str(df_pr.loc[filt_finding_key].prop_pk2.values).strip(\"[']\")\n",
        "        lst_prop_pk1.append(result1)\n",
        "        lst_prop_pk2.append(result2)\n",
        "    df['prop_pk1'] = lst_prop_pk1\n",
        "    df['prop_pk2'] = lst_prop_pk2\n",
        "\n",
        "end_time = time(); print(f'Time: This code took {ceil(end_time-start_time)} seconds to run.'); total_time += end_time-start_time"
      ]
    },
    {
      "cell_type": "code",
      "execution_count": 71,
      "metadata": {
        "colab": {
          "base_uri": "https://localhost:8080/",
          "height": 337
        },
        "id": "-2klq1mcUMIQ",
        "outputId": "dccd9d2f-8d52-4e99-d4d0-c19f180c7cc8"
      },
      "outputs": [],
      "source": [
        "#cleaning analitic sintetic rows\n",
        "\n",
        "lst = ['SUBTOTAL','TOTAL','NAN']\n",
        "\n",
        "for value in lst:\n",
        "    df_sn = df_sn.loc[df_sn['proponente'] != value ]  \n",
        "    \n",
        "df_sn.fillna(0,inplace=True)\n",
        "df_an.fillna(0,inplace=True)"
      ]
    },
    {
      "cell_type": "code",
      "execution_count": 72,
      "metadata": {},
      "outputs": [
        {
          "data": {
            "text/html": [
              "<div>\n",
              "<style scoped>\n",
              "    .dataframe tbody tr th:only-of-type {\n",
              "        vertical-align: middle;\n",
              "    }\n",
              "\n",
              "    .dataframe tbody tr th {\n",
              "        vertical-align: top;\n",
              "    }\n",
              "\n",
              "    .dataframe thead th {\n",
              "        text-align: right;\n",
              "    }\n",
              "</style>\n",
              "<table border=\"1\" class=\"dataframe\">\n",
              "  <thead>\n",
              "    <tr style=\"text-align: right;\">\n",
              "      <th></th>\n",
              "      <th>nc</th>\n",
              "      <th>proponente</th>\n",
              "      <th>programa</th>\n",
              "      <th>empenho</th>\n",
              "      <th>valor_inicial_nc</th>\n",
              "      <th>valor_utilizado</th>\n",
              "      <th>valor_economizado</th>\n",
              "      <th>saldo</th>\n",
              "      <th>consumo_da_nc_%</th>\n",
              "      <th>prop_pk1</th>\n",
              "      <th>prop_pk2</th>\n",
              "    </tr>\n",
              "  </thead>\n",
              "  <tbody>\n",
              "    <tr>\n",
              "      <th>0</th>\n",
              "      <td>01/2021</td>\n",
              "      <td>BANCADA DE ALAGOAS</td>\n",
              "      <td>GESAC</td>\n",
              "      <td>2021NE000127</td>\n",
              "      <td>1801472.7</td>\n",
              "      <td>1110000.0</td>\n",
              "      <td>1.441285e+05</td>\n",
              "      <td>691472.7</td>\n",
              "      <td>38.383746</td>\n",
              "      <td>BANCADA-AL</td>\n",
              "      <td>BANCADA-AL</td>\n",
              "    </tr>\n",
              "    <tr>\n",
              "      <th>1</th>\n",
              "      <td>02/2021</td>\n",
              "      <td>BANCADA DE ALAGOAS</td>\n",
              "      <td>GESAC</td>\n",
              "      <td>2021NE000156</td>\n",
              "      <td>524400.0</td>\n",
              "      <td>150000.0</td>\n",
              "      <td>4.121571e+04</td>\n",
              "      <td>374400.0</td>\n",
              "      <td>28.604119</td>\n",
              "      <td>BANCADA-AL</td>\n",
              "      <td>BANCADA-AL</td>\n",
              "    </tr>\n",
              "    <tr>\n",
              "      <th>2</th>\n",
              "      <td>03/2021</td>\n",
              "      <td>BANCADA DE ALAGOAS</td>\n",
              "      <td>GESAC</td>\n",
              "      <td>2021NE000209</td>\n",
              "      <td>5225812.0</td>\n",
              "      <td>60000.0</td>\n",
              "      <td>5.263889e+05</td>\n",
              "      <td>5165812.0</td>\n",
              "      <td>1.148147</td>\n",
              "      <td>BANCADA-AL</td>\n",
              "      <td>BANCADA-AL</td>\n",
              "    </tr>\n",
              "    <tr>\n",
              "      <th>3</th>\n",
              "      <td>04/2021</td>\n",
              "      <td>BANCADA DE MINAS GERAIS</td>\n",
              "      <td>GESAC</td>\n",
              "      <td>2021NE000083</td>\n",
              "      <td>13278264.4</td>\n",
              "      <td>40000.0</td>\n",
              "      <td>1.346667e+06</td>\n",
              "      <td>13238264.4</td>\n",
              "      <td>0.301244</td>\n",
              "      <td>BANCADA-MG</td>\n",
              "      <td>BANCADA-MG</td>\n",
              "    </tr>\n",
              "    <tr>\n",
              "      <th>4</th>\n",
              "      <td>05/2021</td>\n",
              "      <td>BANCADA DE SAO PAULO</td>\n",
              "      <td>GESAC</td>\n",
              "      <td>2021NE000171</td>\n",
              "      <td>1544762.0</td>\n",
              "      <td>560000.0</td>\n",
              "      <td>1.069632e+05</td>\n",
              "      <td>984762.0</td>\n",
              "      <td>36.251539</td>\n",
              "      <td>BANCADA-SP</td>\n",
              "      <td>BANCADA-SP</td>\n",
              "    </tr>\n",
              "    <tr>\n",
              "      <th>...</th>\n",
              "      <td>...</td>\n",
              "      <td>...</td>\n",
              "      <td>...</td>\n",
              "      <td>...</td>\n",
              "      <td>...</td>\n",
              "      <td>...</td>\n",
              "      <td>...</td>\n",
              "      <td>...</td>\n",
              "      <td>...</td>\n",
              "      <td>...</td>\n",
              "      <td>...</td>\n",
              "    </tr>\n",
              "    <tr>\n",
              "      <th>73</th>\n",
              "      <td>73/2021</td>\n",
              "      <td>ULDURICO JUNIOR</td>\n",
              "      <td>WifiBrasil</td>\n",
              "      <td>2021NE000186</td>\n",
              "      <td>141000.0</td>\n",
              "      <td>40000.0</td>\n",
              "      <td>1.005498e+04</td>\n",
              "      <td>101000.0</td>\n",
              "      <td>28.368794</td>\n",
              "      <td>ULDURICO ALENCAR PINTO</td>\n",
              "      <td>DEP. ULDURICO ALENCAR PINTO</td>\n",
              "    </tr>\n",
              "    <tr>\n",
              "      <th>74</th>\n",
              "      <td>74/2021</td>\n",
              "      <td>SORAYA THRONICKE</td>\n",
              "      <td>WifiBrasil</td>\n",
              "      <td>2021NE000193</td>\n",
              "      <td>155000.0</td>\n",
              "      <td>20000.0</td>\n",
              "      <td>1.262034e+04</td>\n",
              "      <td>135000.0</td>\n",
              "      <td>12.903226</td>\n",
              "      <td>SORAYA THRONICKE</td>\n",
              "      <td>SEN. SORAYA THRONICKE</td>\n",
              "    </tr>\n",
              "    <tr>\n",
              "      <th>75</th>\n",
              "      <td>75/2021</td>\n",
              "      <td>MCOM</td>\n",
              "      <td>WifiBrasil</td>\n",
              "      <td>2021NE000065</td>\n",
              "      <td>500000.0</td>\n",
              "      <td>60000.0</td>\n",
              "      <td>1.041698e+04</td>\n",
              "      <td>440000.0</td>\n",
              "      <td>12.000000</td>\n",
              "      <td>MINISTERIO DAS COMUNICACOES</td>\n",
              "      <td>MINISTERIO DAS COMUNICACOES</td>\n",
              "    </tr>\n",
              "    <tr>\n",
              "      <th>76</th>\n",
              "      <td>76/2021</td>\n",
              "      <td>CABO JUNIO AMARAL</td>\n",
              "      <td>WifiBrasil</td>\n",
              "      <td>2021NE000123</td>\n",
              "      <td>93000.0</td>\n",
              "      <td>70000.0</td>\n",
              "      <td>4.498251e+04</td>\n",
              "      <td>23000.0</td>\n",
              "      <td>75.268817</td>\n",
              "      <td>GERALDO JUNIO DO AMARAL</td>\n",
              "      <td>DEP. GERALDO JUNIO DO AMARAL</td>\n",
              "    </tr>\n",
              "    <tr>\n",
              "      <th>77</th>\n",
              "      <td>77/2021</td>\n",
              "      <td>LEUR LOMANTO</td>\n",
              "      <td>WifiBrasil</td>\n",
              "      <td>2021NE000100</td>\n",
              "      <td>28000.0</td>\n",
              "      <td>30000.0</td>\n",
              "      <td>6.934680e+03</td>\n",
              "      <td>-2000.0</td>\n",
              "      <td>107.142857</td>\n",
              "      <td>LEUR ANTONIO DE BRITTO LOMANTO JUNIOR</td>\n",
              "      <td>DEP. LEUR ANTONIO DE BRITTO LOMANTO JUNIOR</td>\n",
              "    </tr>\n",
              "  </tbody>\n",
              "</table>\n",
              "<p>77 rows × 11 columns</p>\n",
              "</div>"
            ],
            "text/plain": [
              "         nc               proponente    programa       empenho  \\\n",
              "0   01/2021       BANCADA DE ALAGOAS       GESAC  2021NE000127   \n",
              "1   02/2021       BANCADA DE ALAGOAS       GESAC  2021NE000156   \n",
              "2   03/2021       BANCADA DE ALAGOAS       GESAC  2021NE000209   \n",
              "3   04/2021  BANCADA DE MINAS GERAIS       GESAC  2021NE000083   \n",
              "4   05/2021     BANCADA DE SAO PAULO       GESAC  2021NE000171   \n",
              "..      ...                      ...         ...           ...   \n",
              "73  73/2021          ULDURICO JUNIOR  WifiBrasil  2021NE000186   \n",
              "74  74/2021         SORAYA THRONICKE  WifiBrasil  2021NE000193   \n",
              "75  75/2021                     MCOM  WifiBrasil  2021NE000065   \n",
              "76  76/2021        CABO JUNIO AMARAL  WifiBrasil  2021NE000123   \n",
              "77  77/2021             LEUR LOMANTO  WifiBrasil  2021NE000100   \n",
              "\n",
              "    valor_inicial_nc  valor_utilizado  valor_economizado       saldo  \\\n",
              "0          1801472.7        1110000.0       1.441285e+05    691472.7   \n",
              "1           524400.0         150000.0       4.121571e+04    374400.0   \n",
              "2          5225812.0          60000.0       5.263889e+05   5165812.0   \n",
              "3         13278264.4          40000.0       1.346667e+06  13238264.4   \n",
              "4          1544762.0         560000.0       1.069632e+05    984762.0   \n",
              "..               ...              ...                ...         ...   \n",
              "73          141000.0          40000.0       1.005498e+04    101000.0   \n",
              "74          155000.0          20000.0       1.262034e+04    135000.0   \n",
              "75          500000.0          60000.0       1.041698e+04    440000.0   \n",
              "76           93000.0          70000.0       4.498251e+04     23000.0   \n",
              "77           28000.0          30000.0       6.934680e+03     -2000.0   \n",
              "\n",
              "    consumo_da_nc_%                               prop_pk1  \\\n",
              "0         38.383746                             BANCADA-AL   \n",
              "1         28.604119                             BANCADA-AL   \n",
              "2          1.148147                             BANCADA-AL   \n",
              "3          0.301244                             BANCADA-MG   \n",
              "4         36.251539                             BANCADA-SP   \n",
              "..              ...                                    ...   \n",
              "73        28.368794                 ULDURICO ALENCAR PINTO   \n",
              "74        12.903226                       SORAYA THRONICKE   \n",
              "75        12.000000            MINISTERIO DAS COMUNICACOES   \n",
              "76        75.268817                GERALDO JUNIO DO AMARAL   \n",
              "77       107.142857  LEUR ANTONIO DE BRITTO LOMANTO JUNIOR   \n",
              "\n",
              "                                      prop_pk2  \n",
              "0                                   BANCADA-AL  \n",
              "1                                   BANCADA-AL  \n",
              "2                                   BANCADA-AL  \n",
              "3                                   BANCADA-MG  \n",
              "4                                   BANCADA-SP  \n",
              "..                                         ...  \n",
              "73                 DEP. ULDURICO ALENCAR PINTO  \n",
              "74                       SEN. SORAYA THRONICKE  \n",
              "75                 MINISTERIO DAS COMUNICACOES  \n",
              "76                DEP. GERALDO JUNIO DO AMARAL  \n",
              "77  DEP. LEUR ANTONIO DE BRITTO LOMANTO JUNIOR  \n",
              "\n",
              "[77 rows x 11 columns]"
            ]
          },
          "execution_count": 72,
          "metadata": {},
          "output_type": "execute_result"
        }
      ],
      "source": [
        "df_sn"
      ]
    },
    {
      "cell_type": "code",
      "execution_count": 73,
      "metadata": {},
      "outputs": [
        {
          "name": "stdout",
          "output_type": "stream",
          "text": [
            "The loop is ok!\n",
            "The loop is ok!\n"
          ]
        }
      ],
      "source": [
        "dfs = [df_an, df_ic]\n",
        "\n",
        "for index,df in enumerate(dfs): \n",
        "    meses = [mes for mes in df.mes.unique()]\n",
        "    n_mes = ['01/2021','02/2021','03/2021','04/2021','05/2021','06/2021','07/2021','08/2021','09/2021','10/2021','11/2021','12/2021']\n",
        "    meses = list(zip(meses, n_mes))\n",
        "\n",
        "    for index,value in enumerate(meses):\n",
        "        df['mes'].replace(meses[index][0],meses[index][1],inplace=True)\n",
        "\n",
        "\n",
        "    df['mes']= pd.to_datetime(df['mes'])\n",
        "    if (df.mes.dtype == '<M8[ns]') == True:\n",
        "        print(f'The loop is ok!')\n",
        "        \n",
        "    else: print('The loops is broke!')\n",
        "    \n",
        "#df_an['mes'] = pd.to_datetime(df_an['mes'])"
      ]
    },
    {
      "cell_type": "code",
      "execution_count": 74,
      "metadata": {
        "colab": {
          "base_uri": "https://localhost:8080/"
        },
        "id": "99JeittPpiTz",
        "outputId": "29a7dc17-cfdc-48a4-b8da-0c9b62e9d369"
      },
      "outputs": [
        {
          "name": "stdout",
          "output_type": "stream",
          "text": [
            "DF COM OS PROPONENTES QUE NÃO APRESENTARAM CORRESPONDÊNCIA COM A COLUNA DO NOME CIVIL:\n",
            "Time: This code took 1 seconds to run.\n"
          ]
        },
        {
          "data": {
            "text/html": [
              "<div>\n",
              "<style scoped>\n",
              "    .dataframe tbody tr th:only-of-type {\n",
              "        vertical-align: middle;\n",
              "    }\n",
              "\n",
              "    .dataframe tbody tr th {\n",
              "        vertical-align: top;\n",
              "    }\n",
              "\n",
              "    .dataframe thead th {\n",
              "        text-align: right;\n",
              "    }\n",
              "</style>\n",
              "<table border=\"1\" class=\"dataframe\">\n",
              "  <thead>\n",
              "    <tr style=\"text-align: right;\">\n",
              "      <th></th>\n",
              "      <th>prop_nokey</th>\n",
              "      <th>prop_pk1</th>\n",
              "      <th>orgao</th>\n",
              "      <th>uf</th>\n",
              "      <th>partido</th>\n",
              "    </tr>\n",
              "  </thead>\n",
              "  <tbody>\n",
              "  </tbody>\n",
              "</table>\n",
              "</div>"
            ],
            "text/plain": [
              "Empty DataFrame\n",
              "Columns: [prop_nokey, prop_pk1, orgao, uf, partido]\n",
              "Index: []"
            ]
          },
          "execution_count": 74,
          "metadata": {},
          "output_type": "execute_result"
        }
      ],
      "source": [
        "#checando se tem dfs sem prop_pk \n",
        "start_time = time()\n",
        "\n",
        "dfs  = [df_an, df_sn]\n",
        "lst_no_cv_name = []\n",
        "for df in dfs:\n",
        "    for index, value in enumerate(df.loc[df.prop_pk1==''].proponente.values):\n",
        "        if value not in lst_no_cv_name:\n",
        "            lst_no_cv_name.append(df.loc[df.prop_pk1==''].proponente.values[index])\n",
        "        else:pass\n",
        "\n",
        "print('DF COM OS PROPONENTES QUE NÃO APRESENTARAM CORRESPONDÊNCIA COM A COLUNA DO NOME CIVIL:')\n",
        "df_pr_nokey = pd.DataFrame()\n",
        "df_pr_nokey['prop_nokey']= lst_no_cv_name\n",
        "df_pr_nokey['prop_pk1']= ''\n",
        "df_pr_nokey['orgao']=''\n",
        "df_pr_nokey['uf']=''\n",
        "df_pr_nokey['partido']=''\n",
        "\n",
        "save = False\n",
        "if save == True:\n",
        "    df_pr_nokey.to_csv('ignore_prop_with_no_key.csv')\n",
        "else:pass\n",
        "\n",
        "end_time = time(); print(f'Time: This code took {ceil(end_time-start_time)} seconds to run.'); total_time += end_time-start_time\n",
        "df_pr_nokey"
      ]
    },
    {
      "cell_type": "code",
      "execution_count": 75,
      "metadata": {
        "colab": {
          "base_uri": "https://localhost:8080/"
        },
        "id": "yEiLy_QxpfC2",
        "outputId": "20cefd82-a674-4aef-ecb2-960f0b8d0c47"
      },
      "outputs": [
        {
          "name": "stdout",
          "output_type": "stream",
          "text": [
            "Defaulting to user installation because normal site-packages is not writeable\n",
            "Requirement already satisfied: xlsxwriter in /home/roberto/.local/lib/python3.10/site-packages (3.0.2)\n",
            "This is the command >>> dfs = [df_an, df_sn, df_ic, df_pr]\n",
            "Time: This code took 2 seconds to run.\n"
          ]
        }
      ],
      "source": [
        "start_time = time()\n",
        "\n",
        "#installing the python library to save the data an excel with all the sheets\n",
        "!pip install xlsxwriter\n",
        "\n",
        "dfs=[]\n",
        "\n",
        "#append dfs as str from the dictionary of data to a new list\n",
        "for i,v in enumerate(df_names):\n",
        "    dfs.append(df_names[i][0][0]) \n",
        "\n",
        "command = str('dfs = ' + str(dfs).replace(\"'\",'')) # building a command with strings\n",
        "\n",
        "print('This is the command >>>',command)\n",
        "\n",
        "exec(command) # executing the str as a command\n",
        "\n",
        "#giving the name to the excel sheets \n",
        "for i,df in enumerate(dfs):\n",
        "  dfs[i].name = df_names[i][0][1]\n",
        "\n",
        "#creating the excel file\n",
        "writer = pd.ExcelWriter('BI_Financeiro.xlsx',engine='xlsxwriter')\n",
        "workbook=writer.book\n",
        "\n",
        "#putting all dfs inside the excel\n",
        "for df in dfs:\n",
        "  worksheet=workbook.add_worksheet(df.name)\n",
        "  writer.sheets[df.name] = worksheet\n",
        "  df.to_excel(writer,sheet_name=df.name,startrow=0 , startcol=0, index=False)\n",
        "\n",
        "#saving\n",
        "writer.save()\n",
        "\n",
        "end_time = time(); print(f'Time: This code took {ceil(end_time-start_time)} seconds to run.'); total_time += end_time-start_time\n",
        "#Time: This code took 1 seconds to run."
      ]
    },
    {
      "cell_type": "code",
      "execution_count": 76,
      "metadata": {
        "colab": {
          "base_uri": "https://localhost:8080/"
        },
        "id": "wydYUhwXpfC3",
        "outputId": "a9425a49-6711-4212-c110-8a62f076218d"
      },
      "outputs": [
        {
          "name": "stdout",
          "output_type": "stream",
          "text": [
            "Time: The total time to run all the notebook was 0:00:03.385413.\n"
          ]
        }
      ],
      "source": [
        "final_time= str(timedelta(seconds= total_time)); print(f'Time: The total time to run all the notebook was {final_time}.')\n",
        "#Time: The total time to run all the notebook is 00:39 minutes."
      ]
    },
    {
      "cell_type": "code",
      "execution_count": null,
      "metadata": {},
      "outputs": [],
      "source": []
    }
  ],
  "metadata": {
    "colab": {
      "collapsed_sections": [],
      "name": "controle_financeiro_gesac1 (1).ipynb",
      "provenance": []
    },
    "kernelspec": {
      "display_name": "Python 3",
      "name": "python3"
    },
    "language_info": {
      "codemirror_mode": {
        "name": "ipython",
        "version": 3
      },
      "file_extension": ".py",
      "mimetype": "text/x-python",
      "name": "python",
      "nbconvert_exporter": "python",
      "pygments_lexer": "ipython3",
      "version": "3.10.2"
    }
  },
  "nbformat": 4,
  "nbformat_minor": 0
}
