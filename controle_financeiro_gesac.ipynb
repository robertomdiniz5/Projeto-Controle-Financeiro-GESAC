{
  "cells": [
    {
      "cell_type": "code",
      "execution_count": 104,
      "metadata": {
        "id": "oJHobPvxHmCO"
      },
      "outputs": [],
      "source": [
        "#the xlrd library is necessary for read xls file  \n",
        "#%pip install xlrd \n",
        "\n",
        "import pandas as pd\n",
        "import numpy as np\n",
        "import regex as re\n",
        "from datetime import datetime\n",
        "from time import time\n",
        "from time import sleep\n",
        "from math import ceil\n",
        "from datetime import timedelta\n",
        "import unicodedata  \n",
        "import os\n",
        "from IPython.display import clear_output\n",
        "from difflib import SequenceMatcher "
      ]
    },
    {
      "cell_type": "code",
      "execution_count": 105,
      "metadata": {},
      "outputs": [
        {
          "name": "stdout",
          "output_type": "stream",
          "text": [
            "[Errno 2] No such file or directory: 'Data_Source'\n",
            "/home/roberto/github/projeto_controle_financeiro_gesac-10/Data_Source\n",
            "EXCEL: Controle de Empenhos e NC 2022.xlsx >>> SHEETS: ['ControleGeral', 'SintéticoGeral', 'SintéticoNC', 'AnalíticoNC', 'ÍndiceCorreçãoNC']\n",
            "EXCEL: Controle de NC 2022.xlsx >>> SHEETS: ['SintéticoNC', 'AnalíticoNC', 'ÍndiceCorreção']\n",
            "EXCEL: Emendas2021_resumo.xlsx >>> SHEETS: ['Planilha1']\n",
            "EXCEL: Orçamentário MCOM 2021 16-11-21 setel.xlsx >>> SHEETS: ['Adm. Direta - Discricionárias', 'Emendas Individuais', 'Emendas de Bancada', 'dinamica', 'base']\n",
            "EXCEL: Proponentes.xlsx >>> SHEETS: ['Sheet1']\n",
            "EXCEL: Relatorio_SISGESAC 1-02-2022.xls >>> SHEETS: ['Extração']\n",
            "EXCEL: estados.xlsx >>> SHEETS: ['estados']\n",
            "/home/roberto/github/projeto_controle_financeiro_gesac-10\n"
          ]
        }
      ],
      "source": [
        "%cd Data_Source\n",
        "\n",
        "start_time = time()\n",
        "#documentating information about the excel files and sheets inside of it.\n",
        "\n",
        "#enter in the Data_Source folder to read the files\n",
        "#listing the files on the directory\n",
        "files = os.listdir()\n",
        "\n",
        "#getting all the files with xlsx or xls format\n",
        "xlsx_files = [x for x in files if x.split('.')[-1]=='xlsx' or  x.split('.')[-1]=='xls']\n",
        "\n",
        "def get_sheets_names(x):\n",
        "    xlsx = pd.ExcelFile(x)\n",
        "    return xlsx.sheet_names  # see all sheet names\n",
        "\n",
        "#putting all the sheets names inside a list\n",
        "sheets_names = [get_sheets_names(excel) for excel in xlsx_files]\n",
        "\n",
        "#zipping the lists togueter for execute as program\n",
        "lst_src = list(zip(xlsx_files, sheets_names))\n",
        "\n",
        "#building a dataframe with information about the excel files\n",
        "df_xlsx = pd.DataFrame(lst_src, columns=['xlsx_file','sheets'])\n",
        "\n",
        "for source in lst_src: print(f'EXCEL: {source[0]} >>> SHEETS: {source[1]}')\n",
        "\n",
        "%cd .."
      ]
    },
    {
      "cell_type": "code",
      "execution_count": 108,
      "metadata": {
        "colab": {
          "base_uri": "https://localhost:8080/"
        },
        "id": "LK6KkF7qpiTu",
        "outputId": "4b75bbd7-6d74-4cb0-c8cb-ec7eb1807e18"
      },
      "outputs": [
        {
          "name": "stdout",
          "output_type": "stream",
          "text": [
            "/home/roberto/github/projeto_controle_financeiro_gesac-10/Data_Source\n",
            "Time: This code took 48 seconds to run.\n",
            "[Errno 2] No such file or directory: 'Data_Source'\n",
            "/home/roberto/github/projeto_controle_financeiro_gesac-10/Data_Source\n"
          ]
        }
      ],
      "source": [
        "%cd Data_Source\n",
        "\n",
        "#!!!\n",
        "df_nm =[\n",
        "('df_an', 'AnalíticoNC'),\n",
        "# ('df_ei', 'Emendas Individuais'),\n",
        "('df_sn', 'SintéticoNC'), \n",
        "('df_ic', 'ÍndiceCorreção'),\n",
        "('df_pr', 'Sheet1'),\n",
        "('df_cg', 'ControleGeral'),\n",
        "('df_em', 'Planilha1'),\n",
        "('df_estados', 'estados'),\n",
        "('df_sg', 'Extração')] \n",
        "\n",
        "df_sheets = pd.DataFrame(df_nm, columns = ['df_name', 'sheet_name'])\n",
        "df_sheets['xlsx_file']= ''\n",
        "\n",
        "for i1, sheets in enumerate(df_xlsx['sheets']):\n",
        "    for i2, sheet in enumerate(df_sheets['sheet_name']):\n",
        "        if sheet in sheets:\n",
        "            df_sheets['xlsx_file'][i2] = df_xlsx['xlsx_file'][i1] \n",
        "\n",
        "def parameters(df):\n",
        "    excel = df_sheets.loc[df_sheets.df_name == df]['xlsx_file'].values[0]\n",
        "    sheet = df_sheets.loc[df_sheets.df_name == df]['sheet_name'].values[0]\n",
        "    return excel, sheet\n",
        "\n",
        "xlsx, sheet = parameters('df_an')\n",
        "df_an = pd.read_excel(xlsx,sheet_name=sheet,\n",
        "usecols=\"B:J\", skiprows=1,parse_dates=True)\n",
        "\n",
        "xlsx, sheet = parameters('df_sn')\n",
        "df_sn = pd.read_excel(xlsx, sheet_name=sheet,\n",
        "usecols=\"B:J\", skiprows=3,parse_dates=True)\n",
        "\n",
        "xlsx, sheet = parameters('df_ic')\n",
        "df_ic = pd.read_excel(xlsx, sheet_name=sheet,\n",
        "skiprows=1,usecols=\"B:E\")\n",
        "\n",
        "xlsx, sheet = parameters('df_pr')\n",
        "df_pr = pd.read_excel(xlsx)\n",
        "\n",
        "xlsx, sheet = parameters('df_cg')\n",
        "df_cg = pd.read_excel(xlsx, sheet_name=sheet\n",
        ", skiprows=12,usecols=\"c:w\")\n",
        "\n",
        "xlsx, sheet = parameters('df_em')\n",
        "df_em= pd.read_excel(xlsx, sheet_name=sheet)\n",
        "\n",
        "# xlsx, sheet = parameters('df_ei')\n",
        "# df_ei = pd.read_excel(xlsx)\n",
        "\n",
        "xlsx, sheet = parameters('df_estados')\n",
        "df_estados = pd.read_excel(xlsx)\n",
        "\n",
        "xlsx, sheet = parameters('df_sg')\n",
        "df_sg= pd.read_excel(xlsx)\n",
        "\n",
        "#In general the excel files with just one sheet don't have a good name, so the name was changed to be similar to the name of the excel file\n",
        "for i, sheet in enumerate(df_xlsx['sheets']):\n",
        "    if len(sheet)==1:\n",
        "        new_name = df_xlsx['xlsx_file'][i]\n",
        "        re_pattern = '(.xlsx?|\\d|-|\\s)'\n",
        "        new_name = re.sub(re_pattern,'',new_name)\n",
        "        df_sheets.sheet_name.loc[df_sheets.sheet_name == sheet[0]] = new_name\n",
        "    else: pass\n",
        "\n",
        "for index_1, xlsx_1 in enumerate(df_xlsx['xlsx_file']):\n",
        "    for index_2, xlsx_2 in enumerate(df_sheets['xlsx_file']):\n",
        "        if xlsx_1 == xlsx_2 and len(df_xlsx['sheets'][index_1])==1:\n",
        "            df_xlsx['sheets'][index_1] = df_sheets['sheet_name'][index_2]\n",
        "        else: pass\n",
        "\n",
        "#----------------------------------------------------------\n",
        "end_time = time(); print(f'Time: This code took {ceil(end_time-start_time)} seconds to run.'); total_time = end_time-start_time\n",
        "\n",
        "#Getting out of the Data_Source folder after having read the files\n",
        "%cd Data_Source"
      ]
    },
    {
      "cell_type": "code",
      "execution_count": 109,
      "metadata": {},
      "outputs": [
        {
          "name": "stdout",
          "output_type": "stream",
          "text": [
            "/home/roberto/github/projeto_controle_financeiro_gesac-10\n"
          ]
        }
      ],
      "source": [
        "#Getting out of the Data_Source folder after having read the files\n",
        "%cd .."
      ]
    },
    {
      "cell_type": "code",
      "execution_count": 110,
      "metadata": {
        "colab": {
          "base_uri": "https://localhost:8080/"
        },
        "id": "ITyNEaULpiTw",
        "outputId": "3117a5d4-fc0c-4989-d27e-01f8bec96bb4"
      },
      "outputs": [
        {
          "name": "stdout",
          "output_type": "stream",
          "text": [
            "Time: This code took 1 seconds to run.\n"
          ]
        }
      ],
      "source": [
        "start_time = time()\n",
        "\n",
        "def strip_accents(cln):\n",
        "   cln = str(cln)\n",
        "   return ''.join(c for c in unicodedata.normalize('NFD', cln)if unicodedata.category(c) != 'Mn')\n",
        "\n",
        "def clean_column_name(cln):\n",
        "    return strip_accents(str(cln).strip('[]()').lower().replace(' ','_'))\n",
        "\n",
        "def rename_df(df):\n",
        "    new_cln = [clean_column_name(cln) for cln in df.columns.values]\n",
        "    old_cln = [cln for cln in df.columns.values]\n",
        "    dct = dict(zip(old_cln, new_cln))\n",
        "    df.rename(columns=dct,inplace=True)\n",
        "    lst_df_clns.append(new_cln)\n",
        "    return df\n",
        "\n",
        "#creating a list with all dfs from the data dictionary\n",
        "dfs = [ x for x in df_sheets.df_name]\n",
        "cmd = str(dfs).replace(\"'\",\"\") \n",
        "exec('dfs = {}'.format(cmd))\n",
        "\n",
        "lst_df_clns = []\n",
        "for df in dfs:\n",
        "    rename_df(df)\n",
        "\n",
        "\n",
        "df_sheets['columns'] = lst_df_clns \n",
        "\n",
        "end_time = time(); print(f'Time: This code took {ceil(end_time-start_time)} seconds to run.'); total_time = end_time-start_time"
      ]
    },
    {
      "cell_type": "code",
      "execution_count": 111,
      "metadata": {},
      "outputs": [
        {
          "data": {
            "text/html": [
              "<div>\n",
              "<style scoped>\n",
              "    .dataframe tbody tr th:only-of-type {\n",
              "        vertical-align: middle;\n",
              "    }\n",
              "\n",
              "    .dataframe tbody tr th {\n",
              "        vertical-align: top;\n",
              "    }\n",
              "\n",
              "    .dataframe thead th {\n",
              "        text-align: right;\n",
              "    }\n",
              "</style>\n",
              "<table border=\"1\" class=\"dataframe\">\n",
              "  <thead>\n",
              "    <tr style=\"text-align: right;\">\n",
              "      <th></th>\n",
              "      <th>xlsx_file</th>\n",
              "      <th>sheets</th>\n",
              "    </tr>\n",
              "  </thead>\n",
              "  <tbody>\n",
              "    <tr>\n",
              "      <th>0</th>\n",
              "      <td>Controle de Empenhos e NC 2022.xlsx</td>\n",
              "      <td>[ControleGeral, SintéticoGeral, SintéticoNC, A...</td>\n",
              "    </tr>\n",
              "    <tr>\n",
              "      <th>1</th>\n",
              "      <td>Controle de NC 2022.xlsx</td>\n",
              "      <td>[SintéticoNC, AnalíticoNC, ÍndiceCorreção]</td>\n",
              "    </tr>\n",
              "    <tr>\n",
              "      <th>2</th>\n",
              "      <td>Emendas2021_resumo.xlsx</td>\n",
              "      <td>Emendas_resumo</td>\n",
              "    </tr>\n",
              "    <tr>\n",
              "      <th>3</th>\n",
              "      <td>Orçamentário MCOM 2021 16-11-21 setel.xlsx</td>\n",
              "      <td>[Adm. Direta - Discricionárias, Emendas Indivi...</td>\n",
              "    </tr>\n",
              "    <tr>\n",
              "      <th>4</th>\n",
              "      <td>Proponentes.xlsx</td>\n",
              "      <td>Proponentes</td>\n",
              "    </tr>\n",
              "    <tr>\n",
              "      <th>5</th>\n",
              "      <td>Relatorio_SISGESAC 1-02-2022.xls</td>\n",
              "      <td>Relatorio_SISGESAC</td>\n",
              "    </tr>\n",
              "    <tr>\n",
              "      <th>6</th>\n",
              "      <td>estados.xlsx</td>\n",
              "      <td>estados</td>\n",
              "    </tr>\n",
              "  </tbody>\n",
              "</table>\n",
              "</div>"
            ],
            "text/plain": [
              "                                    xlsx_file  \\\n",
              "0         Controle de Empenhos e NC 2022.xlsx   \n",
              "1                    Controle de NC 2022.xlsx   \n",
              "2                     Emendas2021_resumo.xlsx   \n",
              "3  Orçamentário MCOM 2021 16-11-21 setel.xlsx   \n",
              "4                            Proponentes.xlsx   \n",
              "5            Relatorio_SISGESAC 1-02-2022.xls   \n",
              "6                                estados.xlsx   \n",
              "\n",
              "                                              sheets  \n",
              "0  [ControleGeral, SintéticoGeral, SintéticoNC, A...  \n",
              "1         [SintéticoNC, AnalíticoNC, ÍndiceCorreção]  \n",
              "2                                     Emendas_resumo  \n",
              "3  [Adm. Direta - Discricionárias, Emendas Indivi...  \n",
              "4                                        Proponentes  \n",
              "5                                 Relatorio_SISGESAC  \n",
              "6                                            estados  "
            ]
          },
          "execution_count": 111,
          "metadata": {},
          "output_type": "execute_result"
        }
      ],
      "source": [
        "df_xlsx"
      ]
    },
    {
      "cell_type": "code",
      "execution_count": 112,
      "metadata": {},
      "outputs": [
        {
          "data": {
            "text/html": [
              "<div>\n",
              "<style scoped>\n",
              "    .dataframe tbody tr th:only-of-type {\n",
              "        vertical-align: middle;\n",
              "    }\n",
              "\n",
              "    .dataframe tbody tr th {\n",
              "        vertical-align: top;\n",
              "    }\n",
              "\n",
              "    .dataframe thead th {\n",
              "        text-align: right;\n",
              "    }\n",
              "</style>\n",
              "<table border=\"1\" class=\"dataframe\">\n",
              "  <thead>\n",
              "    <tr style=\"text-align: right;\">\n",
              "      <th></th>\n",
              "      <th>df_name</th>\n",
              "      <th>sheet_name</th>\n",
              "      <th>xlsx_file</th>\n",
              "      <th>columns</th>\n",
              "    </tr>\n",
              "  </thead>\n",
              "  <tbody>\n",
              "    <tr>\n",
              "      <th>0</th>\n",
              "      <td>df_an</td>\n",
              "      <td>AnalíticoNC</td>\n",
              "      <td>Controle de NC 2022.xlsx</td>\n",
              "      <td>[proponente, nota_de_credito, programa, mes, v...</td>\n",
              "    </tr>\n",
              "    <tr>\n",
              "      <th>1</th>\n",
              "      <td>df_sn</td>\n",
              "      <td>SintéticoNC</td>\n",
              "      <td>Controle de NC 2022.xlsx</td>\n",
              "      <td>[nc, proponente, programa, empenho, valor_inic...</td>\n",
              "    </tr>\n",
              "    <tr>\n",
              "      <th>2</th>\n",
              "      <td>df_ic</td>\n",
              "      <td>ÍndiceCorreção</td>\n",
              "      <td>Controle de NC 2022.xlsx</td>\n",
              "      <td>[mes, indice_de_correcao, taxa_selic, observacao]</td>\n",
              "    </tr>\n",
              "    <tr>\n",
              "      <th>3</th>\n",
              "      <td>df_pr</td>\n",
              "      <td>Proponentes</td>\n",
              "      <td>Proponentes.xlsx</td>\n",
              "      <td>[unnamed:_0, prop_pk1, uf, partido, orgao, pro...</td>\n",
              "    </tr>\n",
              "    <tr>\n",
              "      <th>4</th>\n",
              "      <td>df_cg</td>\n",
              "      <td>ControleGeral</td>\n",
              "      <td>Controle de Empenhos e NC 2022.xlsx</td>\n",
              "      <td>[processo, proponente, contrato, nota_de_empen...</td>\n",
              "    </tr>\n",
              "    <tr>\n",
              "      <th>5</th>\n",
              "      <td>df_em</td>\n",
              "      <td>Emendas_resumo</td>\n",
              "      <td>Emendas2021_resumo.xlsx</td>\n",
              "      <td>[processo, emenda, valor, pontos_livre_(18_mes...</td>\n",
              "    </tr>\n",
              "    <tr>\n",
              "      <th>6</th>\n",
              "      <td>df_estados</td>\n",
              "      <td>estados</td>\n",
              "      <td>estados.xlsx</td>\n",
              "      <td>[cod, nome, sigla]</td>\n",
              "    </tr>\n",
              "    <tr>\n",
              "      <th>7</th>\n",
              "      <td>df_sg</td>\n",
              "      <td>Relatorio_SISGESAC</td>\n",
              "      <td>Relatorio_SISGESAC 1-02-2022.xls</td>\n",
              "      <td>[cdgesac, nrpid, situacao, sgunidadefederacao,...</td>\n",
              "    </tr>\n",
              "  </tbody>\n",
              "</table>\n",
              "</div>"
            ],
            "text/plain": [
              "      df_name          sheet_name                            xlsx_file  \\\n",
              "0       df_an         AnalíticoNC             Controle de NC 2022.xlsx   \n",
              "1       df_sn         SintéticoNC             Controle de NC 2022.xlsx   \n",
              "2       df_ic      ÍndiceCorreção             Controle de NC 2022.xlsx   \n",
              "3       df_pr         Proponentes                     Proponentes.xlsx   \n",
              "4       df_cg       ControleGeral  Controle de Empenhos e NC 2022.xlsx   \n",
              "5       df_em      Emendas_resumo              Emendas2021_resumo.xlsx   \n",
              "6  df_estados             estados                         estados.xlsx   \n",
              "7       df_sg  Relatorio_SISGESAC     Relatorio_SISGESAC 1-02-2022.xls   \n",
              "\n",
              "                                             columns  \n",
              "0  [proponente, nota_de_credito, programa, mes, v...  \n",
              "1  [nc, proponente, programa, empenho, valor_inic...  \n",
              "2  [mes, indice_de_correcao, taxa_selic, observacao]  \n",
              "3  [unnamed:_0, prop_pk1, uf, partido, orgao, pro...  \n",
              "4  [processo, proponente, contrato, nota_de_empen...  \n",
              "5  [processo, emenda, valor, pontos_livre_(18_mes...  \n",
              "6                                 [cod, nome, sigla]  \n",
              "7  [cdgesac, nrpid, situacao, sgunidadefederacao,...  "
            ]
          },
          "execution_count": 112,
          "metadata": {},
          "output_type": "execute_result"
        }
      ],
      "source": [
        "df_sheets"
      ]
    },
    {
      "cell_type": "code",
      "execution_count": 113,
      "metadata": {},
      "outputs": [],
      "source": [
        "# criando função 'regexing' p/ subst. nomes abreviados de forma a normalizar as strings\n",
        "lst_re = [\n",
        "('PRF ','POLICIA RODOVIARIA FEDERAL '),\n",
        "('MCOM ', 'MINISTERIO DAS COMUNICACOES '),\n",
        "('BANCADA ','BANCADA-'),\n",
        "(r'(DA BANCADA-?|INDIVIDUAL)',''),\n",
        "(r'-D\\w ','-'),\n",
        "(r'\\s(PARA|AJUDAR|DURANTE|A PANDEMIA DE COVID-19|DE\\.)\\s',''),\n",
        "(r'\\s(PROJETO|DA BANCADA|WIFI-FI NA|PRACA|ALTERANDO)\\s',''),\n",
        "(r'^PONTO\\s(.*)DIA$',''),\n",
        "(r'(\\n)',''),\n",
        "(r'SEN\\.?(DOR\\w?)?',''),\n",
        "(r'(\\s?DEPA?\\.|\\s?DEPUTAD\\w?)\\s?\\s?(FEDERAL)?\\s?',''),\n",
        "(r'MIN/.?\\s','MINISTERIO '),\n",
        "(r'SOLICITA(CAO|d\\w|N?DO)\\s?(D\\w|PEL\\w|PARA\\sO|PARA\\sA)?',''),\n",
        "(r'\\w?\\s?PEDIDO\\s(FEIT\\w|D\\w)?\\s?(PEL\\w)?',''),\n",
        "(r'-\\s\\w*',''),\n",
        "(r'\\(.*\\)',''),\n",
        "]\n",
        "\n",
        "uf_re = zip(df_estados['nome'], df_estados['sigla'])\n",
        "for x in list(uf_re):\n",
        "    lst_re.append(x)"
      ]
    },
    {
      "cell_type": "code",
      "execution_count": 114,
      "metadata": {
        "colab": {
          "base_uri": "https://localhost:8080/"
        },
        "id": "-AHwQnIBHmCV",
        "outputId": "7beda762-590e-41a5-a899-da4456c61656"
      },
      "outputs": [
        {
          "name": "stdout",
          "output_type": "stream",
          "text": [
            "Time: This code took 1 seconds to run.\n"
          ]
        }
      ],
      "source": [
        "start_time = time()\n",
        "\n",
        "#criando lista dos DataFrames pelo qual o loop passara referente aos proponentes\n",
        "dfs = (df_sn, df_an,df_cg, df_em, df_sg)\n",
        "\n",
        "#criando as colunas das primary_keys nos 3 dataframes\n",
        "for df in dfs:\n",
        "    df['prop_pk1'] = ''\n",
        "    df['prop_pk2'] = ''\n",
        "\n",
        "def regexing(value):\n",
        "   for string in lst_re:\n",
        "        value = re.sub(string[0],string[1],value)\n",
        "   return value\n",
        "\n",
        "pk2 = []\n",
        "for index, prop in enumerate(df_pr['prop_pk1']):\n",
        "    if df_pr['orgao'][index] == \"senado\":\n",
        "        pk2.append('SEN. ' + prop)\n",
        "    elif  df_pr['orgao'][index] == \"camara\":\n",
        "        pk2.append('DEP. ' + prop)\n",
        "    else: \n",
        "        pk2.append(prop)\n",
        "df_pr['prop_pk2'] = pk2\n",
        "\n",
        "#criando lista dos DataFrames pelo qual o loop passara referente aos proponentes\n",
        "dfs = (df_sn, df_an,df_cg, df_em, df_sg)\n",
        "\n",
        "#criando as colunas das primary_keys nos 3 dataframes\n",
        "for df in dfs:\n",
        "    df['prop_pk1'] = ''\n",
        "    df['prop_pk2'] = ''\n",
        "\n",
        "end_time = time(); print(f'Time: This code took {ceil(end_time-start_time)} seconds to run.'); total_time += end_time-start_time\n",
        "#Time: This ckode took 1 seconds to run."
      ]
    },
    {
      "cell_type": "code",
      "execution_count": 115,
      "metadata": {
        "colab": {
          "base_uri": "https://localhost:8080/"
        },
        "id": "_8VdFDvMUMIS",
        "outputId": "0f018bc7-02ea-4f1c-806f-381c6b4abe15"
      },
      "outputs": [
        {
          "name": "stdout",
          "output_type": "stream",
          "text": [
            "Time: This code took 4 seconds to run.\n"
          ]
        }
      ],
      "source": [
        "start_time = time()\n",
        "\n",
        "df_sg['proponente'] = df_sg['nosolicitante'] \n",
        "df_em['proponente'] = df_em['emenda']\n",
        "\n",
        "#fazendo o loop sobre a lista acima para aplicar as funções que normalizam a coluna com as chaves dos proponentes\n",
        "lst_df = [df_sn, df_an, df_cg, df_em, df_sg]\n",
        "\n",
        "for df in lst_df: \n",
        "    df['proponente'] = df['proponente'].apply(lambda x:strip_accents(x).upper()).apply(lambda x:regexing(x))\n",
        "    df['proponente'] = df['proponente'].apply(lambda x:str(x).strip())\n",
        "  \n",
        "end_time = time(); print(f'Time: This code took {ceil(end_time-start_time)} seconds to run.'); total_time += end_time-start_time"
      ]
    },
    {
      "cell_type": "markdown",
      "metadata": {
        "id": "mx4mO4bWHmCT"
      },
      "source": [
        "O objetivo inicial do projeto foi limpar os dados relacionados ao os proponentes com a criação de uma coluna nova referente ao nome civil do proponente para que esses valores pudessem ser usados como chave entre diferentes tabelas que serao parametrizadas entre si."
      ]
    },
    {
      "cell_type": "code",
      "execution_count": 116,
      "metadata": {
        "colab": {
          "base_uri": "https://localhost:8080/"
        },
        "id": "FnvJm9-8pfCz",
        "outputId": "b63adca6-3fd5-4bd4-893c-cf1dfdf78191"
      },
      "outputs": [
        {
          "name": "stdout",
          "output_type": "stream",
          "text": [
            "Time: This code took 35 seconds to run.\n"
          ]
        }
      ],
      "source": [
        "start_time = time()\n",
        "\n",
        "lst_pr = (df_pr['prop_pk1'], df_pr['prop_1'],df_pr['prop_2'], df_pr['prop_3'],df_pr['prop_4'])\n",
        "\n",
        "for cln in lst_pr:\n",
        "    cln = cln.apply(lambda x:strip_accents(x).upper())\n",
        "\n",
        "#criando lista das colunas referente ao nome dos proponentes \n",
        "def filter_key(x):\n",
        "    return (x==lst_pr[0])|(x==lst_pr[1])|(x==lst_pr[2])|(x==lst_pr[3])|(x==lst_pr[4])\n",
        "\n",
        "for df in lst_df:\n",
        "    lst_prop_pk1 = []\n",
        "    lst_prop_pk2 = []\n",
        "    for index,value in enumerate(df.proponente):\n",
        "        filt_finding_key =  filter_key(df.proponente.iloc[index])\n",
        "        result1 = str(df_pr.loc[filt_finding_key].prop_pk1.values).strip(\"[']\")\n",
        "        result2 = str(df_pr.loc[filt_finding_key].prop_pk2.values).strip(\"[']\")\n",
        "        lst_prop_pk1.append(result1)\n",
        "        lst_prop_pk2.append(result2)\n",
        "    df['prop_pk1'] = lst_prop_pk1\n",
        "    df['prop_pk2'] = lst_prop_pk2\n",
        "\n",
        "end_time = time(); print(f'Time: This code took {ceil(end_time-start_time)} seconds to run.'); total_time += end_time-start_time"
      ]
    },
    {
      "cell_type": "code",
      "execution_count": 117,
      "metadata": {
        "colab": {
          "base_uri": "https://localhost:8080/",
          "height": 337
        },
        "id": "-2klq1mcUMIQ",
        "outputId": "dccd9d2f-8d52-4e99-d4d0-c19f180c7cc8"
      },
      "outputs": [
        {
          "name": "stdout",
          "output_type": "stream",
          "text": [
            "Time: This code took 1 seconds to run.\n"
          ]
        }
      ],
      "source": [
        "start_time = time()\n",
        "#cleaning analitic sintetic rows\n",
        "\n",
        "lst = ['SUBTOTAL','TOTAL','NAN']\n",
        "\n",
        "for value in lst:\n",
        "    df_sn = df_sn.loc[df_sn['proponente'] != value ]  \n",
        "    df_em = df_em.loc[df_em['proponente'] != value ]  \n",
        "    \n",
        "df_sn.fillna(0,inplace=True)\n",
        "df_an.fillna(0,inplace=True)\n",
        "\n",
        "end_time = time(); print(f'Time: This code took {ceil(end_time-start_time)} seconds to run.'); total_time += end_time-start_time"
      ]
    },
    {
      "cell_type": "code",
      "execution_count": 119,
      "metadata": {},
      "outputs": [],
      "source": [
        "#df_em['bancada']=''\n",
        "#df_em['individual']= ''\n",
        "#df_em.individual = df_em.emenda.apply(lambda x: False if 'individual' not in x else True) \n",
        "#df_em.bancada = df_em.emenda.apply(lambda x: str(x).split('bancada ')[-1].strip()[:-1] if '(bancada' in x else '') "
      ]
    },
    {
      "cell_type": "code",
      "execution_count": 120,
      "metadata": {},
      "outputs": [
        {
          "data": {
            "text/plain": [
              "[('FREDERICO', 'FREDERICO DE CASTRO ESCALEIRA'),\n",
              " ('FREDERICO', 'FREDERICO BORGES DA COSTA')]"
            ]
          },
          "execution_count": 120,
          "metadata": {},
          "output_type": "execute_result"
        }
      ],
      "source": [
        "lst_df_em_proponentes = []\n",
        "for prop in df_em['proponente'].loc[df_em['prop_pk1']=='']:\n",
        "    if prop not in lst_df_em_proponentes and prop!= '':\n",
        "        lst_df_em_proponentes.append(prop)\n",
        "\n",
        "props_pks = []\n",
        "for prop in lst_df_em_proponentes:\n",
        "    for prop_pk in df_pr['prop_pk1'].astype('str'):\n",
        "        if prop in prop_pk or prop_pk in prop:\n",
        "            props_pks.append((prop,prop_pk))\n",
        "        else:pass\n",
        "\n",
        "props_pks"
      ]
    },
    {
      "cell_type": "code",
      "execution_count": 121,
      "metadata": {},
      "outputs": [],
      "source": [
        "key = [pks for props, pks in props_pks]\n",
        "proponente = [props for props, pks in props_pks]\n",
        "\n",
        "program = 0 #0=off; 1=on\n",
        "save = 0 \n",
        "if program == True:\n",
        "    for index, value in enumerate(zip(key,proponente)):\n",
        "    \n",
        "        clear_output(wait=True);sleep(1)\n",
        "        for i in range(4,0,-1): \n",
        "            exec(f\"bool_v{i} = str(df_pr.loc[df_pr.prop_pk1 == key[{index}]].prop_{i}.values).strip('[]') == 'nan'\")\n",
        "            exec(f'lst_bool.append(bool_v{i})')\n",
        "            exec(f'if bool_v{i} == True: number = {i}')\n",
        "        \n",
        "        #menu_program\n",
        "        print(f'PROPONENTE: {proponente[index]}\\nPK: {key[index]}')\n",
        "        over_view = df_pr.loc[df_pr.prop_pk1 == key[index]][['prop_1','prop_2','prop_3','prop_4']]\n",
        "        print(over_view)\n",
        "        print('EXECUTE ?'); rule = int(input('EXECUTE ?'))\n",
        "        \n",
        "        if rule == True:\n",
        "            exec(f\"df_pr.loc[df_pr.prop_pk1 =='{key[index]}', 'prop_{number}'] = '{proponente[index]}'\")\n",
        "else: \n",
        "    pass\n",
        "\n",
        "if save == True:\n",
        "    %cd Data_Source\n",
        "    df_pr.to_excel('Proponentes.xlsx')\n",
        "    %cd .."
      ]
    },
    {
      "cell_type": "code",
      "execution_count": 122,
      "metadata": {},
      "outputs": [
        {
          "data": {
            "text/html": [
              "<div>\n",
              "<style scoped>\n",
              "    .dataframe tbody tr th:only-of-type {\n",
              "        vertical-align: middle;\n",
              "    }\n",
              "\n",
              "    .dataframe tbody tr th {\n",
              "        vertical-align: top;\n",
              "    }\n",
              "\n",
              "    .dataframe thead th {\n",
              "        text-align: right;\n",
              "    }\n",
              "</style>\n",
              "<table border=\"1\" class=\"dataframe\">\n",
              "  <thead>\n",
              "    <tr style=\"text-align: right;\">\n",
              "      <th></th>\n",
              "      <th>prop_pk1</th>\n",
              "      <th>prop_1</th>\n",
              "      <th>prop_2</th>\n",
              "      <th>prop_3</th>\n",
              "      <th>prop_4</th>\n",
              "    </tr>\n",
              "  </thead>\n",
              "  <tbody>\n",
              "    <tr>\n",
              "      <th>101</th>\n",
              "      <td>SERGIO PETECAO</td>\n",
              "      <td>SERGIO PETECAO</td>\n",
              "      <td>NaN</td>\n",
              "      <td>NaN</td>\n",
              "      <td>NaN</td>\n",
              "    </tr>\n",
              "  </tbody>\n",
              "</table>\n",
              "</div>"
            ],
            "text/plain": [
              "           prop_pk1          prop_1 prop_2 prop_3 prop_4\n",
              "101  SERGIO PETECAO  SERGIO PETECAO    NaN    NaN    NaN"
            ]
          },
          "execution_count": 122,
          "metadata": {},
          "output_type": "execute_result"
        }
      ],
      "source": [
        "#searching for proponetes in df_pr by the prop_n\n",
        "name = 'SERGIO PETECAO'\n",
        "#criando lista das colunas referente ao nome dos proponentes \n",
        "lst_cl = ['prop_pk1', 'prop_1', 'prop_2', 'prop_3', 'prop_4']\n",
        "delete = 0\n",
        "\n",
        "for i in range(4,0,-1): \n",
        "    column = 'prop_' + str(i)\n",
        "    value = df_pr.loc[df_pr[column] == name][column].values\n",
        "    if value.size > 0:\n",
        "        my_output = df_pr.loc[df_pr[column] == name][lst_cl]\n",
        "        if delete == True:\n",
        "            df_pr[column] = df_pr[column].replace(name,np.nan)\n",
        "            break\n",
        "        break\n",
        "\n",
        "my_output"
      ]
    },
    {
      "cell_type": "code",
      "execution_count": 123,
      "metadata": {},
      "outputs": [
        {
          "name": "stdout",
          "output_type": "stream",
          "text": [
            "The loop is ok!\n",
            "The loop is ok!\n",
            "Time: This code took 1 seconds to run.\n"
          ]
        }
      ],
      "source": [
        "start_time = time()\n",
        "dfs = [df_an, df_ic]\n",
        "\n",
        "for index,df in enumerate(dfs): \n",
        "    meses = [mes for mes in df.mes.unique()]\n",
        "    n_mes = ['01/2021','02/2021','03/2021','04/2021','05/2021','06/2021','07/2021','08/2021','09/2021','10/2021','11/2021','12/2021']\n",
        "    meses = list(zip(meses, n_mes))\n",
        "\n",
        "    for index,value in enumerate(meses):\n",
        "        df['mes'].replace(meses[index][0],meses[index][1],inplace=True)\n",
        "\n",
        "\n",
        "    df['mes']= pd.to_datetime(df['mes'])\n",
        "    if (df.mes.dtype == '<M8[ns]') == True:\n",
        "        print(f'The loop is ok!')\n",
        "        \n",
        "    else: print('The loops is broke!')\n",
        "    \n",
        "end_time = time(); print(f'Time: This code took {ceil(end_time-start_time)} seconds to run.'); total_time += end_time-start_time"
      ]
    },
    {
      "cell_type": "code",
      "execution_count": 124,
      "metadata": {
        "colab": {
          "base_uri": "https://localhost:8080/"
        },
        "id": "99JeittPpiTz",
        "outputId": "29a7dc17-cfdc-48a4-b8da-0c9b62e9d369"
      },
      "outputs": [
        {
          "name": "stdout",
          "output_type": "stream",
          "text": [
            "DF COM OS PROPONENTES QUE NÃO APRESENTARAM CORRESPONDÊNCIA COM A COLUNA DO NOME CIVIL:\n",
            "mkdir: cannot create directory ‘trash’: File exists\n",
            "Time: This code took 1 seconds to run.\n"
          ]
        }
      ],
      "source": [
        "#checando se tem dfs sem prop_pk \n",
        "start_time = time()\n",
        "\n",
        "dfs  = [df_an, df_sn,df_em, df_sg]\n",
        "lst_no_cv_name = []\n",
        "for df in dfs:\n",
        "    for index, value in enumerate(df.loc[df.prop_pk1==''].proponente.values):\n",
        "        if value not in lst_no_cv_name:\n",
        "            lst_no_cv_name.append(df.loc[df.prop_pk1==''].proponente.values[index])\n",
        "        else:pass\n",
        "\n",
        "print('DF COM OS PROPONENTES QUE NÃO APRESENTARAM CORRESPONDÊNCIA COM A COLUNA DO NOME CIVIL:')\n",
        "df_nk = pd.DataFrame()\n",
        "df_nk['proponente']= lst_no_cv_name\n",
        "\n",
        "save = True\n",
        "if save == True:\n",
        "    %mkdir trash\n",
        "    df_nk.to_excel('trash/props_with_no_key.xlsx')\n",
        "else:pass\n",
        "\n",
        "end_time = time(); print(f'Time: This code took {ceil(end_time-start_time)} seconds to run.'); total_time += end_time-start_time"
      ]
    },
    {
      "cell_type": "code",
      "execution_count": 125,
      "metadata": {},
      "outputs": [
        {
          "name": "stdout",
          "output_type": "stream",
          "text": [
            "\n",
            "\n",
            "[]\n"
          ]
        }
      ],
      "source": [
        "lst_pr = (df_pr['prop_pk1'], df_pr['prop_1'],df_pr['prop_2'], df_pr['prop_3'],df_pr['prop_4'])\n",
        "\n",
        "def filter_try(x):\n",
        "    return (x==lst_pr[0])|(x==lst_pr[1])|(x==lst_pr[2])|(x==lst_pr[3])|(x==lst_pr[4])\n",
        "\n",
        "lst_pk1 = []\n",
        "lst_pk2 = []\n",
        "\n",
        "for index,value in enumerate(df_nk):\n",
        "    filt_finding_key =  filter_try(df_nk.proponente.iloc[index])\n",
        "    result1 = str(df_pr.loc[filt_finding_key].prop_pk1.values).strip(\"[']\")\n",
        "    result2 = str(df_pr.loc[filt_finding_key].prop_pk2.values).strip(\"[']\")\n",
        "    print(result1)\n",
        "    print(result2)\n",
        "\n",
        "print(lst_pk1)"
      ]
    },
    {
      "cell_type": "code",
      "execution_count": 97,
      "metadata": {},
      "outputs": [],
      "source": [
        "# seq=difflib.SequenceMatcher(None, a,b)\n",
        "# d=seq.ratio()*100\n",
        "\n",
        "#lst_match = []\n",
        "#for pr_nk in df_nk.proponente:\n",
        "#    for pr_pk in df_pr.prop_pk1:\n",
        "#        result = SequenceMatcher(None,pr_nk,pr_pk)\n",
        "#        lst_match.append((pr_nk)result)\n",
        "#    print\n",
        "\n"
      ]
    },
    {
      "cell_type": "code",
      "execution_count": 126,
      "metadata": {},
      "outputs": [],
      "source": [
        "#df_folders\n",
        "lst_fd = [\n",
        "    ('FINANCEIRO','\\GESAC\\GESAC_2017\\ADMPP'),\n",
        "    ('SISGESAC',None)\n",
        "    ]\n",
        "\n",
        "fd = [fd for (pj,fd) in lst_fd]\n",
        "pj = [pj for (pj,fd) in lst_fd]\n",
        "df_folders = pd.DataFrame({'project':pj,'folder':fd})"
      ]
    },
    {
      "cell_type": "code",
      "execution_count": 127,
      "metadata": {},
      "outputs": [],
      "source": [
        "%rm -r Data_Dictionary\n",
        "%mkdir Data_Dictionary\n",
        "%mkdir Data_Dictionary/csv/\n",
        "%mkdir Data_Dictionary/xlsx/\n",
        "%mkdir Data_Dictionary/csv/Columns/\n",
        "%mkdir Data_Dictionary/xlsx/Columns/\n",
        "\n",
        "path = 'Data_Dictionary'\n",
        "\n",
        "for df in ('df_sheets', 'df_xlsx', 'df_folders'):\n",
        "    exec(f\"{df}.to_csv('{path}/csv/{df}.csv')\")\n",
        "    exec(f\"{df}.to_excel('{path}/xlsx/{df}.xlsx')\")\n",
        "\n",
        "\n",
        "path2 = 'Columns'\n",
        "\n",
        "for i, df  in enumerate(df_sheets['df_name']):\n",
        "       exec(f'df = {df}')\n",
        "       lst_cl = []\n",
        "       for cl in df.columns: lst_cl.append(cl)\n",
        "       dct = {'columns':lst_cl}\n",
        "       exec(f\"{df_sheets['df_name'][i]}_columns = pd.DataFrame(dct)\")\n",
        "       exec(f\"{df_sheets['df_name'][i]}_columns['descricao'] = '' \")\n",
        "       exec(f\"{df_sheets['df_name'][i]}_columns.to_csv('{path}/csv/{path2}/{df_sheets['sheet_name'][i]}_columns.csv')\")\n",
        "       exec(f\"{df_sheets['df_name'][i]}_columns.to_excel('{path}/xlsx/{path2}/{df_sheets['sheet_name'][i]}_columns.xlsx')\")"
      ]
    },
    {
      "cell_type": "code",
      "execution_count": 128,
      "metadata": {
        "colab": {
          "base_uri": "https://localhost:8080/"
        },
        "id": "wydYUhwXpfC3",
        "outputId": "a9425a49-6711-4212-c110-8a62f076218d"
      },
      "outputs": [
        {
          "name": "stdout",
          "output_type": "stream",
          "text": [
            "Time: The total time to run all the notebook was 0:00:37.812318.\n"
          ]
        }
      ],
      "source": [
        "final_time= str(timedelta(seconds= total_time)); print(f'Time: The total time to run all the notebook was {final_time}.')"
      ]
    },
    {
      "cell_type": "code",
      "execution_count": null,
      "metadata": {},
      "outputs": [],
      "source": []
    }
  ],
  "metadata": {
    "colab": {
      "collapsed_sections": [],
      "name": "controle_financeiro_gesac1 (1).ipynb",
      "provenance": []
    },
    "kernelspec": {
      "display_name": "Python 3",
      "name": "python3"
    },
    "language_info": {
      "codemirror_mode": {
        "name": "ipython",
        "version": 3
      },
      "file_extension": ".py",
      "mimetype": "text/x-python",
      "name": "python",
      "nbconvert_exporter": "python",
      "pygments_lexer": "ipython3",
      "version": "3.10.2"
    }
  },
  "nbformat": 4,
  "nbformat_minor": 0
}
